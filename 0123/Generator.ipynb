{
 "cells": [
  {
   "cell_type": "markdown",
   "id": "assumed-tuner",
   "metadata": {},
   "source": [
    "## 1. What is generator?"
   ]
  },
  {
   "cell_type": "markdown",
   "id": "reduced-ceiling",
   "metadata": {},
   "source": [
    "- `generator type`은 메모리에 모든 값을 저장해놓는 것이 아니라 주어져있는 크기만을 기억하고, **현재 값만을 저장**하고 있는 객체이다\n",
    "- 현재의 값만을 저장하고 있다가, 현재 값을 반환하게 되면 주소로만 기억하고 있던 다음 값을 저장하고 있는 상태가 된다.\n",
    "- 이를 반복하면 결국 모든 값을 다 반환했을 때, 남아있는 값이 없게 된다.\n",
    "- 따라서 아래 문제에서 루프를 한번 돌게 되면 그 이후 내보낼 값을 가지고 있지 않기 때문에 아무것도 출력하지 않는 것이다."
   ]
  },
  {
   "cell_type": "code",
   "execution_count": 16,
   "id": "offshore-romance",
   "metadata": {},
   "outputs": [],
   "source": [
    "# generator와 iterator의 차이\n",
    "GG = (i for i in range(10))\n",
    "LL = [L for L in range(10)]"
   ]
  },
  {
   "cell_type": "code",
   "execution_count": 17,
   "id": "continued-mattress",
   "metadata": {},
   "outputs": [
    {
     "name": "stdout",
     "output_type": "stream",
     "text": [
      "0\n",
      "1\n",
      "2\n",
      "3\n",
      "4\n",
      "5\n",
      "6\n",
      "7\n",
      "8\n",
      "9\n"
     ]
    }
   ],
   "source": [
    "# for loop를 1번 돌고나면 generator 내에는 더이상 남아있는 저장 값이 없음.\n",
    "for i in range(3):\n",
    "    for j in GG:\n",
    "        print(j)"
   ]
  },
  {
   "cell_type": "code",
   "execution_count": 18,
   "id": "bottom-serve",
   "metadata": {},
   "outputs": [
    {
     "name": "stdout",
     "output_type": "stream",
     "text": [
      "0\n",
      "1\n",
      "2\n",
      "3\n",
      "4\n",
      "5\n",
      "6\n",
      "7\n",
      "8\n",
      "9\n",
      "0\n",
      "1\n",
      "2\n",
      "3\n",
      "4\n",
      "5\n",
      "6\n",
      "7\n",
      "8\n",
      "9\n",
      "0\n",
      "1\n",
      "2\n",
      "3\n",
      "4\n",
      "5\n",
      "6\n",
      "7\n",
      "8\n",
      "9\n"
     ]
    }
   ],
   "source": [
    "for i in range(3):\n",
    "    for j in LL:\n",
    "        print(j)"
   ]
  },
  {
   "cell_type": "markdown",
   "id": "hybrid-pavilion",
   "metadata": {},
   "source": [
    "## 2. Why Generator?\n",
    "- generator expression vs list comprehension"
   ]
  },
  {
   "cell_type": "code",
   "execution_count": 27,
   "id": "indonesian-enhancement",
   "metadata": {},
   "outputs": [
    {
     "data": {
      "text/plain": [
       "50000000"
      ]
     },
     "execution_count": 27,
     "metadata": {},
     "output_type": "execute_result"
    }
   ],
   "source": [
    "mylist = list(range(500_000_000))\n",
    "len(mylist)"
   ]
  },
  {
   "cell_type": "code",
   "execution_count": 28,
   "id": "continental-missile",
   "metadata": {},
   "outputs": [
    {
     "name": "stdout",
     "output_type": "stream",
     "text": [
      "6.08 s ± 425 ms per loop (mean ± std. dev. of 7 runs, 1 loop each)\n"
     ]
    }
   ],
   "source": [
    "%timeit sum([i*2 for i in mylist]) # list comprehension"
   ]
  },
  {
   "cell_type": "code",
   "execution_count": 29,
   "id": "opposite-affect",
   "metadata": {},
   "outputs": [
    {
     "name": "stdout",
     "output_type": "stream",
     "text": [
      "5.6 s ± 424 ms per loop (mean ± std. dev. of 7 runs, 1 loop each)\n"
     ]
    }
   ],
   "source": [
    "%timeit sum(i*2 for i in mylist)  # generate expression"
   ]
  },
  {
   "cell_type": "markdown",
   "id": "piano-jenny",
   "metadata": {},
   "source": [
    "- Generator는 모든 값을 들고 있지 않고 다음값의 주소만을 가지고 있기 때문에 메모리 활용 면에서 이점이 있는 것을 1번에서 보았다.\n",
    "- 2번 결과를 보면 시간연산 면에서도 `iterator`를 앞서고 있는 것(list comprehension보다 이점이 있다)을 볼 수가 있다."
   ]
  }
 ],
 "metadata": {
  "kernelspec": {
   "display_name": "Python 3",
   "language": "python",
   "name": "python3"
  },
  "language_info": {
   "codemirror_mode": {
    "name": "ipython",
    "version": 3
   },
   "file_extension": ".py",
   "mimetype": "text/x-python",
   "name": "python",
   "nbconvert_exporter": "python",
   "pygments_lexer": "ipython3",
   "version": "3.8.5"
  }
 },
 "nbformat": 4,
 "nbformat_minor": 5
}
