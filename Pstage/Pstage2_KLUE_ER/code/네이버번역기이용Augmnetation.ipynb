{
 "cells": [
  {
   "cell_type": "markdown",
   "metadata": {},
   "source": [
    "# 구글번역기 오류가남 NonType Error"
   ]
  },
  {
   "cell_type": "code",
   "execution_count": 1,
   "metadata": {},
   "outputs": [],
   "source": [
    "# https://oopaque.tistory.com/157?category=867245"
   ]
  },
  {
   "cell_type": "code",
   "execution_count": 12,
   "metadata": {},
   "outputs": [],
   "source": [
    "import pandas as pd\n",
    "train = pd.read_csv('../input/data/train/train.tsv',sep='\\t',header=None)"
   ]
  },
  {
   "cell_type": "code",
   "execution_count": 14,
   "metadata": {},
   "outputs": [],
   "source": [
    "import json\n",
    "import urllib.request\n",
    "\n",
    "client_id = [\"y_akIZE9RibL_PiO1r9g\",\"Lpe3zIysf70wuoxXSrCs\",\"RdG6L2sYiCkvVS24vFu1\",\"UyDkdbTohAgWpY1K52ez\",\"VYlqdW2KFeCHZ603nn_A\",\"8s5vG5se6EBHXIKMlV_V\",\"g9XGS5MiIBwRjNwu6dpu\",\"h9deROmdJ54U2yL1UuV9\"]\n",
    "client_secret = [\"R4sPUeW7oJ\",\"rLvmmlJdcH\",\"iCJ3UYqcHz\",\"iaeo_12Upp\",\"mytzP5uZWy\",\"6yTFLMuZHA\",\"eIRqrhjOfX\",\"THe1VkzVCF\"]\n",
    "# client_id1 = \"y_akIZE9RibL_PiO1r9g\" # 개발자센터에서 발급받은 Client ID 값\n",
    "# client_secret1 = \"R4sPUeW7oJ\" # 개발자센터에서 발급받은 Client Secret 값"
   ]
  },
  {
   "cell_type": "code",
   "execution_count": 22,
   "metadata": {},
   "outputs": [
    {
     "data": {
      "text/plain": "'영국에서 사용되는 스포츠 유틸리티 자동차의 브랜드로는 랜드로버(Land Rover)와 지프(Jeep)가 있으며, 이 브랜드들은 자동차의 종류를 일컫는 말로 사용되기도 한다.'"
     },
     "execution_count": 22,
     "metadata": {},
     "output_type": "execute_result"
    }
   ],
   "source": [
    "train.iloc[0][1]"
   ]
  },
  {
   "cell_type": "code",
   "execution_count": 24,
   "metadata": {},
   "outputs": [
    {
     "name": "stdout",
     "output_type": "stream",
     "text": [
      "영국에서 사용되는 스포츠 유틸리티 자동차의 브랜드로는 랜드로버(Land Rover)와 지프(Jeep)가 있으며, 이 브랜드들은 자동차의 종류를 일컫는 말로 사용되기도 한다.\n",
      "イギリスで使われるスポーツユーティリティー自動車のブランドとしてはランドローバー(Land Rover)とジープ(Jeep)があり、これらのブランドは自動車の種類を指す言葉として使われている。\n",
      "영국에서 사용되는 스포츠 유틸리티 자동차 브랜드로는 랜드로버(Land Rover)와 지프(Jeep)가 있는데, 이들 브랜드는 자동차의 종류를 가리키는 말로 사용되고 있다.\n"
     ]
    }
   ],
   "source": [
    "raw_korText = \"영국에서 사용되는 스포츠 유틸리티 자동차의 브랜드로는 랜드로버(Land Rover)와 지프(Jeep)가 있으며, 이 브랜드들은 자동차의 종류를 일컫는 말로 사용되기도 한다.\"\n",
    "print(raw_korText)\n",
    "raw_korText = urllib.parse.quote(raw_korText)\n",
    "for_ja_data = \"source=ko&target=ja&text=\" + raw_korText\n",
    "url = \"https://openapi.naver.com/v1/papago/n2mt\"\n",
    "request = urllib.request.Request(url)\n",
    "\n",
    "# ID와 Secret Key 입력\n",
    "request.add_header(\"X-Naver-Client-Id\",client_id[0])\n",
    "request.add_header(\"X-Naver-Client-Secret\",client_secret[0])\n",
    "response = urllib.request.urlopen(request, data=for_ja_data.encode(\"utf-8\"))\n",
    "rescode = response.getcode()\n",
    "\n",
    "if(rescode==200):\n",
    "  response_body = response.read()\n",
    "  ja_text = json.loads(response_body)['message']['result']['translatedText']\n",
    "  print(ja_text)\n",
    "else:\n",
    "  print(\"Error Code:\" + rescode)\n",
    "\n",
    "to_kor_data = \"source=ja&target=ko&text=\" + ja_text\n",
    "response = urllib.request.urlopen(request, data=to_kor_data.encode(\"utf-8\"))\n",
    "rescode = response.getcode()\n",
    "if(rescode==200):\n",
    "  response_body = response.read()\n",
    "  result_ko_text = json.loads(response_body)['message']['result']['translatedText']\n",
    "  print(result_ko_text)\n",
    "else:\n",
    "  print(\"Error Code:\" + rescode)\n",
    "return result_ko_text"
   ]
  },
  {
   "cell_type": "code",
   "execution_count": 40,
   "metadata": {},
   "outputs": [],
   "source": [
    "import json\n",
    "import urllib.request\n",
    "\n",
    "client_id = [\"y_akIZE9RibL_PiO1r9g\",\"Lpe3zIysf70wuoxXSrCs\",\"RdG6L2sYiCkvVS24vFu1\"]\n",
    "client_secret = [\"R4sPUeW7oJ\",\"rLvmmlJdcH\",\"iCJ3UYqcHz\"]\n",
    "url = \"https://openapi.naver.com/v1/papago/n2mt\"\n",
    "\n",
    "def papago_for_new(raw_korText):  # raw_text는 string형태, source -> target 언어로 번역\n",
    "  raw_korText = urllib.parse.quote(raw_korText)\n",
    "  for_ja_data = \"source=ko&target=ja&text=\" + raw_korText\n",
    "  request = urllib.request.Request(url)\n",
    "  idx=0\n",
    "  while True:\n",
    "    try:\n",
    "      # ID와 Secret Key 입력\n",
    "      request.add_header(\"X-Naver-Client-Id\",client_id[idx])\n",
    "      request.add_header(\"X-Naver-Client-Secret\",client_secret[idx])\n",
    "      response = urllib.request.urlopen(request, data=for_ja_data.encode(\"utf-8\"))\n",
    "      rescode = response.getcode()\n",
    "\n",
    "      if(rescode==200):\n",
    "        response_body = response.read()\n",
    "        ja_text = json.loads(response_body)['message']['result']['translatedText']\n",
    "        # print(ja_text)\n",
    "      else:\n",
    "        print(\"Error Code:\" + rescode)\n",
    "\n",
    "      to_kor_data = \"source=ja&target=ko&text=\" + ja_text\n",
    "      response = urllib.request.urlopen(request, data=to_kor_data.encode(\"utf-8\"))\n",
    "      rescode = response.getcode()\n",
    "      if(rescode==200):\n",
    "        response_body = response.read()\n",
    "        result_ko_text = json.loads(response_body)['message']['result']['translatedText']\n",
    "        # print(result_ko_text)\n",
    "      else:\n",
    "        print(\"Error Code:\" + rescode)\n",
    "      return result_ko_text\n",
    "      break\n",
    "    except:\n",
    "      idx+=1\n",
    "      pass\n",
    "\n"
   ]
  },
  {
   "cell_type": "code",
   "execution_count": 28,
   "metadata": {},
   "outputs": [
    {
     "name": "stdout",
     "output_type": "stream",
     "text": [
      "選挙で民主党は解散前の230議席をはるかに下回る57議席（地方区27議席、比例代表30議席）の獲得にとどまった。\n",
      "선거에서 민주당은 해산전의 230석을 훨씬 밑도는 57석(지역구 27석, 비례대표 30석)의 획득에 머물렀다.\n",
      "False\n"
     ]
    }
   ],
   "source": [
    "raw_korText = train.iloc[1][1]\n",
    "result_ko_text = papago_for_new(raw_korText)\n",
    "print(raw_korText==result_ko_text)"
   ]
  },
  {
   "cell_type": "code",
   "execution_count": 37,
   "metadata": {},
   "outputs": [
    {
     "data": {
      "text/plain": "0                        wikipedia-12728-224-5-7-42-44\n1    선거에서 민주당은 해산 전 의석인 230석에 한참 못 미치는 57석(지역구 27석,...\n2                                                  민주당\n3                                                    5\n4                                                    7\n5                                                  27석\n6                                                   42\n7                                                   44\n8                                                관계_없음\nName: 1, dtype: object"
     },
     "execution_count": 37,
     "metadata": {},
     "output_type": "execute_result"
    }
   ],
   "source": [
    "train.iloc[1]"
   ]
  },
  {
   "cell_type": "code",
   "execution_count": 36,
   "metadata": {},
   "outputs": [
    {
     "data": {
      "text/plain": "'선거에서 민주당은 해산 전 의석인 230석에 한참 못 미치는 57석(지역구 27석, 비례대표 30석)을 획득하는 데 그쳤다.'"
     },
     "execution_count": 36,
     "metadata": {},
     "output_type": "execute_result"
    }
   ],
   "source": [
    "train.iloc[1][1]"
   ]
  },
  {
   "cell_type": "code",
   "execution_count": 41,
   "metadata": {},
   "outputs": [
    {
     "name": "stdout",
     "output_type": "stream",
     "text": [
      "선거에서 [민주당]은 해산 전 의석인 230석에 한참 못 미치는 57석(지역구 [27석], 비례대표 30석)을 획득하는 데 그쳤다.\n",
      "선거에서 민주당은 해산전의 230석에 훨씬 못 미치는 57석(지역구[27석], 비례대표 30석)을 얻는데 머물렀다.\n"
     ]
    }
   ],
   "source": [
    "raw_korText = '선거에서 [민주당]은 해산 전 의석인 230석에 한참 못 미치는 57석(지역구 [27석], 비례대표 30석)을 획득하는 데 그쳤다.'\n",
    "result_ko_text = papago_for_new(raw_korText)\n",
    "print(raw_korText)\n",
    "print(result_ko_text)\n"
   ]
  },
  {
   "cell_type": "code",
   "execution_count": 45,
   "metadata": {},
   "outputs": [
    {
     "data": {
      "text/plain": "관계_없음          4441\n단체:구성원          815\n인물:소속단체         679\n인물:직업/직함        553\n단체:상위_단체        335\n단체:별칭           231\n인물:출신성분/국적      209\n인물:동료           186\n단체:제작           165\n인물:부모님          164\n단체:본사_도시        136\n단체:본사_국가        115\n인물:별칭           103\n인물:배우자           92\n인물:자녀            84\n단체:하위_단체         80\n단체:창립일           67\n인물:기타_친족         58\n인물:제작            56\n인물:형제/자매/남매      52\n단체:창립자           45\n인물:사망_일시         45\n단체:모회사           44\n인물:출생_일시         36\n인물:거주_국가         27\n인물:거주_도시         26\n단체:본사_주(도)       23\n단체:정치/종교성향       18\n인물:종교            15\n단체:해산일           15\n인물:거주_주(도)       12\n인물:용의자           11\n단체:주주            11\n단체:구성원_수          9\n인물:학교             9\n인물:출생_국가          8\n인물:사망_원인          7\n인물:나이             5\n단체:자회사            5\n인물:출생_도시          4\n인물:사망_도시          3\n인물:사망_국가          1\nName: 8, dtype: int64"
     },
     "execution_count": 45,
     "metadata": {},
     "output_type": "execute_result"
    }
   ],
   "source": [
    "train.iloc[:,8].value_counts()"
   ]
  },
  {
   "cell_type": "code",
   "execution_count": 53,
   "metadata": {},
   "outputs": [
    {
     "data": {
      "text/plain": "6631    7월 1일에 다리우스 3세가 박트리아에서 베스에게 암살당했다.\nName: 1, dtype: object"
     },
     "execution_count": 53,
     "metadata": {},
     "output_type": "execute_result"
    }
   ],
   "source": []
  },
  {
   "cell_type": "code",
   "execution_count": 56,
   "metadata": {},
   "outputs": [
    {
     "data": {
      "text/html": "<div>\n<style scoped>\n    .dataframe tbody tr th:only-of-type {\n        vertical-align: middle;\n    }\n\n    .dataframe tbody tr th {\n        vertical-align: top;\n    }\n\n    .dataframe thead th {\n        text-align: right;\n    }\n</style>\n<table border=\"1\" class=\"dataframe\">\n  <thead>\n    <tr style=\"text-align: right;\">\n      <th></th>\n      <th>0</th>\n      <th>1</th>\n      <th>2</th>\n      <th>3</th>\n      <th>4</th>\n      <th>5</th>\n      <th>6</th>\n      <th>7</th>\n      <th>8</th>\n    </tr>\n  </thead>\n  <tbody>\n    <tr>\n      <th>6631</th>\n      <td>wikipedia-14464-241-6-12-15-18</td>\n      <td>7월 1일 다리우스 3세가 박트리아에서 베수스에게 암살되었다.</td>\n      <td>다리우스 3세</td>\n      <td>6</td>\n      <td>12</td>\n      <td>박트리아</td>\n      <td>15</td>\n      <td>18</td>\n      <td>인물:사망_국가</td>\n    </tr>\n  </tbody>\n</table>\n</div>",
      "text/plain": "                                   0                                   1  \\\n6631  wikipedia-14464-241-6-12-15-18  7월 1일 다리우스 3세가 박트리아에서 베수스에게 암살되었다.   \n\n            2  3   4     5   6   7         8  \n6631  다리우스 3세  6  12  박트리아  15  18  인물:사망_국가  "
     },
     "execution_count": 56,
     "metadata": {},
     "output_type": "execute_result"
    }
   ],
   "source": [
    "raw_korText"
   ]
  },
  {
   "cell_type": "code",
   "execution_count": 63,
   "metadata": {},
   "outputs": [
    {
     "name": "stdout",
     "output_type": "stream",
     "text": [
      "                                   0                                   1  \\\n",
      "6631  wikipedia-14464-241-6-12-15-18  7월 1일 다리우스 3세가 박트리아에서 베수스에게 암살되었다.   \n",
      "\n",
      "            2  3   4     5   6   7         8  \n",
      "6631  다리우스 3세  6  12  박트리아  15  18  인물:사망_국가  \n",
      "6631    7월 1일에 다리우스 3세가 박트리아에서 베스에게 암살당했다.\n",
      "dtype: object\n"
     ]
    }
   ],
   "source": [
    "label_name = '인물:사망_국가'\n",
    "raw_korText = train.loc[train[8]==label_name,:]\n",
    "result_ko_text = raw_korText.apply(lambda x: papago_for_new(x[1].replace()),axis=1)\n",
    "print(raw_korText)\n"
   ]
  },
  {
   "cell_type": "code",
   "execution_count": 64,
   "metadata": {},
   "outputs": [
    {
     "name": "stdout",
     "output_type": "stream",
     "text": [
      "6631    7월 1일에 다리우스 3세가 박트리아에서 베스에게 암살당했다.\n",
      "dtype: object\n"
     ]
    }
   ],
   "source": [
    "print(result_ko_text)"
   ]
  }
 ],
 "metadata": {
  "kernelspec": {
   "display_name": "Python 3.7.7 64-bit ('base': conda)",
   "name": "python377jvsc74a57bd098b0a9b7b4eaaa670588a142fd0a9b87eaafe866f1db4228be72b4211d12040f"
  },
  "language_info": {
   "codemirror_mode": {
    "name": "ipython",
    "version": 3
   },
   "file_extension": ".py",
   "mimetype": "text/x-python",
   "name": "python",
   "nbconvert_exporter": "python",
   "pygments_lexer": "ipython3",
   "version": "3.7.7"
  },
  "orig_nbformat": 2
 },
 "nbformat": 4,
 "nbformat_minor": 2
}