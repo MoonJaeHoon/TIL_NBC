{
 "cells": [
  {
   "cell_type": "code",
   "execution_count": 1,
   "metadata": {},
   "outputs": [],
   "source": [
    "import pandas as pd\n",
    "from pandas import Series\n",
    "from pandas import DataFrame\n",
    "\n",
    "import numpy as np"
   ]
  },
  {
   "cell_type": "markdown",
   "metadata": {},
   "source": [
    "### Built-in functions"
   ]
  },
  {
   "cell_type": "code",
   "execution_count": 2,
   "metadata": {},
   "outputs": [
    {
     "data": {
      "text/html": [
       "<div>\n",
       "<style scoped>\n",
       "    .dataframe tbody tr th:only-of-type {\n",
       "        vertical-align: middle;\n",
       "    }\n",
       "\n",
       "    .dataframe tbody tr th {\n",
       "        vertical-align: top;\n",
       "    }\n",
       "\n",
       "    .dataframe thead th {\n",
       "        text-align: right;\n",
       "    }\n",
       "</style>\n",
       "<table border=\"1\" class=\"dataframe\">\n",
       "  <thead>\n",
       "    <tr style=\"text-align: right;\">\n",
       "      <th></th>\n",
       "      <th>0</th>\n",
       "      <th>1</th>\n",
       "    </tr>\n",
       "  </thead>\n",
       "  <tbody>\n",
       "    <tr>\n",
       "      <th>earn</th>\n",
       "      <td>79571.299011</td>\n",
       "      <td>96396.988643</td>\n",
       "    </tr>\n",
       "    <tr>\n",
       "      <th>height</th>\n",
       "      <td>73.89</td>\n",
       "      <td>66.23</td>\n",
       "    </tr>\n",
       "    <tr>\n",
       "      <th>sex</th>\n",
       "      <td>male</td>\n",
       "      <td>female</td>\n",
       "    </tr>\n",
       "    <tr>\n",
       "      <th>race</th>\n",
       "      <td>white</td>\n",
       "      <td>white</td>\n",
       "    </tr>\n",
       "    <tr>\n",
       "      <th>ed</th>\n",
       "      <td>16</td>\n",
       "      <td>16</td>\n",
       "    </tr>\n",
       "    <tr>\n",
       "      <th>age</th>\n",
       "      <td>49</td>\n",
       "      <td>62</td>\n",
       "    </tr>\n",
       "  </tbody>\n",
       "</table>\n",
       "</div>"
      ],
      "text/plain": [
       "                   0             1\n",
       "earn    79571.299011  96396.988643\n",
       "height         73.89         66.23\n",
       "sex             male        female\n",
       "race           white         white\n",
       "ed                16            16\n",
       "age               49            62"
      ]
     },
     "execution_count": 2,
     "metadata": {},
     "output_type": "execute_result"
    }
   ],
   "source": [
    "df = pd.read_csv(\"wages.csv\")\n",
    "df.head(2).T  # 데이터 head볼때 Transpose"
   ]
  },
  {
   "cell_type": "code",
   "execution_count": 3,
   "metadata": {},
   "outputs": [
    {
     "data": {
      "text/html": [
       "<div>\n",
       "<style scoped>\n",
       "    .dataframe tbody tr th:only-of-type {\n",
       "        vertical-align: middle;\n",
       "    }\n",
       "\n",
       "    .dataframe tbody tr th {\n",
       "        vertical-align: top;\n",
       "    }\n",
       "\n",
       "    .dataframe thead th {\n",
       "        text-align: right;\n",
       "    }\n",
       "</style>\n",
       "<table border=\"1\" class=\"dataframe\">\n",
       "  <thead>\n",
       "    <tr style=\"text-align: right;\">\n",
       "      <th></th>\n",
       "      <th>earn</th>\n",
       "      <th>height</th>\n",
       "      <th>ed</th>\n",
       "      <th>age</th>\n",
       "    </tr>\n",
       "  </thead>\n",
       "  <tbody>\n",
       "    <tr>\n",
       "      <th>count</th>\n",
       "      <td>1379.000000</td>\n",
       "      <td>1379.000000</td>\n",
       "      <td>1379.000000</td>\n",
       "      <td>1379.000000</td>\n",
       "    </tr>\n",
       "    <tr>\n",
       "      <th>mean</th>\n",
       "      <td>32446.292622</td>\n",
       "      <td>66.592640</td>\n",
       "      <td>13.354605</td>\n",
       "      <td>45.328499</td>\n",
       "    </tr>\n",
       "    <tr>\n",
       "      <th>std</th>\n",
       "      <td>31257.070006</td>\n",
       "      <td>3.818108</td>\n",
       "      <td>2.438741</td>\n",
       "      <td>15.789715</td>\n",
       "    </tr>\n",
       "    <tr>\n",
       "      <th>min</th>\n",
       "      <td>-98.580489</td>\n",
       "      <td>57.340000</td>\n",
       "      <td>3.000000</td>\n",
       "      <td>22.000000</td>\n",
       "    </tr>\n",
       "    <tr>\n",
       "      <th>25%</th>\n",
       "      <td>10538.790721</td>\n",
       "      <td>63.720000</td>\n",
       "      <td>12.000000</td>\n",
       "      <td>33.000000</td>\n",
       "    </tr>\n",
       "    <tr>\n",
       "      <th>50%</th>\n",
       "      <td>26877.870178</td>\n",
       "      <td>66.050000</td>\n",
       "      <td>13.000000</td>\n",
       "      <td>42.000000</td>\n",
       "    </tr>\n",
       "    <tr>\n",
       "      <th>75%</th>\n",
       "      <td>44506.215336</td>\n",
       "      <td>69.315000</td>\n",
       "      <td>15.000000</td>\n",
       "      <td>55.000000</td>\n",
       "    </tr>\n",
       "    <tr>\n",
       "      <th>max</th>\n",
       "      <td>317949.127955</td>\n",
       "      <td>77.210000</td>\n",
       "      <td>18.000000</td>\n",
       "      <td>95.000000</td>\n",
       "    </tr>\n",
       "  </tbody>\n",
       "</table>\n",
       "</div>"
      ],
      "text/plain": [
       "                earn       height           ed          age\n",
       "count    1379.000000  1379.000000  1379.000000  1379.000000\n",
       "mean    32446.292622    66.592640    13.354605    45.328499\n",
       "std     31257.070006     3.818108     2.438741    15.789715\n",
       "min       -98.580489    57.340000     3.000000    22.000000\n",
       "25%     10538.790721    63.720000    12.000000    33.000000\n",
       "50%     26877.870178    66.050000    13.000000    42.000000\n",
       "75%     44506.215336    69.315000    15.000000    55.000000\n",
       "max    317949.127955    77.210000    18.000000    95.000000"
      ]
     },
     "execution_count": 3,
     "metadata": {},
     "output_type": "execute_result"
    }
   ],
   "source": [
    "df.describe()  # 다양한 기본 통계량을 보여줍니다."
   ]
  },
  {
   "cell_type": "code",
   "execution_count": 5,
   "metadata": {},
   "outputs": [
    {
     "data": {
      "text/plain": [
       "0       0\n",
       "1       0\n",
       "2       0\n",
       "3       1\n",
       "4       0\n",
       "       ..\n",
       "1374    0\n",
       "1375    0\n",
       "1376    0\n",
       "1377    0\n",
       "1378    0\n",
       "Name: race, Length: 1379, dtype: int64"
      ]
     },
     "execution_count": 5,
     "metadata": {},
     "output_type": "execute_result"
    }
   ],
   "source": [
    "key = df.race.unique()\n",
    "value = range(len(df.race.unique()))\n",
    "df[\"race\"].replace(to_replace=key, value=value)"
   ]
  },
  {
   "cell_type": "code",
   "execution_count": 6,
   "metadata": {},
   "outputs": [
    {
     "data": {
      "text/plain": [
       "['black', 'hispanic', 'other', 'white']"
      ]
     },
     "execution_count": 6,
     "metadata": {},
     "output_type": "execute_result"
    }
   ],
   "source": [
    "sorted(df[\"race\"].unique())"
   ]
  },
  {
   "cell_type": "code",
   "execution_count": 7,
   "metadata": {},
   "outputs": [
    {
     "data": {
      "text/plain": [
       "{0: 'black', 1: 'hispanic', 2: 'other', 3: 'white'}"
      ]
     },
     "execution_count": 7,
     "metadata": {},
     "output_type": "execute_result"
    }
   ],
   "source": [
    "# 그냥 enumerate 하고 dict 씌워준것\n",
    "dict(enumerate(sorted(df[\"race\"].unique())))"
   ]
  },
  {
   "cell_type": "code",
   "execution_count": 8,
   "metadata": {},
   "outputs": [
    {
     "name": "stdout",
     "output_type": "stream",
     "text": [
      "[['0' 'white']\n",
      " ['1' 'other']\n",
      " ['2' 'hispanic']\n",
      " ['3' 'black']]\n",
      "\n",
      "['0' '1' '2' '3']\n"
     ]
    }
   ],
   "source": [
    "print(np.array(list(enumerate(df[\"race\"].unique()))))\n",
    "print()\n",
    "\n",
    "print(np.array(list(enumerate(df[\"race\"].unique())))[:,0])"
   ]
  },
  {
   "cell_type": "code",
   "execution_count": 9,
   "metadata": {},
   "outputs": [
    {
     "data": {
      "text/plain": [
       "([0, 1, 2, 3], ['white', 'other', 'hispanic', 'black'])"
      ]
     },
     "execution_count": 9,
     "metadata": {},
     "output_type": "execute_result"
    }
   ],
   "source": [
    "value = list(map(int, np.array(list(enumerate(df[\"race\"].unique())))[:, 0].tolist()))\n",
    "key = np.array(list(enumerate(df[\"race\"].unique())), dtype=str)[:, 1].tolist()\n",
    "\n",
    "value, key"
   ]
  },
  {
   "cell_type": "code",
   "execution_count": 10,
   "metadata": {},
   "outputs": [
    {
     "data": {
      "text/plain": [
       "0       white\n",
       "1       white\n",
       "2       white\n",
       "3       other\n",
       "4       white\n",
       "        ...  \n",
       "1374    white\n",
       "1375    white\n",
       "1376    white\n",
       "1377    white\n",
       "1378    white\n",
       "Name: race, Length: 1379, dtype: object"
      ]
     },
     "execution_count": 10,
     "metadata": {},
     "output_type": "execute_result"
    }
   ],
   "source": [
    "df['race']"
   ]
  },
  {
   "cell_type": "code",
   "execution_count": 13,
   "metadata": {},
   "outputs": [],
   "source": [
    "# inplace =True 이기 때문에 값이 직접 대입되었다.\n",
    "df[\"race\"].replace(to_replace=key, value=value, inplace=True)"
   ]
  },
  {
   "cell_type": "code",
   "execution_count": 14,
   "metadata": {},
   "outputs": [
    {
     "data": {
      "text/plain": [
       "0       0\n",
       "1       0\n",
       "2       0\n",
       "3       1\n",
       "4       0\n",
       "       ..\n",
       "1374    0\n",
       "1375    0\n",
       "1376    0\n",
       "1377    0\n",
       "1378    0\n",
       "Name: race, Length: 1379, dtype: int64"
      ]
     },
     "execution_count": 14,
     "metadata": {},
     "output_type": "execute_result"
    }
   ],
   "source": [
    "df[\"race\"]"
   ]
  },
  {
   "cell_type": "code",
   "execution_count": 15,
   "metadata": {},
   "outputs": [
    {
     "data": {
      "text/plain": [
       "([0, 1], ['male', 'female'])"
      ]
     },
     "execution_count": 15,
     "metadata": {},
     "output_type": "execute_result"
    }
   ],
   "source": [
    "value = list(map(int, np.array(list(enumerate(df[\"sex\"].unique())))[:, 0].tolist()))\n",
    "key = np.array(list(enumerate(df[\"sex\"].unique())), dtype=str)[:, 1].tolist()\n",
    "\n",
    "value, key"
   ]
  },
  {
   "cell_type": "code",
   "execution_count": 16,
   "metadata": {},
   "outputs": [
    {
     "data": {
      "text/plain": [
       "0         male\n",
       "1       female\n",
       "2       female\n",
       "3       female\n",
       "4       female\n",
       "         ...  \n",
       "1374      male\n",
       "1375    female\n",
       "1376    female\n",
       "1377      male\n",
       "1378      male\n",
       "Name: sex, Length: 1379, dtype: object"
      ]
     },
     "execution_count": 16,
     "metadata": {},
     "output_type": "execute_result"
    }
   ],
   "source": [
    "df[\"sex\"]"
   ]
  },
  {
   "cell_type": "code",
   "execution_count": 17,
   "metadata": {},
   "outputs": [
    {
     "data": {
      "text/html": [
       "<div>\n",
       "<style scoped>\n",
       "    .dataframe tbody tr th:only-of-type {\n",
       "        vertical-align: middle;\n",
       "    }\n",
       "\n",
       "    .dataframe tbody tr th {\n",
       "        vertical-align: top;\n",
       "    }\n",
       "\n",
       "    .dataframe thead th {\n",
       "        text-align: right;\n",
       "    }\n",
       "</style>\n",
       "<table border=\"1\" class=\"dataframe\">\n",
       "  <thead>\n",
       "    <tr style=\"text-align: right;\">\n",
       "      <th></th>\n",
       "      <th>earn</th>\n",
       "      <th>height</th>\n",
       "      <th>sex</th>\n",
       "      <th>race</th>\n",
       "      <th>ed</th>\n",
       "      <th>age</th>\n",
       "    </tr>\n",
       "  </thead>\n",
       "  <tbody>\n",
       "    <tr>\n",
       "      <th>0</th>\n",
       "      <td>79571.299011</td>\n",
       "      <td>73.89</td>\n",
       "      <td>0</td>\n",
       "      <td>0</td>\n",
       "      <td>16</td>\n",
       "      <td>49</td>\n",
       "    </tr>\n",
       "    <tr>\n",
       "      <th>1</th>\n",
       "      <td>96396.988643</td>\n",
       "      <td>66.23</td>\n",
       "      <td>1</td>\n",
       "      <td>0</td>\n",
       "      <td>16</td>\n",
       "      <td>62</td>\n",
       "    </tr>\n",
       "    <tr>\n",
       "      <th>2</th>\n",
       "      <td>48710.666947</td>\n",
       "      <td>63.77</td>\n",
       "      <td>1</td>\n",
       "      <td>0</td>\n",
       "      <td>16</td>\n",
       "      <td>33</td>\n",
       "    </tr>\n",
       "    <tr>\n",
       "      <th>3</th>\n",
       "      <td>80478.096153</td>\n",
       "      <td>63.22</td>\n",
       "      <td>1</td>\n",
       "      <td>1</td>\n",
       "      <td>16</td>\n",
       "      <td>95</td>\n",
       "    </tr>\n",
       "    <tr>\n",
       "      <th>4</th>\n",
       "      <td>82089.345498</td>\n",
       "      <td>63.08</td>\n",
       "      <td>1</td>\n",
       "      <td>0</td>\n",
       "      <td>17</td>\n",
       "      <td>43</td>\n",
       "    </tr>\n",
       "  </tbody>\n",
       "</table>\n",
       "</div>"
      ],
      "text/plain": [
       "           earn  height  sex  race  ed  age\n",
       "0  79571.299011   73.89    0     0  16   49\n",
       "1  96396.988643   66.23    1     0  16   62\n",
       "2  48710.666947   63.77    1     0  16   33\n",
       "3  80478.096153   63.22    1     1  16   95\n",
       "4  82089.345498   63.08    1     0  17   43"
      ]
     },
     "execution_count": 17,
     "metadata": {},
     "output_type": "execute_result"
    }
   ],
   "source": [
    "df[\"sex\"].replace(to_replace=key, value=value, inplace=True)\n",
    "df.head(5)"
   ]
  },
  {
   "cell_type": "code",
   "execution_count": 18,
   "metadata": {},
   "outputs": [
    {
     "data": {
      "text/plain": [
       "0       79710.189011\n",
       "1       96541.218643\n",
       "2       48823.436947\n",
       "3       80652.316153\n",
       "4       82212.425498\n",
       "            ...     \n",
       "1374    30290.060363\n",
       "1375    25018.829514\n",
       "1376    13823.311312\n",
       "1377    95563.664410\n",
       "1378     9686.681857\n",
       "Length: 1379, dtype: float64"
      ]
     },
     "execution_count": 18,
     "metadata": {},
     "output_type": "execute_result"
    }
   ],
   "source": [
    "numueric_cols = [\"earn\", \"height\", \"ed\", \"age\"]\n",
    "df[numueric_cols].sum(axis=1)"
   ]
  },
  {
   "cell_type": "code",
   "execution_count": 21,
   "metadata": {},
   "outputs": [
    {
     "data": {
      "text/plain": [
       "0       79710.189011\n",
       "1       96541.218643\n",
       "2       48823.436947\n",
       "3       80652.316153\n",
       "4       82212.425498\n",
       "            ...     \n",
       "1374    30290.060363\n",
       "1375    25018.829514\n",
       "1376    13823.311312\n",
       "1377    95563.664410\n",
       "1378     9686.681857\n",
       "Length: 1379, dtype: float64"
      ]
     },
     "execution_count": 21,
     "metadata": {},
     "output_type": "execute_result"
    }
   ],
   "source": [
    "df.sum(axis=1)"
   ]
  },
  {
   "cell_type": "code",
   "execution_count": 26,
   "metadata": {},
   "outputs": [
    {
     "data": {
      "text/plain": [
       "earn      0.0\n",
       "height    0.0\n",
       "sex       0.0\n",
       "race      0.0\n",
       "ed        0.0\n",
       "age       0.0\n",
       "dtype: float64"
      ]
     },
     "execution_count": 26,
     "metadata": {},
     "output_type": "execute_result"
    }
   ],
   "source": [
    "df.isnull().sum() / len(df)"
   ]
  },
  {
   "cell_type": "code",
   "execution_count": 36,
   "metadata": {},
   "outputs": [],
   "source": [
    "pd.options.display.max_rows = 100"
   ]
  },
  {
   "cell_type": "code",
   "execution_count": 37,
   "metadata": {},
   "outputs": [
    {
     "data": {
      "text/html": [
       "<div>\n",
       "<style scoped>\n",
       "    .dataframe tbody tr th:only-of-type {\n",
       "        vertical-align: middle;\n",
       "    }\n",
       "\n",
       "    .dataframe tbody tr th {\n",
       "        vertical-align: top;\n",
       "    }\n",
       "\n",
       "    .dataframe thead th {\n",
       "        text-align: right;\n",
       "    }\n",
       "</style>\n",
       "<table border=\"1\" class=\"dataframe\">\n",
       "  <thead>\n",
       "    <tr style=\"text-align: right;\">\n",
       "      <th></th>\n",
       "      <th>earn</th>\n",
       "      <th>height</th>\n",
       "      <th>sex</th>\n",
       "      <th>race</th>\n",
       "      <th>ed</th>\n",
       "      <th>age</th>\n",
       "    </tr>\n",
       "  </thead>\n",
       "  <tbody>\n",
       "    <tr>\n",
       "      <th>1038</th>\n",
       "      <td>-56.321979</td>\n",
       "      <td>67.81</td>\n",
       "      <td>male</td>\n",
       "      <td>hispanic</td>\n",
       "      <td>10</td>\n",
       "      <td>22</td>\n",
       "    </tr>\n",
       "    <tr>\n",
       "      <th>800</th>\n",
       "      <td>-27.876819</td>\n",
       "      <td>72.29</td>\n",
       "      <td>male</td>\n",
       "      <td>white</td>\n",
       "      <td>12</td>\n",
       "      <td>22</td>\n",
       "    </tr>\n",
       "    <tr>\n",
       "      <th>963</th>\n",
       "      <td>-25.655260</td>\n",
       "      <td>68.90</td>\n",
       "      <td>male</td>\n",
       "      <td>white</td>\n",
       "      <td>12</td>\n",
       "      <td>22</td>\n",
       "    </tr>\n",
       "    <tr>\n",
       "      <th>1105</th>\n",
       "      <td>988.565070</td>\n",
       "      <td>64.71</td>\n",
       "      <td>female</td>\n",
       "      <td>white</td>\n",
       "      <td>12</td>\n",
       "      <td>22</td>\n",
       "    </tr>\n",
       "    <tr>\n",
       "      <th>801</th>\n",
       "      <td>1000.221504</td>\n",
       "      <td>64.09</td>\n",
       "      <td>female</td>\n",
       "      <td>white</td>\n",
       "      <td>12</td>\n",
       "      <td>22</td>\n",
       "    </tr>\n",
       "    <tr>\n",
       "      <th>...</th>\n",
       "      <td>...</td>\n",
       "      <td>...</td>\n",
       "      <td>...</td>\n",
       "      <td>...</td>\n",
       "      <td>...</td>\n",
       "      <td>...</td>\n",
       "    </tr>\n",
       "    <tr>\n",
       "      <th>993</th>\n",
       "      <td>32809.632677</td>\n",
       "      <td>59.61</td>\n",
       "      <td>female</td>\n",
       "      <td>other</td>\n",
       "      <td>16</td>\n",
       "      <td>92</td>\n",
       "    </tr>\n",
       "    <tr>\n",
       "      <th>102</th>\n",
       "      <td>39751.194030</td>\n",
       "      <td>67.14</td>\n",
       "      <td>male</td>\n",
       "      <td>white</td>\n",
       "      <td>12</td>\n",
       "      <td>93</td>\n",
       "    </tr>\n",
       "    <tr>\n",
       "      <th>331</th>\n",
       "      <td>39169.750135</td>\n",
       "      <td>64.79</td>\n",
       "      <td>female</td>\n",
       "      <td>white</td>\n",
       "      <td>12</td>\n",
       "      <td>95</td>\n",
       "    </tr>\n",
       "    <tr>\n",
       "      <th>809</th>\n",
       "      <td>42963.362005</td>\n",
       "      <td>72.94</td>\n",
       "      <td>male</td>\n",
       "      <td>white</td>\n",
       "      <td>12</td>\n",
       "      <td>95</td>\n",
       "    </tr>\n",
       "    <tr>\n",
       "      <th>3</th>\n",
       "      <td>80478.096153</td>\n",
       "      <td>63.22</td>\n",
       "      <td>female</td>\n",
       "      <td>other</td>\n",
       "      <td>16</td>\n",
       "      <td>95</td>\n",
       "    </tr>\n",
       "  </tbody>\n",
       "</table>\n",
       "<p>1379 rows × 6 columns</p>\n",
       "</div>"
      ],
      "text/plain": [
       "              earn  height     sex      race  ed  age\n",
       "1038    -56.321979   67.81    male  hispanic  10   22\n",
       "800     -27.876819   72.29    male     white  12   22\n",
       "963     -25.655260   68.90    male     white  12   22\n",
       "1105    988.565070   64.71  female     white  12   22\n",
       "801    1000.221504   64.09  female     white  12   22\n",
       "...            ...     ...     ...       ...  ..  ...\n",
       "993   32809.632677   59.61  female     other  16   92\n",
       "102   39751.194030   67.14    male     white  12   93\n",
       "331   39169.750135   64.79  female     white  12   95\n",
       "809   42963.362005   72.94    male     white  12   95\n",
       "3     80478.096153   63.22  female     other  16   95\n",
       "\n",
       "[1379 rows x 6 columns]"
      ]
     },
     "execution_count": 37,
     "metadata": {},
     "output_type": "execute_result"
    }
   ],
   "source": [
    "df.sort_values([\"age\", \"earn\"], ascending=True)"
   ]
  },
  {
   "cell_type": "code",
   "execution_count": 38,
   "metadata": {},
   "outputs": [
    {
     "data": {
      "text/html": [
       "<div>\n",
       "<style scoped>\n",
       "    .dataframe tbody tr th:only-of-type {\n",
       "        vertical-align: middle;\n",
       "    }\n",
       "\n",
       "    .dataframe tbody tr th {\n",
       "        vertical-align: top;\n",
       "    }\n",
       "\n",
       "    .dataframe thead th {\n",
       "        text-align: right;\n",
       "    }\n",
       "</style>\n",
       "<table border=\"1\" class=\"dataframe\">\n",
       "  <thead>\n",
       "    <tr style=\"text-align: right;\">\n",
       "      <th></th>\n",
       "      <th>earn</th>\n",
       "      <th>height</th>\n",
       "      <th>sex</th>\n",
       "      <th>race</th>\n",
       "      <th>ed</th>\n",
       "      <th>age</th>\n",
       "    </tr>\n",
       "  </thead>\n",
       "  <tbody>\n",
       "    <tr>\n",
       "      <th>3</th>\n",
       "      <td>80478.096153</td>\n",
       "      <td>63.22</td>\n",
       "      <td>female</td>\n",
       "      <td>other</td>\n",
       "      <td>16</td>\n",
       "      <td>95</td>\n",
       "    </tr>\n",
       "    <tr>\n",
       "      <th>331</th>\n",
       "      <td>39169.750135</td>\n",
       "      <td>64.79</td>\n",
       "      <td>female</td>\n",
       "      <td>white</td>\n",
       "      <td>12</td>\n",
       "      <td>95</td>\n",
       "    </tr>\n",
       "    <tr>\n",
       "      <th>809</th>\n",
       "      <td>42963.362005</td>\n",
       "      <td>72.94</td>\n",
       "      <td>male</td>\n",
       "      <td>white</td>\n",
       "      <td>12</td>\n",
       "      <td>95</td>\n",
       "    </tr>\n",
       "    <tr>\n",
       "      <th>102</th>\n",
       "      <td>39751.194030</td>\n",
       "      <td>67.14</td>\n",
       "      <td>male</td>\n",
       "      <td>white</td>\n",
       "      <td>12</td>\n",
       "      <td>93</td>\n",
       "    </tr>\n",
       "    <tr>\n",
       "      <th>993</th>\n",
       "      <td>32809.632677</td>\n",
       "      <td>59.61</td>\n",
       "      <td>female</td>\n",
       "      <td>other</td>\n",
       "      <td>16</td>\n",
       "      <td>92</td>\n",
       "    </tr>\n",
       "    <tr>\n",
       "      <th>1017</th>\n",
       "      <td>8942.806716</td>\n",
       "      <td>62.97</td>\n",
       "      <td>female</td>\n",
       "      <td>white</td>\n",
       "      <td>10</td>\n",
       "      <td>91</td>\n",
       "    </tr>\n",
       "    <tr>\n",
       "      <th>1192</th>\n",
       "      <td>39757.947210</td>\n",
       "      <td>64.79</td>\n",
       "      <td>male</td>\n",
       "      <td>white</td>\n",
       "      <td>16</td>\n",
       "      <td>90</td>\n",
       "    </tr>\n",
       "    <tr>\n",
       "      <th>952</th>\n",
       "      <td>8162.682672</td>\n",
       "      <td>58.09</td>\n",
       "      <td>female</td>\n",
       "      <td>white</td>\n",
       "      <td>5</td>\n",
       "      <td>89</td>\n",
       "    </tr>\n",
       "    <tr>\n",
       "      <th>827</th>\n",
       "      <td>55712.348432</td>\n",
       "      <td>70.13</td>\n",
       "      <td>male</td>\n",
       "      <td>white</td>\n",
       "      <td>9</td>\n",
       "      <td>88</td>\n",
       "    </tr>\n",
       "    <tr>\n",
       "      <th>1068</th>\n",
       "      <td>10861.092284</td>\n",
       "      <td>64.03</td>\n",
       "      <td>female</td>\n",
       "      <td>white</td>\n",
       "      <td>13</td>\n",
       "      <td>87</td>\n",
       "    </tr>\n",
       "  </tbody>\n",
       "</table>\n",
       "</div>"
      ],
      "text/plain": [
       "              earn  height     sex   race  ed  age\n",
       "3     80478.096153   63.22  female  other  16   95\n",
       "331   39169.750135   64.79  female  white  12   95\n",
       "809   42963.362005   72.94    male  white  12   95\n",
       "102   39751.194030   67.14    male  white  12   93\n",
       "993   32809.632677   59.61  female  other  16   92\n",
       "1017   8942.806716   62.97  female  white  10   91\n",
       "1192  39757.947210   64.79    male  white  16   90\n",
       "952    8162.682672   58.09  female  white   5   89\n",
       "827   55712.348432   70.13    male  white   9   88\n",
       "1068  10861.092284   64.03  female  white  13   87"
      ]
     },
     "execution_count": 38,
     "metadata": {},
     "output_type": "execute_result"
    }
   ],
   "source": [
    "df.sort_values(\"age\", ascending=False).head(10)"
   ]
  },
  {
   "cell_type": "code",
   "execution_count": 39,
   "metadata": {},
   "outputs": [
    {
     "data": {
      "text/plain": [
       "0.07400349177836055"
      ]
     },
     "execution_count": 39,
     "metadata": {},
     "output_type": "execute_result"
    }
   ],
   "source": [
    "df.age.corr(df.earn)  # 상관계수"
   ]
  },
  {
   "cell_type": "code",
   "execution_count": 43,
   "metadata": {},
   "outputs": [
    {
     "data": {
      "text/plain": [
       "0.31411788725189044"
      ]
     },
     "execution_count": 43,
     "metadata": {},
     "output_type": "execute_result"
    }
   ],
   "source": [
    "df.age[(df.age < 45) & (df.age > 15)].corr(df.earn)"
   ]
  },
  {
   "cell_type": "code",
   "execution_count": 44,
   "metadata": {},
   "outputs": [
    {
     "data": {
      "text/plain": [
       "36523.6992104089"
      ]
     },
     "execution_count": 44,
     "metadata": {},
     "output_type": "execute_result"
    }
   ],
   "source": [
    "df.age.cov(df.earn)  # 공분산"
   ]
  },
  {
   "cell_type": "code",
   "execution_count": 48,
   "metadata": {},
   "outputs": [],
   "source": [
    "df[\"sex_code\"] = df[\"sex\"].replace({\"male\": 1, \"female\": 0})"
   ]
  },
  {
   "cell_type": "code",
   "execution_count": 19,
   "metadata": {},
   "outputs": [
    {
     "data": {
      "text/html": [
       "<div>\n",
       "<style scoped>\n",
       "    .dataframe tbody tr th:only-of-type {\n",
       "        vertical-align: middle;\n",
       "    }\n",
       "\n",
       "    .dataframe tbody tr th {\n",
       "        vertical-align: top;\n",
       "    }\n",
       "\n",
       "    .dataframe thead th {\n",
       "        text-align: right;\n",
       "    }\n",
       "</style>\n",
       "<table border=\"1\" class=\"dataframe\">\n",
       "  <thead>\n",
       "    <tr style=\"text-align: right;\">\n",
       "      <th></th>\n",
       "      <th>earn</th>\n",
       "      <th>height</th>\n",
       "      <th>sex</th>\n",
       "      <th>race</th>\n",
       "      <th>ed</th>\n",
       "      <th>age</th>\n",
       "    </tr>\n",
       "  </thead>\n",
       "  <tbody>\n",
       "    <tr>\n",
       "      <th>earn</th>\n",
       "      <td>1.000000</td>\n",
       "      <td>0.291600</td>\n",
       "      <td>-0.337328</td>\n",
       "      <td>-0.063977</td>\n",
       "      <td>0.350374</td>\n",
       "      <td>0.074003</td>\n",
       "    </tr>\n",
       "    <tr>\n",
       "      <th>height</th>\n",
       "      <td>0.291600</td>\n",
       "      <td>1.000000</td>\n",
       "      <td>-0.703672</td>\n",
       "      <td>-0.045974</td>\n",
       "      <td>0.114047</td>\n",
       "      <td>-0.133727</td>\n",
       "    </tr>\n",
       "    <tr>\n",
       "      <th>sex</th>\n",
       "      <td>-0.337328</td>\n",
       "      <td>-0.703672</td>\n",
       "      <td>1.000000</td>\n",
       "      <td>0.000858</td>\n",
       "      <td>-0.061747</td>\n",
       "      <td>0.070036</td>\n",
       "    </tr>\n",
       "    <tr>\n",
       "      <th>race</th>\n",
       "      <td>-0.063977</td>\n",
       "      <td>-0.045974</td>\n",
       "      <td>0.000858</td>\n",
       "      <td>1.000000</td>\n",
       "      <td>-0.049487</td>\n",
       "      <td>-0.056879</td>\n",
       "    </tr>\n",
       "    <tr>\n",
       "      <th>ed</th>\n",
       "      <td>0.350374</td>\n",
       "      <td>0.114047</td>\n",
       "      <td>-0.061747</td>\n",
       "      <td>-0.049487</td>\n",
       "      <td>1.000000</td>\n",
       "      <td>-0.129802</td>\n",
       "    </tr>\n",
       "    <tr>\n",
       "      <th>age</th>\n",
       "      <td>0.074003</td>\n",
       "      <td>-0.133727</td>\n",
       "      <td>0.070036</td>\n",
       "      <td>-0.056879</td>\n",
       "      <td>-0.129802</td>\n",
       "      <td>1.000000</td>\n",
       "    </tr>\n",
       "  </tbody>\n",
       "</table>\n",
       "</div>"
      ],
      "text/plain": [
       "            earn    height       sex      race        ed       age\n",
       "earn    1.000000  0.291600 -0.337328 -0.063977  0.350374  0.074003\n",
       "height  0.291600  1.000000 -0.703672 -0.045974  0.114047 -0.133727\n",
       "sex    -0.337328 -0.703672  1.000000  0.000858 -0.061747  0.070036\n",
       "race   -0.063977 -0.045974  0.000858  1.000000 -0.049487 -0.056879\n",
       "ed      0.350374  0.114047 -0.061747 -0.049487  1.000000 -0.129802\n",
       "age     0.074003 -0.133727  0.070036 -0.056879 -0.129802  1.000000"
      ]
     },
     "execution_count": 19,
     "metadata": {},
     "output_type": "execute_result"
    }
   ],
   "source": [
    "df.corr()"
   ]
  },
  {
   "cell_type": "markdown",
   "metadata": {},
   "source": [
    "- corrwith 메소드를 사용하면 해당 column에 대하여 vs 모든열 과의 상관계수를 출력해줍니다."
   ]
  },
  {
   "cell_type": "code",
   "execution_count": 22,
   "metadata": {},
   "outputs": [
    {
     "data": {
      "text/plain": [
       "earn      1.000000\n",
       "height    0.291600\n",
       "sex      -0.337328\n",
       "race     -0.063977\n",
       "ed        0.350374\n",
       "age       0.074003\n",
       "dtype: float64"
      ]
     },
     "execution_count": 22,
     "metadata": {},
     "output_type": "execute_result"
    }
   ],
   "source": [
    "df.corrwith(df.earn)"
   ]
  },
  {
   "cell_type": "code",
   "execution_count": 23,
   "metadata": {},
   "outputs": [
    {
     "data": {
      "text/plain": [
       "1    859\n",
       "0    520\n",
       "Name: sex, dtype: int64"
      ]
     },
     "execution_count": 23,
     "metadata": {},
     "output_type": "execute_result"
    }
   ],
   "source": [
    "df.sex.value_counts(sort=True)"
   ]
  },
  {
   "cell_type": "code",
   "execution_count": null,
   "metadata": {},
   "outputs": [],
   "source": []
  }
 ],
 "metadata": {
  "anaconda-cloud": {},
  "kernelspec": {
   "display_name": "Python 3",
   "language": "python",
   "name": "python3"
  },
  "language_info": {
   "codemirror_mode": {
    "name": "ipython",
    "version": 3
   },
   "file_extension": ".py",
   "mimetype": "text/x-python",
   "name": "python",
   "nbconvert_exporter": "python",
   "pygments_lexer": "ipython3",
   "version": "3.8.5"
  }
 },
 "nbformat": 4,
 "nbformat_minor": 2
}
