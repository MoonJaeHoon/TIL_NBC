{
 "cells": [
  {
   "cell_type": "markdown",
   "id": "unsigned-amazon",
   "metadata": {},
   "source": [
    "# Is Pythonic Code Really Efficient? Why?\n",
    "> 효율이 좋다고 유명한건 알겠는데.. 구체적으로 어떻게 효율이 좋으며, 그럴 수 있는가?\n"
   ]
  },
  {
   "cell_type": "markdown",
   "id": "ultimate-mobile",
   "metadata": {},
   "source": [
    "## Cpu TIme을 직접 보자."
   ]
  },
  {
   "cell_type": "markdown",
   "id": "brutal-feedback",
   "metadata": {},
   "source": [
    "### ex1) List에 어떠한 값을 추가할 때의 예시들을 들어보겠다\n"
   ]
  },
  {
   "cell_type": "code",
   "execution_count": 20,
   "id": "developmental-monroe",
   "metadata": {},
   "outputs": [],
   "source": [
    "# list-comprehension\n",
    "def list_comprehension(x):\n",
    "    result = [i*i for i in range(x)]\n",
    "    return result\n",
    "\n",
    "def list_append(x):\n",
    "    result=[]\n",
    "    for i in range(x):\n",
    "        result.append(i*i)\n",
    "    return result\n",
    "\n",
    "def list_extend(x):\n",
    "    result = []\n",
    "    result.extend(i*i for i in range(x))\n",
    "    return result\n"
   ]
  },
  {
   "cell_type": "code",
   "execution_count": null,
   "id": "powerful-reader",
   "metadata": {},
   "outputs": [],
   "source": [
    "import cProfile # Cpu Time을 볼 수 있습니다."
   ]
  },
  {
   "cell_type": "code",
   "execution_count": 22,
   "id": "going-galaxy",
   "metadata": {},
   "outputs": [
    {
     "name": "stdout",
     "output_type": "stream",
     "text": [
      "         5 function calls in 16.079 seconds\n",
      "\n",
      "   Ordered by: standard name\n",
      "\n",
      "   ncalls  tottime  percall  cumtime  percall filename:lineno(function)\n",
      "        1    0.001    0.001   12.395   12.395 <ipython-input-20-50a3b396c8b8>:2(list_comprehension)\n",
      "        1   12.394   12.394   12.394   12.394 <ipython-input-20-50a3b396c8b8>:3(<listcomp>)\n",
      "        1    3.683    3.683   16.078   16.078 <string>:1(<module>)\n",
      "        1    0.001    0.001   16.079   16.079 {built-in method builtins.exec}\n",
      "        1    0.000    0.000    0.000    0.000 {method 'disable' of '_lsprof.Profiler' objects}\n",
      "\n",
      "\n",
      "         100000004 function calls in 33.958 seconds\n",
      "\n",
      "   Ordered by: standard name\n",
      "\n",
      "   ncalls  tottime  percall  cumtime  percall filename:lineno(function)\n",
      "        1   19.644   19.644   31.368   31.368 <ipython-input-20-50a3b396c8b8>:6(list_append)\n",
      "        1    2.582    2.582   33.950   33.950 <string>:1(<module>)\n",
      "        1    0.007    0.007   33.957   33.957 {built-in method builtins.exec}\n",
      "100000000   11.723    0.000   11.723    0.000 {method 'append' of 'list' objects}\n",
      "        1    0.000    0.000    0.000    0.000 {method 'disable' of '_lsprof.Profiler' objects}\n",
      "\n",
      "\n",
      "         100000006 function calls in 32.000 seconds\n",
      "\n",
      "   Ordered by: standard name\n",
      "\n",
      "   ncalls  tottime  percall  cumtime  percall filename:lineno(function)\n",
      "        1    0.000    0.000   29.513   29.513 <ipython-input-20-50a3b396c8b8>:12(list_extend)\n",
      "100000001   15.330    0.000   15.330    0.000 <ipython-input-20-50a3b396c8b8>:14(<genexpr>)\n",
      "        1    2.479    2.479   31.993   31.993 <string>:1(<module>)\n",
      "        1    0.007    0.007   32.000   32.000 {built-in method builtins.exec}\n",
      "        1    0.000    0.000    0.000    0.000 {method 'disable' of '_lsprof.Profiler' objects}\n",
      "        1   14.183   14.183   29.513   29.513 {method 'extend' of 'list' objects}\n",
      "\n",
      "\n"
     ]
    }
   ],
   "source": [
    "# call이 얼마나 불렸는지, 다음과 같이 시간이 얼마나 걸렸는지 볼 수 있습니다.\n",
    "\n",
    "if __name__  == \"__main__\":\n",
    "    import cProfile\n",
    "    cProfile.run('list_comprehension(100000000)')\n",
    "    cProfile.run('list_append(100000000)')\n",
    "    cProfile.run('list_extend(100000000)')\n",
    "    "
   ]
  },
  {
   "cell_type": "code",
   "execution_count": 26,
   "id": "employed-reverse",
   "metadata": {},
   "outputs": [],
   "source": [
    "# list-comprehension의 완승이다. 이유가 무엇일까?"
   ]
  },
  {
   "cell_type": "markdown",
   "id": "photographic-yukon",
   "metadata": {},
   "source": [
    "- function calls 횟수를 주목하면 된다.\n",
    "- 결국 함수의 호출이 몇번 되는가의 차이이고,\n",
    "- 이는 바로 전역변수를 찾고 지역변수를 찾고 하는 쓸데없는 과정이 추가가 되었다는 뜻일 것이다.\n",
    "- 다른 친구들은 N번 반복하지만, list comprehension은 한번으로 끝"
   ]
  },
  {
   "cell_type": "markdown",
   "id": "responsible-tribe",
   "metadata": {},
   "source": [
    "### ex2) Merging Dictionary"
   ]
  },
  {
   "cell_type": "markdown",
   "id": "internal-scope",
   "metadata": {},
   "source": [
    "- Memory Profiling은 iPython 환경에선 수행되지 않습니다.\n",
    "- 그리하여 Pythonic_Code_Memory_Usage.py 파일에서 이를 대신 수행하였습니다"
   ]
  },
  {
   "cell_type": "code",
   "execution_count": null,
   "id": "sensitive-gibraltar",
   "metadata": {},
   "outputs": [],
   "source": [
    "'''\n",
    "d1 = {i:i for i in range(10000000)}\n",
    "d2 = {j:j for j in range(10000001,20000000)}\n",
    "from memory_profiler import profile\n",
    "\n",
    "@profile(precision=4)\n",
    "def for_loop(d1, d2):\n",
    "    result = {}\n",
    "    \n",
    "    for k in d1:\n",
    "        result[k] = d1[k]\n",
    "    for k in d2:\n",
    "        result[k] = d2[k]\n",
    "        \n",
    "    return result\n",
    "\n",
    "@profile(precision=4)\n",
    "def update_method(d1,d2):\n",
    "    result = {}\n",
    "    result.update(d1)\n",
    "    result.update(d2)\n",
    "    return result\n",
    "\n",
    "@profile(precision=4)\n",
    "def dict_comprehension(d1,d2):\n",
    "    result = {k:v for d in [d1,d2] for k,v in d.items()}\n",
    "    return result\n",
    "\n",
    "@profile(precision=4)\n",
    "def dict_kwargs(d1,d2):\n",
    "    result = {**d1,**d2}\n",
    "    return result\n",
    "\n",
    "if __name__ == \"__main__\":\n",
    "    data1 = for_loop(d1,d2)\n",
    "    data2 = update_method(d1,d2)\n",
    "    data3 = dict_comprehension(d1,d2)\n",
    "    data4 = dict_kwargs(d1,d2)    '''"
   ]
  },
  {
   "cell_type": "markdown",
   "id": "residential-ridge",
   "metadata": {},
   "source": [
    "- Update Method와 keyword arguments가 가장 빨랐습니다.\n",
    "- For loop - For문도 돌아가야 하고, local 변수를 찾았다가 global 변수도 찾는 등 많은 Occurences를 발생시킵니다.\n",
    "- kwargs - 반면에, local 변수만 찾고 unpacking으로 수행하기 때문에 Occurences가 1번입니다.\n",
    "\n"
   ]
  },
  {
   "cell_type": "markdown",
   "id": "helpful-dictionary",
   "metadata": {},
   "source": [
    "### ex2) Str Formatting 하는 여러가지 방법"
   ]
  },
  {
   "cell_type": "code",
   "execution_count": 2,
   "id": "general-input",
   "metadata": {},
   "outputs": [],
   "source": [
    "def get_fstring(x):\n",
    "    return [f'Format {i}/{x}' for  i in range(x)]\n",
    "\n",
    "def get_formatted_string(x):\n",
    "    return ['Format {i}/{x}'.format(i=i,x=x) for  i in range(x)]\n",
    "\n",
    "def get_percented_string(x):\n",
    "    return ['Format %(i)d/%(x)d' % {'i':i, 'x':x} for  i in range(x)]"
   ]
  },
  {
   "cell_type": "code",
   "execution_count": 3,
   "id": "acceptable-monkey",
   "metadata": {
    "scrolled": false
   },
   "outputs": [
    {
     "name": "stdout",
     "output_type": "stream",
     "text": [
      "         5 function calls in 54.034 seconds\n",
      "\n",
      "   Ordered by: standard name\n",
      "\n",
      "   ncalls  tottime  percall  cumtime  percall filename:lineno(function)\n",
      "        1    0.003    0.003   45.480   45.480 <ipython-input-2-9508acec4fc4>:1(get_fstring)\n",
      "        1   45.477   45.477   45.477   45.477 <ipython-input-2-9508acec4fc4>:2(<listcomp>)\n",
      "        1    8.550    8.550   54.029   54.029 <string>:1(<module>)\n",
      "        1    0.004    0.004   54.033   54.033 {built-in method builtins.exec}\n",
      "        1    0.001    0.001    0.001    0.001 {method 'disable' of '_lsprof.Profiler' objects}\n",
      "\n",
      "\n",
      "         100000005 function calls in 91.966 seconds\n",
      "\n",
      "   Ordered by: standard name\n",
      "\n",
      "   ncalls  tottime  percall  cumtime  percall filename:lineno(function)\n",
      "        1    0.002    0.002   81.615   81.615 <ipython-input-2-9508acec4fc4>:4(get_formatted_string)\n",
      "        1   21.801   21.801   81.612   81.612 <ipython-input-2-9508acec4fc4>:5(<listcomp>)\n",
      "        1   10.342   10.342   91.956   91.956 <string>:1(<module>)\n",
      "        1    0.009    0.009   91.966   91.966 {built-in method builtins.exec}\n",
      "        1    0.000    0.000    0.000    0.000 {method 'disable' of '_lsprof.Profiler' objects}\n",
      "100000000   59.811    0.000   59.811    0.000 {method 'format' of 'str' objects}\n",
      "\n",
      "\n",
      "         5 function calls in 71.969 seconds\n",
      "\n",
      "   Ordered by: standard name\n",
      "\n",
      "   ncalls  tottime  percall  cumtime  percall filename:lineno(function)\n",
      "        1    0.002    0.002   63.683   63.683 <ipython-input-2-9508acec4fc4>:7(get_percented_string)\n",
      "        1   63.681   63.681   63.681   63.681 <ipython-input-2-9508acec4fc4>:8(<listcomp>)\n",
      "        1    8.280    8.280   71.964   71.964 <string>:1(<module>)\n",
      "        1    0.005    0.005   71.969   71.969 {built-in method builtins.exec}\n",
      "        1    0.000    0.000    0.000    0.000 {method 'disable' of '_lsprof.Profiler' objects}\n",
      "\n",
      "\n"
     ]
    }
   ],
   "source": [
    "import cProfile\n",
    "cProfile.run('get_fstring(100000000)')\n",
    "cProfile.run('get_formatted_string(100000000)')\n",
    "cProfile.run('get_percented_string(100000000)')\n"
   ]
  },
  {
   "cell_type": "code",
   "execution_count": null,
   "id": "difficult-ministry",
   "metadata": {},
   "outputs": [],
   "source": [
    "# f-string이 format보다 훨씬 빠릅니다."
   ]
  },
  {
   "cell_type": "markdown",
   "id": "hispanic-confirmation",
   "metadata": {},
   "source": [
    "- 이 역시 함수의 calls 횟수를 보면 현저하게 차이가 나는 것을 알 수 있습니다.\n",
    "- 이건 Why? 모두다 같은 문자열 formatting 같아보이는데?\n",
    "\n",
    "    - F-strings provide a way to embed expressions inside string literals, using a minimal syntax. It should be noted that an f-string is really an expression evaluated at run time, not a constant value\n",
    "    \n",
    "    - 출처 : https://www.python.org/dev/peps/pep-0498/\n",
    "    \n",
    "    - F는 상수값이 아닌 런타임에서 평가되는 표현값이다. 라는 말이다.\n",
    "    - 나는 이를 그냥 \"format 함수도 결국 call function에 의해서 호출되고 지역변수와 전역변수를 찾으니까\" 그런 것 아닐까? 라고 이해하였다."
   ]
  },
  {
   "cell_type": "code",
   "execution_count": null,
   "id": "quantitative-spiritual",
   "metadata": {},
   "outputs": [],
   "source": []
  }
 ],
 "metadata": {
  "kernelspec": {
   "display_name": "Python 3",
   "language": "python",
   "name": "python3"
  },
  "language_info": {
   "codemirror_mode": {
    "name": "ipython",
    "version": 3
   },
   "file_extension": ".py",
   "mimetype": "text/x-python",
   "name": "python",
   "nbconvert_exporter": "python",
   "pygments_lexer": "ipython3",
   "version": "3.8.7"
  },
  "toc": {
   "base_numbering": 1,
   "nav_menu": {},
   "number_sections": true,
   "sideBar": true,
   "skip_h1_title": false,
   "title_cell": "Table of Contents",
   "title_sidebar": "Contents",
   "toc_cell": false,
   "toc_position": {
    "height": "calc(100% - 180px)",
    "left": "10px",
    "top": "150px",
    "width": "165px"
   },
   "toc_section_display": true,
   "toc_window_display": false
  }
 },
 "nbformat": 4,
 "nbformat_minor": 5
}
