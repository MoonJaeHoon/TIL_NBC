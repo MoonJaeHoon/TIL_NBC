{
 "cells": [
  {
   "cell_type": "markdown",
   "metadata": {},
   "source": [
    "# train 특수기호 전처리\n",
    "\n",
    "- 처음엔 apply 로 빠르게 처리하고 넘어갔었는데 이렇게 하면 start_index와 end_index가 바뀐다는 것을 고려하지 못했었습니다..\n",
    "- 그래서 apply 적용 후, .index() 메소드를 사용하려 했지만.. 해당 entity가 문장에 2번 나오는 경우도 있어서\n",
    "- 어쩔수없이 하나하나 전처리로 고쳐나갔습니다."
   ]
  },
  {
   "cell_type": "code",
   "execution_count": 57,
   "metadata": {},
   "outputs": [],
   "source": [
    "import pandas as pd\n",
    "train = pd.read_csv(\"../input/data/train/train.tsv\",sep='\\t',header=None)\n",
    "test = pd.read_csv(\"../input/data/test/test.tsv\",sep='\\t',header=None)\n"
   ]
  },
  {
   "cell_type": "code",
   "execution_count": 58,
   "metadata": {},
   "outputs": [],
   "source": [
    "def num_punc(data,pattern):\n",
    "  return sum(data[1].apply(lambda x: True if pattern in x else False))\n",
    "punc_list = [\"『\",\"』\",\"=\",\"+\",\"#\",\"/\",\"\\\\\",\"?\",\":\",\";\",\"^\",\"$\",\".\",\"@\",\"*\",\"\\\"\",\"※\",\"~\",\"&\",\"%\",\"·\",\"!\",\"|\",\"(\",\")\",\"{\",\"}\",\"[\",\"]\",\"<\",\">\",\"`\",\"\\'\",\"《\",\"》\",\"…\"]\n",
    "\n",
    "train_num_punc_dict = {punc:num_punc(train,punc) for punc in punc_list}\n",
    "test_num_punc_dict = {punc:num_punc(test,punc) for punc in punc_list}\n",
    "\n",
    "tr_no_punc=[punc for punc in punc_list if num_punc(train,punc)==0]\n",
    "tr_exist_punc=[punc for punc in punc_list if num_punc(train,punc)!=0]\n",
    "\n",
    "te_no_punc=[punc for punc in punc_list if num_punc(test,punc)==0]\n",
    "te_exist_punc=[punc for punc in punc_list if num_punc(test,punc)!=0]"
   ]
  },
  {
   "cell_type": "code",
   "execution_count": 59,
   "metadata": {},
   "outputs": [
    {
     "name": "stdout",
     "output_type": "stream",
     "text": [
      "train과 test 모두 없는 기호들 : ['{', '<', '>', '\\\\', '+', '}', '?', '^', '#', '…', '※', '@']\n",
      "train에만 있고 test에 없는 기호들 : ['`', '『', '*', '$', '=', '』']\n",
      "test에만 있고 train에 없는 기호들 : []\n",
      "train과 test 모두 있는 기호들 : [']', '.', '[', '》', \"'\", '&', '~', '\"', '(', '!', ';', ')', '/', ':', '《', '|', '·', '%']\n",
      "외부데이터 추가시에 포함되어선 안될 특수기호들 : ['{', '<', '>', '`', '『', '\\\\', '*', '+', '$', '?', '}', '^', '#', '…', '=', '※', '@', '』']\n"
     ]
    }
   ],
   "source": [
    "# for k,v in train_num_punc_dict.items():\n",
    "#   print(f\"{k} : {v}개\")\n",
    "\n",
    "print(f\"train과 test 모두 없는 기호들 : {list(set(tr_no_punc)&set(te_no_punc))}\")\n",
    "print(f\"train에만 있고 test에 없는 기호들 : {list(set(tr_exist_punc)-set(te_exist_punc))}\")\n",
    "print(f\"test에만 있고 train에 없는 기호들 : {list(set(te_exist_punc)-set(tr_exist_punc))}\")\n",
    "print(f\"train과 test 모두 있는 기호들 : {list(set(tr_exist_punc)&set(te_exist_punc))}\")\n",
    "\n",
    "print(f\"외부데이터 추가시에 포함되어선 안될 특수기호들 : {list(set(punc_list)-set(te_exist_punc))}\")"
   ]
  },
  {
   "cell_type": "code",
   "execution_count": 60,
   "metadata": {},
   "outputs": [],
   "source": [
    "new_train = train.copy()"
   ]
  },
  {
   "cell_type": "markdown",
   "metadata": {},
   "source": [
    "## 1. * 은 (4개) \n",
    "replace('*','')로 단순 제거해주면 됨"
   ]
  },
  {
   "cell_type": "code",
   "execution_count": 61,
   "metadata": {},
   "outputs": [
    {
     "data": {
      "text/plain": "'2012년 10월 18일에는 B*Witched가 ITV2의 텔레비전 리얼리티 다큐멘터리 시리즈 《더 빅 리유니언》(The Big Reunion)에 출연하기 위하여 당대의 다른 5개의 팝 음악 그룹인 허니즈(Honeyz), 911, 리버티 X(Liberty X), 5ive, 아토믹 키튼(Atomic Kitten)와 함께 재결합할 것이라는 보도가 전해졌다.'"
     },
     "execution_count": 61,
     "metadata": {},
     "output_type": "execute_result"
    }
   ],
   "source": [
    "new_train.iloc[3825,:]\n",
    "new_train.iloc[3825,1]"
   ]
  },
  {
   "cell_type": "code",
   "execution_count": 62,
   "metadata": {},
   "outputs": [],
   "source": [
    "new_train.iloc[3825,1] = new_train.iloc[3825,1].replace('*','')\n",
    "new_train.iloc[3825,2] = new_train.iloc[3825,2].replace('*','')\n",
    "new_train.iloc[3825,[4,6,7]] -= 1"
   ]
  },
  {
   "cell_type": "code",
   "execution_count": 63,
   "metadata": {},
   "outputs": [],
   "source": [
    "new_train.iloc[2304,1] = new_train.iloc[2304,1].replace('*','')\n",
    "# new_train.iloc[2304,5] = new_train.iloc[2304,5].replace('*','')\n",
    "new_train.iloc[2304,[3,4,6,7]] -= 4"
   ]
  },
  {
   "cell_type": "code",
   "execution_count": 64,
   "metadata": {},
   "outputs": [],
   "source": [
    "new_train.iloc[2243,1] = new_train.iloc[2243,1].replace('*','')\n",
    "# new_train.iloc[2243,5] = new_train.iloc[2243,5].replace('*','')\n",
    "# new_train.iloc[2243,7] = 46"
   ]
  },
  {
   "cell_type": "code",
   "execution_count": 65,
   "metadata": {},
   "outputs": [],
   "source": [
    "new_train.iloc[1624,1] = new_train.iloc[1624,1].replace('*','')\n",
    "new_train.iloc[1624,5] = new_train.iloc[1624,5].replace('*','')\n",
    "new_train.iloc[1624,7] = 46"
   ]
  },
  {
   "cell_type": "code",
   "execution_count": 66,
   "metadata": {},
   "outputs": [],
   "source": [
    "# new_train[1] = new_train[1].apply(lambda x: x.replace('*',''))"
   ]
  },
  {
   "cell_type": "markdown",
   "metadata": {},
   "source": [
    "## 2. = (데이터 2개)\n",
    "\n",
    "replace('本方=일본','일본') 이건 놔두기\n",
    "\n",
    "replace('시마즈=아리마','시마즈-아리마')\n"
   ]
  },
  {
   "cell_type": "code",
   "execution_count": 67,
   "metadata": {},
   "outputs": [],
   "source": [
    "new_train[1] = new_train[1].apply(lambda x: x.replace('시마즈=아리마','시마즈-아리마'))"
   ]
  },
  {
   "cell_type": "code",
   "execution_count": 68,
   "metadata": {},
   "outputs": [
    {
     "data": {
      "text/plain": "array(['wikipedia-2934-12-36-43-10-15',\n       '1584년 일어난 오키타나와테 전투에서 당시 류조지 가문의 당주 류조지 다카노부가 시마즈-아리마 연합군에 패사하였다.',\n       '류조지 다카노부', 36, 43, '오키타나와테', 10, 15, '인물:사망_원인'], dtype=object)"
     },
     "execution_count": 68,
     "metadata": {},
     "output_type": "execute_result"
    }
   ],
   "source": [
    "new_train.iloc[7213].values"
   ]
  },
  {
   "cell_type": "markdown",
   "metadata": {},
   "source": [
    "## 3. 『랑  』(쌍으로 8개)\n",
    "『 는 replace('『','《') 이중꺾쇠로 바꾸자\n",
    "\n",
    "』 는 replace('』','》') 이중꺾쇠로 바꾸자"
   ]
  },
  {
   "cell_type": "code",
   "execution_count": 69,
   "metadata": {},
   "outputs": [],
   "source": [
    "new_train[1] = new_train[1].apply(lambda x: x.replace('『','《').replace('』','》'))"
   ]
  },
  {
   "cell_type": "markdown",
   "metadata": {},
   "source": [
    "## 4. $ (5개)\n",
    "\n",
    "R$ 는 replace('R$','금액') 으로 대체하자.\n",
    "\n",
    "AU$ 는 replace('AU$','금액') 으로 대체하자.\n",
    "\n",
    "$ 는 replace('$','금액') 으로 대체하자.\n"
   ]
  },
  {
   "cell_type": "code",
   "execution_count": 70,
   "metadata": {},
   "outputs": [
    {
     "data": {
      "text/plain": "Int64Index([401, 525, 1412, 5913, 7795], dtype='int64')"
     },
     "execution_count": 70,
     "metadata": {},
     "output_type": "execute_result"
    }
   ],
   "source": [
    "new_train.loc[new_train[1].apply(lambda x: True if '$' in x else False)].index"
   ]
  },
  {
   "cell_type": "code",
   "execution_count": 71,
   "metadata": {},
   "outputs": [
    {
     "data": {
      "text/plain": "array(['wikipedia-2209-59-5-6-20-22',\n       '위원회는 정부의 공식적인 사과와 각 생존자에게 $20,000의 보상을 지불하는 등의 법적인 구제를 권장하였다.',\n       '정부', 5, 6, '생존자', 20, 22, '관계_없음'], dtype=object)"
     },
     "execution_count": 71,
     "metadata": {},
     "output_type": "execute_result"
    }
   ],
   "source": [
    "new_train.iloc[7795].values"
   ]
  },
  {
   "cell_type": "code",
   "execution_count": 73,
   "metadata": {},
   "outputs": [
    {
     "data": {
      "text/plain": "'위원회는 정부의 공식적인 사과와 각 생존자에게 금액20,000의 보상을 지불하는 등의 법적인 구제를 권장하였다.'"
     },
     "execution_count": 73,
     "metadata": {},
     "output_type": "execute_result"
    }
   ],
   "source": [
    "new_train.iloc[7795,1] = new_train.iloc[7795,1].replace('$','금액')\n",
    "new_train.iloc[7795,1]"
   ]
  },
  {
   "cell_type": "code",
   "execution_count": 74,
   "metadata": {},
   "outputs": [
    {
     "data": {
      "text/plain": "'그는 Ludacris(루다크리스)와 폰티액 간에 금액1,200만 캠페인 거래를 중개하여 자신의 마케팅 비즈니스를 시작하였고, Pontiac의 광고에는 노래가 나오는 한편, Ludacris의 1시간에 2마일\" 뮤직 비디오에는 Pontiac이 나오게 된다.'"
     },
     "execution_count": 74,
     "metadata": {},
     "output_type": "execute_result"
    }
   ],
   "source": [
    "new_train.iloc[5913,1] = new_train.iloc[5913,1].replace('$','금액')\n",
    "new_train.iloc[5913,1]"
   ]
  },
  {
   "cell_type": "code",
   "execution_count": 76,
   "metadata": {},
   "outputs": [
    {
     "data": {
      "text/plain": "'필리포 인차기 신임 감독의 계획에서 제외되었음에도 불구하고, 이탈리아 구단 측이 호비뉴의 주급을 지불하고 \"물고기 군단\"측이 월급으로 금액400,000을 부담하고, 밀란이 금액400,000을 책임질 것으로 발표되었다.'"
     },
     "execution_count": 76,
     "metadata": {},
     "output_type": "execute_result"
    }
   ],
   "source": [
    "new_train.iloc[1412,1] = new_train.iloc[1412,1].replace('R$','금액')\n",
    "new_train.iloc[1412,1]"
   ]
  },
  {
   "cell_type": "code",
   "execution_count": 77,
   "metadata": {},
   "outputs": [
    {
     "data": {
      "text/plain": "'2011년 7월 비도시치는 금액320,000의 이적료로 A리그 애들레이드 유나이티드 FC와 3년 계약을 맺으며, 오스트레일리아로 복귀했다.'"
     },
     "execution_count": 77,
     "metadata": {},
     "output_type": "execute_result"
    }
   ],
   "source": [
    "new_train.iloc[525,1] = new_train.iloc[525,1].replace('AU$','금액')\n",
    "new_train.iloc[525,[3,4,6,7]] -= 1\n",
    "new_train.iloc[525,1]"
   ]
  },
  {
   "cell_type": "code",
   "execution_count": 78,
   "metadata": {},
   "outputs": [
    {
     "data": {
      "text/plain": "'이지연 신영증권 연구원은 “SK이노베이션의 올해 1분기 영업이익은 -1180억원으로 적자가 불가피할 전망”이라며 “코로나19의 영향으로 운송수요가 급감하였으며, 평년보다 따뜻한 날씨로 정제마진은 지난해 4분기 금액2.1에서 올해 1분기 금액0.5로 하락한 상황”이라고 말했다.'"
     },
     "execution_count": 78,
     "metadata": {},
     "output_type": "execute_result"
    }
   ],
   "source": [
    "new_train.iloc[401,1] = new_train.iloc[401,1].replace('$','금액')\n",
    "new_train.iloc[401,1]"
   ]
  },
  {
   "cell_type": "code",
   "execution_count": 468,
   "metadata": {},
   "outputs": [],
   "source": [
    "# new_train[1] = new_train[1].apply(lambda x: x.replace('R$','금액').replace('AU$','금액').replace('$','금액'))"
   ]
  },
  {
   "cell_type": "markdown",
   "metadata": {},
   "source": [
    "## 5. ` (7개)\n",
    "\n",
    "replace(\"괴물 신인`\",\"괴물 신인\")\n",
    "\n",
    "나머진 replace(\"`\",\"'\") 로 대체하자"
   ]
  },
  {
   "cell_type": "code",
   "execution_count": 34,
   "metadata": {},
   "outputs": [
    {
     "data": {
      "text/plain": "Int64Index([2482, 5071, 6075, 6237, 6560, 6801, 8482], dtype='int64')"
     },
     "execution_count": 34,
     "metadata": {},
     "output_type": "execute_result"
    }
   ],
   "source": [
    "new_train.loc[new_train[1].apply(lambda x: True if '`' in x else False)].index"
   ]
  },
  {
   "cell_type": "code",
   "execution_count": 79,
   "metadata": {},
   "outputs": [
    {
     "data": {
      "text/plain": "\"괴물 신인 ITZY(있지)가 JYP엔터테인먼트(이하 JYP) 박진영 대표가 작사, 작곡한 `ICY(아이씨)'로 컴백한다.\""
     },
     "execution_count": 79,
     "metadata": {},
     "output_type": "execute_result"
    }
   ],
   "source": [
    "new_train.iloc[5071,1] = new_train.iloc[5071,1].replace(\"괴물 신인`\",\"괴물 신인\")\n",
    "new_train.iloc[5071,[3,4,6,7]] -= 1\n",
    "new_train.iloc[5071,1]"
   ]
  },
  {
   "cell_type": "code",
   "execution_count": 80,
   "metadata": {},
   "outputs": [],
   "source": [
    "new_train[1] = new_train[1].apply(lambda x: x.replace(\"`\",\"'\"))"
   ]
  },
  {
   "cell_type": "markdown",
   "metadata": {},
   "source": [
    "##  Augmentation\n",
    "Minority Class에 대해서만 적용하였습니다.\n",
    "\n",
    "### 1. 대체어로 replace 채워넣기\n",
    "- 동의어 혹은 유사어를 통해 채워넣는 방법도 생각해봤지만, 인물이라는 특성상 이는 합리적이지 않다고 결론내림\n",
    "- 이 방법은 train의 다른 라벨을 가지는 데이터에서 단어를 가져오는 것이기 때문에,\n",
    "- 학습시 해당 entity에 대한 noise로 작용하여 일반화 성능을 높일 수 있는 좋은 방법일 것이라고 생각함\n",
    "\n",
    "### 2. Pororo 번역\n",
    "- 번역으로(중국어, 일본어를 경유하는) augmentation\n",
    "- 번역을 거치며 해당 데이터에 Noise가 생성되고 train valid split을 통해 Noise를 모델이 Denosing하기를 기대해볼 수 있다.\n",
    "- 하지만 그 의미가 유사하며, entity의 변화도 없기 때문에 Data Leakage Issue가 있다고 볼 수도 있다.\n",
    "- 현재 Task에서는 Minority Class에 대해 따로 Penalty가 적용되는 metric이 아니어서 이렇다 하더라도 별 위험은 없다.\n",
    "- 모든 라벨을 고르게 맞추기 위한 목적의 프로젝트였다면?\n"
   ]
  },
  {
   "cell_type": "code",
   "execution_count": 82,
   "metadata": {},
   "outputs": [
    {
     "name": "stdout",
     "output_type": "stream",
     "text": [
      "레오나르도\n",
      "나빌 페키르\n",
      "루다크리스\n",
      "강지환\n"
     ]
    }
   ],
   "source": [
    "import re\n",
    "person_nick = new_train.loc[new_train.iloc[:,8]=='인물:별칭',2]\n",
    "# 한글로 쓰여진 인물 이름 중에 2명 무작위로 고름\n",
    "person_nick = person_nick.loc[person_nick.apply(lambda x: True if not re.match(r'[^가-힣]',x) else False)]\n",
    "import random\n",
    "random.seed(1234)\n",
    "idx1,idx2,idx3,idx4 = random.sample(range(len(person_nick)),4)\n",
    "\n",
    "person1 = person_nick.values[idx1]\n",
    "person2 = person_nick.values[idx2]\n",
    "person3 = person_nick.values[idx3]\n",
    "person4 = person_nick.values[idx4]\n",
    "print(person1)\n",
    "print(person2)\n",
    "print(person3)\n",
    "print(person4)\n"
   ]
  },
  {
   "cell_type": "code",
   "execution_count": 83,
   "metadata": {},
   "outputs": [],
   "source": [
    "def add_data_replace_person(data,label):\n",
    "  the_label_data = data.loc[data.iloc[:,8]==label,:]\n",
    "  new_sentence1 = the_label_data.apply(lambda x: x.iloc[1].replace(x.iloc[2],person1),axis=1)\n",
    "  new_data1 = the_label_data.copy()\n",
    "  new_data1.iloc[:,1] = new_sentence1\n",
    "  new_data1.iloc[:,2] = person1\n",
    "  if the_label_data.shape[0]>=3:\n",
    "    return new_data1\n",
    "  new_sentence2 = the_label_data.apply(lambda x: x.iloc[1].replace(x.iloc[2],person2),axis=1)\n",
    "  new_data2 = the_label_data.copy()\n",
    "  new_data2.iloc[:,1] = new_sentence2\n",
    "  new_data2.iloc[:,2] = person2\n",
    "  if the_label_data.shape[0]>=2:\n",
    "    return pd.concat([new_data1,new_data2],axis=0)\n",
    "  new_sentence3 = the_label_data.apply(lambda x: x.iloc[1].replace(x.iloc[2],person3),axis=1)\n",
    "  new_data3 = the_label_data.copy()\n",
    "  new_data3.iloc[:,1] = new_sentence3\n",
    "  new_data3.iloc[:,2] = person3\n",
    "  new_sentence4 = the_label_data.apply(lambda x: x.iloc[1].replace(x.iloc[2],person4),axis=1)\n",
    "  new_data4 = the_label_data.copy()\n",
    "  new_data4.iloc[:,1] = new_sentence4\n",
    "  new_data4.iloc[:,2] = person4\n",
    "  return pd.concat([new_data1,new_data2,new_data3,new_data4],axis=0)"
   ]
  },
  {
   "cell_type": "code",
   "execution_count": 84,
   "metadata": {},
   "outputs": [],
   "source": [
    "label = '인물:사망_국가'\n",
    "aug_replace_die_country = add_data_replace_person(train,label)\n",
    "label = '인물:사망_도시'\n",
    "aug_replace_die_city = add_data_replace_person(train,label)\n",
    "label = '인물:출생_도시'\n",
    "aug_replace_born_city = add_data_replace_person(train,label)\n",
    "new_train = pd.concat([new_train,aug_replace_die_country,aug_replace_die_city,aug_replace_born_city],axis=0)\n",
    "new_train.index = range(new_train.shape[0])\n",
    "# new_train"
   ]
  },
  {
   "cell_type": "code",
   "execution_count": 85,
   "metadata": {},
   "outputs": [
    {
     "data": {
      "text/plain": "(9011, 9)"
     },
     "execution_count": 85,
     "metadata": {},
     "output_type": "execute_result"
    }
   ],
   "source": [
    "new_train.shape"
   ]
  },
  {
   "cell_type": "code",
   "execution_count": 86,
   "metadata": {},
   "outputs": [
    {
     "data": {
      "text/html": "<div>\n<style scoped>\n    .dataframe tbody tr th:only-of-type {\n        vertical-align: middle;\n    }\n\n    .dataframe tbody tr th {\n        vertical-align: top;\n    }\n\n    .dataframe thead th {\n        text-align: right;\n    }\n</style>\n<table border=\"1\" class=\"dataframe\">\n  <thead>\n    <tr style=\"text-align: right;\">\n      <th></th>\n      <th>0</th>\n      <th>1</th>\n      <th>2</th>\n      <th>3</th>\n      <th>4</th>\n      <th>5</th>\n      <th>6</th>\n      <th>7</th>\n      <th>8</th>\n    </tr>\n  </thead>\n  <tbody>\n    <tr>\n      <th>6631</th>\n      <td>wikipedia-14464-241-6-12-15-18</td>\n      <td>7월 1일 다리우스 3세가 박트리아에서 베수스에게 암살되었다.</td>\n      <td>다리우스 3세</td>\n      <td>6</td>\n      <td>12</td>\n      <td>박트리아</td>\n      <td>15</td>\n      <td>18</td>\n      <td>인물:사망_국가</td>\n    </tr>\n    <tr>\n      <th>9000</th>\n      <td>wikipedia-14464-241-6-12-15-18</td>\n      <td>7월 1일 레오나르도가 박트리아에서 베수스에게 암살되었다.</td>\n      <td>레오나르도</td>\n      <td>6</td>\n      <td>12</td>\n      <td>박트리아</td>\n      <td>15</td>\n      <td>18</td>\n      <td>인물:사망_국가</td>\n    </tr>\n    <tr>\n      <th>9001</th>\n      <td>wikipedia-14464-241-6-12-15-18</td>\n      <td>7월 1일 나빌 페키르가 박트리아에서 베수스에게 암살되었다.</td>\n      <td>나빌 페키르</td>\n      <td>6</td>\n      <td>12</td>\n      <td>박트리아</td>\n      <td>15</td>\n      <td>18</td>\n      <td>인물:사망_국가</td>\n    </tr>\n    <tr>\n      <th>9002</th>\n      <td>wikipedia-14464-241-6-12-15-18</td>\n      <td>7월 1일 루다크리스가 박트리아에서 베수스에게 암살되었다.</td>\n      <td>루다크리스</td>\n      <td>6</td>\n      <td>12</td>\n      <td>박트리아</td>\n      <td>15</td>\n      <td>18</td>\n      <td>인물:사망_국가</td>\n    </tr>\n    <tr>\n      <th>9003</th>\n      <td>wikipedia-14464-241-6-12-15-18</td>\n      <td>7월 1일 강지환가 박트리아에서 베수스에게 암살되었다.</td>\n      <td>강지환</td>\n      <td>6</td>\n      <td>12</td>\n      <td>박트리아</td>\n      <td>15</td>\n      <td>18</td>\n      <td>인물:사망_국가</td>\n    </tr>\n  </tbody>\n</table>\n</div>",
      "text/plain": "                                   0                                   1  \\\n6631  wikipedia-14464-241-6-12-15-18  7월 1일 다리우스 3세가 박트리아에서 베수스에게 암살되었다.   \n9000  wikipedia-14464-241-6-12-15-18    7월 1일 레오나르도가 박트리아에서 베수스에게 암살되었다.   \n9001  wikipedia-14464-241-6-12-15-18   7월 1일 나빌 페키르가 박트리아에서 베수스에게 암살되었다.   \n9002  wikipedia-14464-241-6-12-15-18    7월 1일 루다크리스가 박트리아에서 베수스에게 암살되었다.   \n9003  wikipedia-14464-241-6-12-15-18      7월 1일 강지환가 박트리아에서 베수스에게 암살되었다.   \n\n            2  3   4     5   6   7         8  \n6631  다리우스 3세  6  12  박트리아  15  18  인물:사망_국가  \n9000    레오나르도  6  12  박트리아  15  18  인물:사망_국가  \n9001   나빌 페키르  6  12  박트리아  15  18  인물:사망_국가  \n9002    루다크리스  6  12  박트리아  15  18  인물:사망_국가  \n9003      강지환  6  12  박트리아  15  18  인물:사망_국가  "
     },
     "execution_count": 86,
     "metadata": {},
     "output_type": "execute_result"
    }
   ],
   "source": [
    "new_train.loc[new_train.iloc[:,8]=='인물:사망_국가']"
   ]
  },
  {
   "cell_type": "code",
   "execution_count": 90,
   "metadata": {},
   "outputs": [
    {
     "data": {
      "text/plain": "[TASK]: MT\n[LANG]: MULTI\n[MODEL]: transformer.large.multi.mtpg"
     },
     "execution_count": 90,
     "metadata": {},
     "output_type": "execute_result"
    }
   ],
   "source": [
    "from pororo import pororo, Pororo\n",
    "mt = Pororo(task=\"mt\", lang=\"multi\", model=\"transformer.large.multi.mtpg\")\n",
    "mt"
   ]
  },
  {
   "cell_type": "code",
   "execution_count": 87,
   "metadata": {},
   "outputs": [],
   "source": [
    "import numpy as np\n",
    "import re\n",
    "def pororo_augmentation(origin_kor_series, lang):\n",
    "  mask1 = 'QWER'\n",
    "  mask2 = 'ZXCV'\n",
    "  origin_kor = origin_kor_series.iloc[1]\n",
    "  origin_kor = origin_kor.replace(origin_kor_series.iloc[2],'QWER').replace(origin_kor_series.iloc[5],'ZXCV')\n",
    "  translated = mt.predict(origin_kor,src='ko',tgt=lang)\n",
    "  new_kor = mt.predict(translated,src=lang,tgt='ko')\n",
    "  # print(origin_kor)\n",
    "  # print(new_kor)\n",
    "  pat1 = re.compile(r'[qQ][wW][eE][rR]')\n",
    "  pat2 = re.compile(r'[zZ][xX][cC][vV]')\n",
    "  pat3 = re.compile(r'[가-힣]')\n",
    "  new_kor_series = origin_kor_series.copy()\n",
    "  # if mask1 in new_kor and mask2 in new_kor:\n",
    "  if re.search(pat1,new_kor) and re.search(pat2,new_kor) and re.search(pat3,new_kor):\n",
    "    # new_kor_series.iloc[1] = new_kor.replace('QWER',origin_kor_series.iloc[2]).replace('ZXCV',origin_kor_series.iloc[5])\n",
    "    recover_mask2 = re.sub(r'[zZ][xX][cC][vV]',origin_kor_series.iloc[5],new_kor)\n",
    "    new_kor_series.iloc[1] = re.sub(r'[qQ][wW][eE][rR]',origin_kor_series.iloc[2],recover_mask2)\n",
    "    return new_kor_series\n",
    "  else:\n",
    "    new_kor_series.iloc[1] = np.nan\n",
    "    return new_kor_series\n",
    "\n",
    "def pororo_per_label_from_data(data,label = '인물:출생_도시'):\n",
    "  origin_kor_df = data.loc[data.iloc[:,8]==label,:]\n",
    "  ja_df = origin_kor_df.apply(lambda x: pororo_augmentation(x, 'ja'),axis=1)\n",
    "  if origin_kor_df.shape[0]>=7:\n",
    "    return ja_df\n",
    "  zh_df = origin_kor_df.apply(lambda x: pororo_augmentation(x, 'zh'),axis=1)\n",
    "  return pd.concat([ja_df,zh_df],axis=0)"
   ]
  },
  {
   "cell_type": "code",
   "execution_count": 88,
   "metadata": {},
   "outputs": [
    {
     "data": {
      "text/plain": "관계_없음          4441\n단체:구성원          815\n인물:소속단체         679\n인물:직업/직함        553\n단체:상위_단체        335\n단체:별칭           231\n인물:출신성분/국적      209\n인물:동료           186\n단체:제작           165\n인물:부모님          164\n단체:본사_도시        136\n단체:본사_국가        115\n인물:별칭           103\n인물:배우자           92\n인물:자녀            84\n단체:하위_단체         80\n단체:창립일           67\n인물:기타_친족         58\n인물:제작            56\n인물:형제/자매/남매      52\n단체:창립자           45\n인물:사망_일시         45\n단체:모회사           44\n인물:출생_일시         36\n인물:거주_국가         27\n인물:거주_도시         26\n단체:본사_주(도)       23\n단체:정치/종교성향       18\n단체:해산일           15\n인물:종교            15\n인물:거주_주(도)       12\n인물:용의자           11\n단체:주주            11\n인물:학교             9\n단체:구성원_수          9\n인물:출생_도시          8\n인물:출생_국가          8\n인물:사망_원인          7\n인물:사망_도시          6\n단체:자회사            5\n인물:나이             5\n인물:사망_국가          5\nName: 8, dtype: int64"
     },
     "execution_count": 88,
     "metadata": {},
     "output_type": "execute_result"
    }
   ],
   "source": [
    "new_train.iloc[:,8].value_counts()"
   ]
  },
  {
   "cell_type": "code",
   "execution_count": 91,
   "metadata": {},
   "outputs": [],
   "source": [
    "label = '인물:나이'\n",
    "aug_person_age = pororo_per_label_from_data(new_train,label)\n",
    "label = '단체:자회사'\n",
    "aug_sub_company = pororo_per_label_from_data(new_train,label)\n",
    "label = '인물:출생_도시'\n",
    "aug_born_city = pororo_per_label_from_data(new_train,label)\n",
    "label = '인물:사망_국가'\n",
    "aug_die_country = pororo_per_label_from_data(new_train,label)\n",
    "label = '인물:사망_도시'\n",
    "aug_die_city = pororo_per_label_from_data(new_train,label)\n",
    "label = '인물:학교'\n",
    "aug_die_school = pororo_per_label_from_data(new_train,label)\n",
    "label = '인물:사망_원인'\n",
    "aug_die_cause = pororo_per_label_from_data(new_train,label)\n",
    "label = '인물:출생_국가'\n",
    "aug_born_country = pororo_per_label_from_data(new_train,label)\n",
    "label = '단체:구성원_수'\n",
    "aug_num_org = pororo_per_label_from_data(new_train,label)\n",
    "label = '단체:주주'\n",
    "aug_holder = pororo_per_label_from_data(new_train,label)\n",
    "label = '인물:용의자'\n",
    "aug_suspect = pororo_per_label_from_data(new_train,label)\n",
    "\n",
    "new_train = pd.concat([new_train,aug_person_age,aug_sub_company,aug_born_city,aug_die_country,aug_die_city,\n",
    "                      aug_die_cause,aug_born_country,aug_num_org,aug_holder,aug_suspect,aug_die_school],axis=0)\n",
    "new_train.index = range(new_train.shape[0])\n"
   ]
  },
  {
   "cell_type": "code",
   "execution_count": 92,
   "metadata": {},
   "outputs": [
    {
     "data": {
      "text/plain": "(9116, 9)"
     },
     "execution_count": 92,
     "metadata": {},
     "output_type": "execute_result"
    }
   ],
   "source": [
    "new_train.shape"
   ]
  },
  {
   "cell_type": "code",
   "execution_count": 93,
   "metadata": {},
   "outputs": [
    {
     "data": {
      "text/plain": "(9116, 9)"
     },
     "execution_count": 93,
     "metadata": {},
     "output_type": "execute_result"
    }
   ],
   "source": [
    "new_train.shape"
   ]
  },
  {
   "cell_type": "code",
   "execution_count": 94,
   "metadata": {},
   "outputs": [
    {
     "name": "stdout",
     "output_type": "stream",
     "text": [
      "(9116, 9)\n",
      "(9108, 9)\n",
      "(9108, 9)\n"
     ]
    }
   ],
   "source": [
    "print(new_train.shape)\n",
    "# print(new_train.dropna().shape)\n",
    "new_train_drop = new_train.dropna()\n",
    "print(new_train_drop.shape)\n",
    "# new_train.drop_duplicates(inplace=True)\n",
    "new_train_drop = new_train_drop.drop_duplicates()\n",
    "print(new_train_drop.drop_duplicates().shape)\n"
   ]
  },
  {
   "cell_type": "code",
   "execution_count": 95,
   "metadata": {},
   "outputs": [
    {
     "data": {
      "text/plain": "관계_없음          4441\n단체:구성원          815\n인물:소속단체         679\n인물:직업/직함        553\n단체:상위_단체        335\n단체:별칭           231\n인물:출신성분/국적      209\n인물:동료           186\n단체:제작           165\n인물:부모님          164\n단체:본사_도시        136\n단체:본사_국가        115\n인물:별칭           103\n인물:배우자           92\n인물:자녀            84\n단체:하위_단체         80\n단체:창립일           67\n인물:기타_친족         58\n인물:제작            56\n인물:형제/자매/남매      52\n단체:창립자           45\n인물:사망_일시         45\n단체:모회사           44\n인물:출생_일시         36\n인물:거주_국가         27\n인물:거주_도시         26\n단체:본사_주(도)       23\n인물:용의자           22\n단체:주주            21\n단체:정치/종교성향       18\n단체:구성원_수         18\n인물:학교            18\n인물:출생_도시         16\n인물:출생_국가         16\n인물:종교            15\n인물:사망_국가         15\n단체:해산일           15\n인물:사망_도시         14\n인물:사망_원인         14\n인물:나이            14\n단체:자회사           13\n인물:거주_주(도)       12\nName: 8, dtype: int64"
     },
     "execution_count": 95,
     "metadata": {},
     "output_type": "execute_result"
    }
   ],
   "source": [
    "new_train_drop.iloc[:,8].value_counts()"
   ]
  },
  {
   "cell_type": "code",
   "execution_count": 96,
   "metadata": {},
   "outputs": [
    {
     "data": {
      "text/plain": "1"
     },
     "execution_count": 96,
     "metadata": {},
     "output_type": "execute_result"
    }
   ],
   "source": [
    "sum(new_train_drop.iloc[:,1].apply(lambda x: x.startswith(' ')))"
   ]
  },
  {
   "cell_type": "code",
   "execution_count": 97,
   "metadata": {},
   "outputs": [
    {
     "data": {
      "text/plain": "0"
     },
     "execution_count": 97,
     "metadata": {},
     "output_type": "execute_result"
    }
   ],
   "source": [
    "sum(test.iloc[:,1].apply(lambda x: x.startswith(' ')))"
   ]
  },
  {
   "cell_type": "markdown",
   "metadata": {},
   "source": [
    "# 규진님 데이터 적정 비율 추가"
   ]
  },
  {
   "cell_type": "code",
   "execution_count": 101,
   "metadata": {},
   "outputs": [
    {
     "data": {
      "text/plain": "'카터 는 이집트 와 이스라엘 을 조정 하 여 , 캠프 데이비드 에서 안와르 사다트 대통령 과 메나헴 베긴 수상 과 함께 중동 평화 를 위한 캠프데이비드 협정 을 체결 했 다 . '"
     },
     "execution_count": 101,
     "metadata": {},
     "output_type": "execute_result"
    }
   ],
   "source": [
    "god_kyujin_data.iloc[0,1]"
   ]
  },
  {
   "cell_type": "code",
   "execution_count": 100,
   "metadata": {},
   "outputs": [
    {
     "data": {
      "text/plain": "38"
     },
     "execution_count": 100,
     "metadata": {},
     "output_type": "execute_result"
    }
   ],
   "source": [
    "god_kyujin_data.iloc[0,1].index('안와르 사다트')"
   ]
  },
  {
   "cell_type": "code",
   "execution_count": 99,
   "metadata": {},
   "outputs": [
    {
     "data": {
      "text/html": "<div>\n<style scoped>\n    .dataframe tbody tr th:only-of-type {\n        vertical-align: middle;\n    }\n\n    .dataframe tbody tr th {\n        vertical-align: top;\n    }\n\n    .dataframe thead th {\n        text-align: right;\n    }\n</style>\n<table border=\"1\" class=\"dataframe\">\n  <thead>\n    <tr style=\"text-align: right;\">\n      <th></th>\n      <th>0</th>\n      <th>1</th>\n      <th>2</th>\n      <th>3</th>\n      <th>4</th>\n      <th>5</th>\n      <th>6</th>\n      <th>7</th>\n      <th>8</th>\n    </tr>\n  </thead>\n  <tbody>\n    <tr>\n      <th>0</th>\n      <td>from train_csv 5</td>\n      <td>카터 는 이집트 와 이스라엘 을 조정 하 여 , 캠프 데이비드 에서 안와르 사다트 ...</td>\n      <td>안와르 사다트</td>\n      <td>38</td>\n      <td>45</td>\n      <td>이집트</td>\n      <td>5</td>\n      <td>8</td>\n      <td>인물:출신성분/국적</td>\n    </tr>\n    <tr>\n      <th>1</th>\n      <td>from train_csv 8</td>\n      <td>카터 는 이집트 와 이스라엘 을 조정 하 여 , 캠프 데이비드 에서 안와르 사다트 ...</td>\n      <td>캠프데이비드 협정</td>\n      <td>78</td>\n      <td>87</td>\n      <td>이스라엘</td>\n      <td>11</td>\n      <td>15</td>\n      <td>단체:구성원</td>\n    </tr>\n    <tr>\n      <th>2</th>\n      <td>from train_csv 9</td>\n      <td>카터 는 이집트 와 이스라엘 을 조정 하 여 , 캠프 데이비드 에서 안와르 사다트 ...</td>\n      <td>캠프데이비드 협정</td>\n      <td>78</td>\n      <td>87</td>\n      <td>이집트</td>\n      <td>5</td>\n      <td>8</td>\n      <td>단체:구성원</td>\n    </tr>\n    <tr>\n      <th>3</th>\n      <td>from train_csv 11</td>\n      <td>카터 는 이집트 와 이스라엘 을 조정 하 여 , 캠프 데이비드 에서 안와르 사다트 ...</td>\n      <td>메나헴 베긴</td>\n      <td>52</td>\n      <td>58</td>\n      <td>이스라엘</td>\n      <td>11</td>\n      <td>15</td>\n      <td>인물:출신성분/국적</td>\n    </tr>\n    <tr>\n      <th>4</th>\n      <td>from train_csv 65</td>\n      <td>선거 전 까지 각축전 을 벌인 유력 한 후보 는 15 대 대통령 선거 에 나와 김대...</td>\n      <td>한나라당</td>\n      <td>63</td>\n      <td>67</td>\n      <td>이회창</td>\n      <td>75</td>\n      <td>78</td>\n      <td>단체:구성원</td>\n    </tr>\n    <tr>\n      <th>...</th>\n      <td>...</td>\n      <td>...</td>\n      <td>...</td>\n      <td>...</td>\n      <td>...</td>\n      <td>...</td>\n      <td>...</td>\n      <td>...</td>\n      <td>...</td>\n    </tr>\n    <tr>\n      <th>229606</th>\n      <td>from dev_csv 99215</td>\n      <td>2. \"사슴여인\" (박건호 작사 / 계동균 작곡) – 03:24</td>\n      <td>박건호</td>\n      <td>11</td>\n      <td>14</td>\n      <td>사슴여인</td>\n      <td>4</td>\n      <td>8</td>\n      <td>인물:제작</td>\n    </tr>\n    <tr>\n      <th>229607</th>\n      <td>from dev_csv 99216</td>\n      <td>9. \"안녕히 계세요\" (장덕 작사 / 장덕 작곡) - 02:06</td>\n      <td>장덕</td>\n      <td>14</td>\n      <td>16</td>\n      <td>안녕히 계세요</td>\n      <td>4</td>\n      <td>11</td>\n      <td>인물:제작</td>\n    </tr>\n    <tr>\n      <th>229608</th>\n      <td>from dev_csv 99217</td>\n      <td>2009년, 블런트는 장마크 발레가 감독을 맡고 줄리언 펠로스가 각본을 쓴 《영 빅...</td>\n      <td>줄리언 펠로스</td>\n      <td>27</td>\n      <td>34</td>\n      <td>영 빅토리아</td>\n      <td>43</td>\n      <td>49</td>\n      <td>인물:제작</td>\n    </tr>\n    <tr>\n      <th>229609</th>\n      <td>from dev_csv 99218</td>\n      <td>2008년 저드 애퍼토가 제작하고 세스 로건과 에번 골드버그가 각본을 맡은 코미디 ...</td>\n      <td>에번 골드버그</td>\n      <td>26</td>\n      <td>33</td>\n      <td>파인애플 익스프레스</td>\n      <td>50</td>\n      <td>60</td>\n      <td>인물:제작</td>\n    </tr>\n    <tr>\n      <th>229610</th>\n      <td>from dev_csv 99219</td>\n      <td>영화 《라이터를 켜라》,《귀신이 산다》의 장항준, 《그해 여름》의 김은희 작가가 공...</td>\n      <td>장항준</td>\n      <td>23</td>\n      <td>26</td>\n      <td>귀신이 산다</td>\n      <td>14</td>\n      <td>20</td>\n      <td>인물:제작</td>\n    </tr>\n  </tbody>\n</table>\n<p>229611 rows × 9 columns</p>\n</div>",
      "text/plain": "                         0                                                  1  \\\n0         from train_csv 5  카터 는 이집트 와 이스라엘 을 조정 하 여 , 캠프 데이비드 에서 안와르 사다트 ...   \n1         from train_csv 8  카터 는 이집트 와 이스라엘 을 조정 하 여 , 캠프 데이비드 에서 안와르 사다트 ...   \n2         from train_csv 9  카터 는 이집트 와 이스라엘 을 조정 하 여 , 캠프 데이비드 에서 안와르 사다트 ...   \n3        from train_csv 11  카터 는 이집트 와 이스라엘 을 조정 하 여 , 캠프 데이비드 에서 안와르 사다트 ...   \n4        from train_csv 65  선거 전 까지 각축전 을 벌인 유력 한 후보 는 15 대 대통령 선거 에 나와 김대...   \n...                    ...                                                ...   \n229606  from dev_csv 99215                2. \"사슴여인\" (박건호 작사 / 계동균 작곡) – 03:24   \n229607  from dev_csv 99216               9. \"안녕히 계세요\" (장덕 작사 / 장덕 작곡) - 02:06   \n229608  from dev_csv 99217  2009년, 블런트는 장마크 발레가 감독을 맡고 줄리언 펠로스가 각본을 쓴 《영 빅...   \n229609  from dev_csv 99218  2008년 저드 애퍼토가 제작하고 세스 로건과 에번 골드버그가 각본을 맡은 코미디 ...   \n229610  from dev_csv 99219  영화 《라이터를 켜라》,《귀신이 산다》의 장항준, 《그해 여름》의 김은희 작가가 공...   \n\n                2   3   4           5   6   7           8  \n0         안와르 사다트  38  45         이집트   5   8  인물:출신성분/국적  \n1       캠프데이비드 협정  78  87        이스라엘  11  15      단체:구성원  \n2       캠프데이비드 협정  78  87         이집트   5   8      단체:구성원  \n3          메나헴 베긴  52  58        이스라엘  11  15  인물:출신성분/국적  \n4            한나라당  63  67         이회창  75  78      단체:구성원  \n...           ...  ..  ..         ...  ..  ..         ...  \n229606        박건호  11  14        사슴여인   4   8       인물:제작  \n229607         장덕  14  16     안녕히 계세요   4  11       인물:제작  \n229608    줄리언 펠로스  27  34      영 빅토리아  43  49       인물:제작  \n229609    에번 골드버그  26  33  파인애플 익스프레스  50  60       인물:제작  \n229610        장항준  23  26      귀신이 산다  14  20       인물:제작  \n\n[229611 rows x 9 columns]"
     },
     "execution_count": 99,
     "metadata": {},
     "output_type": "execute_result"
    }
   ],
   "source": [
    "god_kyujin_data = pd.read_csv(\"../input/data/process_external_data/all_csv.tsv\",sep='\\t',header=None)\n",
    "god_kyujin_data"
   ]
  },
  {
   "cell_type": "code",
   "execution_count": 103,
   "metadata": {},
   "outputs": [
    {
     "name": "stderr",
     "output_type": "stream",
     "text": [
      "Token indices sequence length is longer than the specified maximum sequence length for this model (675 > 512). Running this sequence through the model will result in indexing errors\n"
     ]
    },
    {
     "name": "stdout",
     "output_type": "stream",
     "text": [
      "13 341\n",
      "13 224\n",
      "5 5615\n",
      "(229611, 10)\n"
     ]
    },
    {
     "data": {
      "text/plain": "(225578, 10)"
     },
     "execution_count": 103,
     "metadata": {},
     "output_type": "execute_result"
    }
   ],
   "source": [
    "# god_kyujin_data = pd.read_csv(\"../input/data/process_external_data/all_csv.tsv\",sep='\\t',header=None)\n",
    "god_kyujin_data.iloc[:,1] = god_kyujin_data.iloc[:,1].apply(lambda x: x.strip())\n",
    "from transformers import AutoTokenizer\n",
    "model_name_from_pretrained = \"xlm-roberta-large\"\n",
    "tokenizer = AutoTokenizer.from_pretrained(model_name_from_pretrained)\n",
    "process_vc = god_kyujin_data.iloc[:,8].value_counts()\n",
    "\n",
    "# tokenizer 적용후, train에서의 token len보다 길이가 긴 데이터는 제거\n",
    "new_train_drop['token_len'] = new_train_drop.iloc[:,1].apply(lambda x: len(tokenizer(x)['input_ids']))\n",
    "test['token_len'] = test.iloc[:,1].apply(lambda x: len(tokenizer(x)['input_ids']))\n",
    "god_kyujin_data['token_len'] = god_kyujin_data.iloc[:,1].apply(lambda x: len(tokenizer(x)['input_ids']))\n",
    "\n",
    "def min_max_len_filtering(data):\n",
    "  condition = (new_train_drop['token_len'].min()<data['token_len'])&(data['token_len']<new_train_drop['token_len'].max())\n",
    "  return data.loc[condition,:]\n",
    "\n",
    "print(new_train_drop['token_len'].min(),new_train_drop['token_len'].max())\n",
    "print(test['token_len'].min(),test['token_len'].max())\n",
    "print(god_kyujin_data['token_len'].min(),god_kyujin_data['token_len'].max())\n",
    "print(god_kyujin_data.shape)\n",
    "\n",
    "god_kyujin_data = min_max_len_filtering(god_kyujin_data)\n",
    "god_kyujin_data.shape"
   ]
  },
  {
   "cell_type": "code",
   "execution_count": 162,
   "metadata": {},
   "outputs": [
    {
     "data": {
      "text/plain": "인물:출신성분/국적    77353\n인물:직업/직함      34449\n단체:창립일        26586\n인물:제작         16311\n단체:제작         13662\n단체:구성원        13643\n인물:배우자        10986\n인물:자녀         10398\n인물:기타_친족       9619\n인물:부모님         4546\n단체:상위_단체       3436\n인물:학교          2045\n단체:정치/종교성향     1545\n인물:소속단체         875\n단체:창립자          124\nName: 8, dtype: int64"
     },
     "execution_count": 162,
     "metadata": {},
     "output_type": "execute_result"
    }
   ],
   "source": [
    "god_kyujin_data.iloc[:,8].value_counts()"
   ]
  },
  {
   "cell_type": "code",
   "execution_count": 163,
   "metadata": {},
   "outputs": [
    {
     "name": "stdout",
     "output_type": "stream",
     "text": [
      "train에만 있는 기호들 : ['`', '『', '*', '$', '=', '』']\n",
      "test에만 있는 기호들 : []\n",
      "train과 test 모두 있는 기호들 : [']', '.', '[', '》', \"'\", '&', '~', '\"', '(', '!', ';', ')', '/', ':', '《', '|', '·', '%']\n",
      "외부데이터 추가시에 포함되어선 안될 특수기호들 : ['{', '<', '>', '`', '『', '\\\\', '*', '+', '$', '?', '}', '^', '#', '…', '=', '※', '@', '』']\n"
     ]
    }
   ],
   "source": [
    "# print(f\"train과 test 모두 없는 기호들 : {list(set(tr_no_punc)&set(te_no_punc))}\")\n",
    "print(f\"train에만 있는 기호들 : {list(set(tr_exist_punc)-set(te_exist_punc))}\")\n",
    "print(f\"test에만 있는 기호들 : {list(set(te_exist_punc)-set(tr_exist_punc))}\")\n",
    "print(f\"train과 test 모두 있는 기호들 : {list(set(tr_exist_punc)&set(te_exist_punc))}\")\n",
    "\n",
    "print(f\"외부데이터 추가시에 포함되어선 안될 특수기호들 : {list(set(punc_list)-set(te_exist_punc))}\")"
   ]
  },
  {
   "cell_type": "code",
   "execution_count": 164,
   "metadata": {},
   "outputs": [
    {
     "name": "stdout",
     "output_type": "stream",
     "text": [
      "asdf\\\n"
     ]
    },
    {
     "data": {
      "text/plain": "True"
     },
     "execution_count": 164,
     "metadata": {},
     "output_type": "execute_result"
    }
   ],
   "source": [
    "import re\n",
    "def exist_punc(word):\n",
    "  reg = re.compile('[?><+*※^…=『』`@$#\\{\\}\\\\\\]')\n",
    "  if reg.search(word):\n",
    "    # print(\"특수문자 포함\")\n",
    "    # print(reg.search(word))\n",
    "    return True\n",
    "  else:\n",
    "    # print(\"특수문자 없음\")\n",
    "    # print(reg.search(word))\n",
    "    return False\n",
    "\n",
    "word = 'asdf\\\\'\n",
    "print(word)\n",
    "exist_punc(word)"
   ]
  },
  {
   "cell_type": "code",
   "execution_count": 165,
   "metadata": {},
   "outputs": [
    {
     "name": "stdout",
     "output_type": "stream",
     "text": [
      "(225578, 10)\n",
      "(219878, 10)\n"
     ]
    }
   ],
   "source": [
    "print(god_kyujin_data.shape)\n",
    "god_kyujin_data_filtered = god_kyujin_data.loc[god_kyujin_data.iloc[:,1].apply(lambda x: not exist_punc(x)),:]\n",
    "print(god_kyujin_data_filtered.shape)"
   ]
  },
  {
   "cell_type": "code",
   "execution_count": 166,
   "metadata": {},
   "outputs": [
    {
     "data": {
      "text/plain": "인물:출신성분/국적    75758\n인물:직업/직함      34053\n단체:창립일        26010\n인물:제작         15658\n단체:제작         13315\n단체:구성원        13156\n인물:배우자        10373\n인물:자녀          9980\n인물:기타_친족       9327\n인물:부모님         4346\n단체:상위_단체       3376\n인물:학교          2019\n단체:정치/종교성향     1512\n인물:소속단체         871\n단체:창립자          124\nName: 8, dtype: int64"
     },
     "execution_count": 166,
     "metadata": {},
     "output_type": "execute_result"
    }
   ],
   "source": [
    "god_kyujin_data_filtered.iloc[:,8].value_counts()"
   ]
  },
  {
   "cell_type": "code",
   "execution_count": 167,
   "metadata": {},
   "outputs": [
    {
     "data": {
      "text/html": "<div>\n<style scoped>\n    .dataframe tbody tr th:only-of-type {\n        vertical-align: middle;\n    }\n\n    .dataframe tbody tr th {\n        vertical-align: top;\n    }\n\n    .dataframe thead th {\n        text-align: right;\n    }\n</style>\n<table border=\"1\" class=\"dataframe\">\n  <thead>\n    <tr style=\"text-align: right;\">\n      <th></th>\n      <th>0</th>\n      <th>1</th>\n      <th>2</th>\n      <th>3</th>\n      <th>4</th>\n      <th>5</th>\n      <th>6</th>\n      <th>7</th>\n      <th>8</th>\n      <th>token_len</th>\n      <th>ner_e1</th>\n      <th>ner_e2</th>\n    </tr>\n  </thead>\n  <tbody>\n    <tr>\n      <th>0</th>\n      <td>wikipedia-24896-25-30-33-19-21</td>\n      <td>영국에서 사용되는 스포츠 유틸리티 자동차의 브랜드로는 랜드로버(Land Rover)...</td>\n      <td>랜드로버</td>\n      <td>30</td>\n      <td>33</td>\n      <td>자동차</td>\n      <td>19</td>\n      <td>21</td>\n      <td>단체:제작</td>\n      <td>50</td>\n      <td>[(랜드로버, ORGANIZATION)]</td>\n      <td>[(자동차, ARTIFACT)]</td>\n    </tr>\n    <tr>\n      <th>1</th>\n      <td>wikipedia-12728-224-5-7-42-44</td>\n      <td>선거에서 민주당은 해산 전 의석인 230석에 한참 못 미치는 57석(지역구 27석,...</td>\n      <td>민주당</td>\n      <td>5</td>\n      <td>7</td>\n      <td>27석</td>\n      <td>42</td>\n      <td>44</td>\n      <td>관계_없음</td>\n      <td>41</td>\n      <td>[(민주당, ORGANIZATION)]</td>\n      <td>[(27석, QUANTITY)]</td>\n    </tr>\n    <tr>\n      <th>2</th>\n      <td>wikipedia-28460-3-0-7-9-12</td>\n      <td>유럽 축구 연맹(UEFA) 집행위원회는 2014년 1월 24일에 열린 회의를 통해 ...</td>\n      <td>유럽 축구 연맹</td>\n      <td>0</td>\n      <td>7</td>\n      <td>UEFA</td>\n      <td>9</td>\n      <td>12</td>\n      <td>단체:별칭</td>\n      <td>52</td>\n      <td>[(유럽 축구 연맹, ORGANIZATION)]</td>\n      <td>[(UEFA, ORGANIZATION)]</td>\n    </tr>\n    <tr>\n      <th>3</th>\n      <td>wikipedia-11479-37-24-26-3-5</td>\n      <td>용병 공격수 챠디의 부진과 시즌 초 활약한 강수일의 침체, 시즌 중반에 영입한 세르...</td>\n      <td>강수일</td>\n      <td>24</td>\n      <td>26</td>\n      <td>공격수</td>\n      <td>3</td>\n      <td>5</td>\n      <td>인물:직업/직함</td>\n      <td>101</td>\n      <td>[(강수일, PERSON)]</td>\n      <td>[(공격수, CIVILIZATION)]</td>\n    </tr>\n    <tr>\n      <th>4</th>\n      <td>wikipedia-15581-6-0-2-32-40</td>\n      <td>람캄행 왕은 1237년에서 1247년 사이 수코타이의 왕 퍼쿤 씨 인트라팃과 쓰엉 ...</td>\n      <td>람캄행</td>\n      <td>0</td>\n      <td>2</td>\n      <td>퍼쿤 씨 인트라팃</td>\n      <td>32</td>\n      <td>40</td>\n      <td>인물:부모님</td>\n      <td>44</td>\n      <td>[(람캄, LOCATION), (행, O)]</td>\n      <td>[(퍼쿤, PERSON), ( , O), (씨, O), ( , O), (인트라팃, O)]</td>\n    </tr>\n    <tr>\n      <th>...</th>\n      <td>...</td>\n      <td>...</td>\n      <td>...</td>\n      <td>...</td>\n      <td>...</td>\n      <td>...</td>\n      <td>...</td>\n      <td>...</td>\n      <td>...</td>\n      <td>...</td>\n      <td>...</td>\n      <td>...</td>\n    </tr>\n    <tr>\n      <th>9103</th>\n      <td>wikitree-55169-1-15-17-23-27</td>\n      <td>10일 매체는 방송인 서장훈이 모교 연세대학교에 광고 모델료 1억5000만원을 전액...</td>\n      <td>서장훈</td>\n      <td>12</td>\n      <td>14</td>\n      <td>연세대학교</td>\n      <td>23</td>\n      <td>27</td>\n      <td>인물:학교</td>\n      <td>33</td>\n      <td>[(서장훈, PERSON)]</td>\n      <td>[(연세대학교, ORGANIZATION)]</td>\n    </tr>\n    <tr>\n      <th>9104</th>\n      <td>wikipedia-29295-6-74-76-60-64</td>\n      <td>이때 리천희는 주포 양희승이 아킬레스건 상처를 입었을 때, 주전 선수들이 고려대학교...</td>\n      <td>이규섭</td>\n      <td>74</td>\n      <td>76</td>\n      <td>고려대학교</td>\n      <td>60</td>\n      <td>64</td>\n      <td>인물:학교</td>\n      <td>103</td>\n      <td>[(이규섭, PERSON)]</td>\n      <td>[(고려대학교, ORGANIZATION)]</td>\n    </tr>\n    <tr>\n      <th>9105</th>\n      <td>wikipedia-9102-0-0-5-49-53</td>\n      <td>다쓰노 긴고(1854년 10월 13일~1919년 3월 25일)은 일본의 건축가이다....</td>\n      <td>다쓰노 긴고</td>\n      <td>0</td>\n      <td>5</td>\n      <td>고부대학교</td>\n      <td>49</td>\n      <td>53</td>\n      <td>인물:학교</td>\n      <td>59</td>\n      <td>[(다쓰노 긴고, PERSON)]</td>\n      <td>[(고부대학교, ORGANIZATION)]</td>\n    </tr>\n    <tr>\n      <th>9106</th>\n      <td>wikipedia-14613-6-76-81-22-27</td>\n      <td>1949년~1950년에는 교환학생으로 파리 대학교에 머물렀고, 여기서 장 룰레 안리...</td>\n      <td>자크 디미에</td>\n      <td>76</td>\n      <td>81</td>\n      <td>파리 대학교</td>\n      <td>22</td>\n      <td>27</td>\n      <td>인물:학교</td>\n      <td>54</td>\n      <td>[(자크 디미에, PERSON)]</td>\n      <td>[(파리 대학교, ORGANIZATION)]</td>\n    </tr>\n    <tr>\n      <th>9107</th>\n      <td>wikipedia-23776-12-70-72-35-42</td>\n      <td>게다가 1960년 남하라 금지중학교를 졸업하고 그 해에 마산상업고등학교에 입학한 지...</td>\n      <td>김주열</td>\n      <td>70</td>\n      <td>72</td>\n      <td>마산상업고등학교</td>\n      <td>35</td>\n      <td>42</td>\n      <td>인물:학교</td>\n      <td>103</td>\n      <td>[(김주열, PERSON)]</td>\n      <td>[(마산상업고등학교, ORGANIZATION)]</td>\n    </tr>\n  </tbody>\n</table>\n<p>9108 rows × 12 columns</p>\n</div>",
      "text/plain": "                                   0  \\\n0     wikipedia-24896-25-30-33-19-21   \n1      wikipedia-12728-224-5-7-42-44   \n2         wikipedia-28460-3-0-7-9-12   \n3       wikipedia-11479-37-24-26-3-5   \n4        wikipedia-15581-6-0-2-32-40   \n...                              ...   \n9103    wikitree-55169-1-15-17-23-27   \n9104   wikipedia-29295-6-74-76-60-64   \n9105      wikipedia-9102-0-0-5-49-53   \n9106   wikipedia-14613-6-76-81-22-27   \n9107  wikipedia-23776-12-70-72-35-42   \n\n                                                      1         2   3   4  \\\n0     영국에서 사용되는 스포츠 유틸리티 자동차의 브랜드로는 랜드로버(Land Rover)...      랜드로버  30  33   \n1     선거에서 민주당은 해산 전 의석인 230석에 한참 못 미치는 57석(지역구 27석,...       민주당   5   7   \n2     유럽 축구 연맹(UEFA) 집행위원회는 2014년 1월 24일에 열린 회의를 통해 ...  유럽 축구 연맹   0   7   \n3     용병 공격수 챠디의 부진과 시즌 초 활약한 강수일의 침체, 시즌 중반에 영입한 세르...       강수일  24  26   \n4     람캄행 왕은 1237년에서 1247년 사이 수코타이의 왕 퍼쿤 씨 인트라팃과 쓰엉 ...       람캄행   0   2   \n...                                                 ...       ...  ..  ..   \n9103  10일 매체는 방송인 서장훈이 모교 연세대학교에 광고 모델료 1억5000만원을 전액...       서장훈  12  14   \n9104  이때 리천희는 주포 양희승이 아킬레스건 상처를 입었을 때, 주전 선수들이 고려대학교...       이규섭  74  76   \n9105  다쓰노 긴고(1854년 10월 13일~1919년 3월 25일)은 일본의 건축가이다....    다쓰노 긴고   0   5   \n9106  1949년~1950년에는 교환학생으로 파리 대학교에 머물렀고, 여기서 장 룰레 안리...    자크 디미에  76  81   \n9107  게다가 1960년 남하라 금지중학교를 졸업하고 그 해에 마산상업고등학교에 입학한 지...       김주열  70  72   \n\n              5   6   7         8  token_len                      ner_e1  \\\n0           자동차  19  21     단체:제작         50      [(랜드로버, ORGANIZATION)]   \n1           27석  42  44     관계_없음         41       [(민주당, ORGANIZATION)]   \n2          UEFA   9  12     단체:별칭         52  [(유럽 축구 연맹, ORGANIZATION)]   \n3           공격수   3   5  인물:직업/직함        101             [(강수일, PERSON)]   \n4     퍼쿤 씨 인트라팃  32  40    인물:부모님         44    [(람캄, LOCATION), (행, O)]   \n...         ...  ..  ..       ...        ...                         ...   \n9103      연세대학교  23  27     인물:학교         33             [(서장훈, PERSON)]   \n9104      고려대학교  60  64     인물:학교        103             [(이규섭, PERSON)]   \n9105      고부대학교  49  53     인물:학교         59          [(다쓰노 긴고, PERSON)]   \n9106     파리 대학교  22  27     인물:학교         54          [(자크 디미에, PERSON)]   \n9107   마산상업고등학교  35  42     인물:학교        103             [(김주열, PERSON)]   \n\n                                                 ner_e2  \n0                                     [(자동차, ARTIFACT)]  \n1                                     [(27석, QUANTITY)]  \n2                                [(UEFA, ORGANIZATION)]  \n3                                 [(공격수, CIVILIZATION)]  \n4     [(퍼쿤, PERSON), ( , O), (씨, O), ( , O), (인트라팃, O)]  \n...                                                 ...  \n9103                            [(연세대학교, ORGANIZATION)]  \n9104                            [(고려대학교, ORGANIZATION)]  \n9105                            [(고부대학교, ORGANIZATION)]  \n9106                           [(파리 대학교, ORGANIZATION)]  \n9107                         [(마산상업고등학교, ORGANIZATION)]  \n\n[9108 rows x 12 columns]"
     },
     "execution_count": 167,
     "metadata": {},
     "output_type": "execute_result"
    }
   ],
   "source": [
    "new_train_drop"
   ]
  },
  {
   "cell_type": "code",
   "execution_count": 168,
   "metadata": {},
   "outputs": [
    {
     "name": "stdout",
     "output_type": "stream",
     "text": [
      "num_chosen_dict : {'단체:창립자': 124, '인물:출신성분/국적': 35, '인물:직업/직함': 14, '단체:창립일': 92, '인물:제작': 106, '단체:제작': 44, '단체:구성원': 10, '인물:배우자': 72, '인물:자녀': 77, '인물:기타_친족': 103, '인물:부모님': 44, '단체:상위_단체': 23, '인물:학교': 225, '단체:정치/종교성향': 225, '인물:소속단체': 12}\n"
     ]
    }
   ],
   "source": [
    "random.seed(77)\n",
    "\n",
    "process_vc = god_kyujin_data_filtered.iloc[:,8].value_counts()\n",
    "new_train_vc = new_train_drop.iloc[:,8].value_counts()\n",
    "min_freq = process_vc.iloc[-1] # 124\n",
    "\n",
    "vc_train_intersection_process = new_train_vc[process_vc.index].sort_values(ascending=False)\n",
    "min_freq_name = process_vc.index[process_vc.argmin()]\n",
    "\n",
    "num_chosen_dict = {}\n",
    "min_freq = process_vc[min_freq_name]\n",
    "num_chosen_dict[min_freq_name] = min_freq\n",
    "\n",
    "threshold = vc_train_intersection_process[min_freq_name]\n",
    "log_p = 2\n",
    "for freq_name in [pv_id for pv_id in process_vc.index if pv_id!=min_freq_name]:\n",
    "  # min_freq/current_freq, 데이터 존재비율 반영하여 라벨별 데이터 수 다르게 추가\n",
    "  count_freq_per_min = threshold/vc_train_intersection_process[freq_name]\n",
    "  ## 로그함수 이용 : 데이터를 추가함에 있어 라벨 별 비율을 반영할 때 단순 선형적 비율로 판단하면 안된다는 생각.\n",
    "  if log_p != 0:\n",
    "    transformed_sample_prop = np.log(count_freq_per_min+(log_p-1))/np.log(log_p)  # 0보다 큰 값이 나와야 함.\n",
    "  num_chosen_dict[freq_name] = min(int(np.ceil(transformed_sample_prop * min_freq)), process_vc[freq_name])\n",
    "print(f'num_chosen_dict : {num_chosen_dict}')\n",
    "chosen_index = []\n",
    "for process_unique_label in set(god_kyujin_data_filtered.iloc[:,8]):\n",
    "  chosen_index.extend(random.sample(god_kyujin_data_filtered.loc[god_kyujin_data_filtered.iloc[:,8]==process_unique_label].index.tolist(),num_chosen_dict[process_unique_label]))\n",
    "process_external_data = god_kyujin_data_filtered.loc[chosen_index]"
   ]
  },
  {
   "cell_type": "code",
   "execution_count": 169,
   "metadata": {},
   "outputs": [
    {
     "data": {
      "text/html": "<div>\n<style scoped>\n    .dataframe tbody tr th:only-of-type {\n        vertical-align: middle;\n    }\n\n    .dataframe tbody tr th {\n        vertical-align: top;\n    }\n\n    .dataframe thead th {\n        text-align: right;\n    }\n</style>\n<table border=\"1\" class=\"dataframe\">\n  <thead>\n    <tr style=\"text-align: right;\">\n      <th></th>\n      <th>0</th>\n      <th>1</th>\n      <th>2</th>\n      <th>3</th>\n      <th>4</th>\n      <th>5</th>\n      <th>6</th>\n      <th>7</th>\n      <th>8</th>\n      <th>token_len</th>\n    </tr>\n  </thead>\n  <tbody>\n    <tr>\n      <th>228557</th>\n      <td>from dev_csv 5135</td>\n      <td>2014년 MBC 주말특별기획 《마마 (드라마)》 ... 박남순 역</td>\n      <td>MBC</td>\n      <td>6</td>\n      <td>9</td>\n      <td>마마 (드라마)</td>\n      <td>18</td>\n      <td>26</td>\n      <td>단체:제작</td>\n      <td>20</td>\n    </tr>\n    <tr>\n      <th>200054</th>\n      <td>from train_csv 283731</td>\n      <td>2014 년 tvN 월화 드라마 《 라이어 게임 》</td>\n      <td>tvN</td>\n      <td>7</td>\n      <td>10</td>\n      <td>라이어 게임</td>\n      <td>20</td>\n      <td>26</td>\n      <td>단체:제작</td>\n      <td>16</td>\n    </tr>\n    <tr>\n      <th>203340</th>\n      <td>from train_csv 350859</td>\n      <td>《 막돼먹은 영애씨 》 는 tvN 에서 방송 되 고 있 는 다큐멘터리 텔레비전 프로...</td>\n      <td>tvN</td>\n      <td>15</td>\n      <td>18</td>\n      <td>막돼먹은 영애씨</td>\n      <td>2</td>\n      <td>10</td>\n      <td>단체:제작</td>\n      <td>42</td>\n    </tr>\n    <tr>\n      <th>197460</th>\n      <td>from train_csv 242038</td>\n      <td>정재형 이효리의 유&amp;아이 ( 2012 . 02 . 26 ~ 2012 . 10 . 1...</td>\n      <td>SBS TV</td>\n      <td>51</td>\n      <td>57</td>\n      <td>정재형 이효리의 유&amp;아이</td>\n      <td>1</td>\n      <td>14</td>\n      <td>단체:제작</td>\n      <td>35</td>\n    </tr>\n    <tr>\n      <th>199427</th>\n      <td>from train_csv 268241</td>\n      <td>KBS 뉴스라인 ( KBS 제1TV , 밤 11 시 )</td>\n      <td>KBS 제1TV</td>\n      <td>12</td>\n      <td>20</td>\n      <td>KBS 뉴스라인</td>\n      <td>1</td>\n      <td>9</td>\n      <td>단체:제작</td>\n      <td>16</td>\n    </tr>\n    <tr>\n      <th>...</th>\n      <td>...</td>\n      <td>...</td>\n      <td>...</td>\n      <td>...</td>\n      <td>...</td>\n      <td>...</td>\n      <td>...</td>\n      <td>...</td>\n      <td>...</td>\n      <td>...</td>\n    </tr>\n    <tr>\n      <th>229050</th>\n      <td>from dev_csv 8366</td>\n      <td>이에 활동이 멈출 위기에 놓였으나 휴렛 팩커드의 창업자인 윌리엄 휴렛과 데이브 팩커...</td>\n      <td>폴 앨런</td>\n      <td>65</td>\n      <td>69</td>\n      <td>마이크로소프트</td>\n      <td>49</td>\n      <td>56</td>\n      <td>단체:창립자</td>\n      <td>81</td>\n    </tr>\n    <tr>\n      <th>222113</th>\n      <td>from train_csv 975423</td>\n      <td>1832년, 제임스 매터슨과 청나라 광저우(沙面島)에서 ‘자딘 매터슨’ 상회를 설립했다.</td>\n      <td>제임스 매터슨</td>\n      <td>8</td>\n      <td>15</td>\n      <td>자딘 매터슨</td>\n      <td>33</td>\n      <td>39</td>\n      <td>단체:창립자</td>\n      <td>36</td>\n    </tr>\n    <tr>\n      <th>229030</th>\n      <td>from dev_csv 8346</td>\n      <td>유한양행과 라초이를 설립한 기업가 유일한의 동생이자, 유유제약을 설립한 유특한의 형이다.</td>\n      <td>유특한</td>\n      <td>40</td>\n      <td>43</td>\n      <td>유유제약</td>\n      <td>30</td>\n      <td>34</td>\n      <td>단체:창립자</td>\n      <td>36</td>\n    </tr>\n    <tr>\n      <th>229005</th>\n      <td>from dev_csv 8321</td>\n      <td>현재 그는 T.I.가 설립한 레이블인 그랜드 허슬 레코드에 소속되어 있다.</td>\n      <td>T.I.</td>\n      <td>6</td>\n      <td>10</td>\n      <td>그랜드 허슬 레코드</td>\n      <td>21</td>\n      <td>31</td>\n      <td>단체:창립자</td>\n      <td>25</td>\n    </tr>\n    <tr>\n      <th>221256</th>\n      <td>from train_csv 935157</td>\n      <td>1945년 12월 1일 민병도, 조풍연, 윤석중과 함께 출판사를 창립하였으며, 19...</td>\n      <td>민병도</td>\n      <td>14</td>\n      <td>17</td>\n      <td>을유문화사</td>\n      <td>71</td>\n      <td>76</td>\n      <td>단체:창립자</td>\n      <td>57</td>\n    </tr>\n  </tbody>\n</table>\n<p>1206 rows × 10 columns</p>\n</div>",
      "text/plain": "                            0  \\\n228557      from dev_csv 5135   \n200054  from train_csv 283731   \n203340  from train_csv 350859   \n197460  from train_csv 242038   \n199427  from train_csv 268241   \n...                       ...   \n229050      from dev_csv 8366   \n222113  from train_csv 975423   \n229030      from dev_csv 8346   \n229005      from dev_csv 8321   \n221256  from train_csv 935157   \n\n                                                        1         2   3   4  \\\n228557              2014년 MBC 주말특별기획 《마마 (드라마)》 ... 박남순 역       MBC   6   9   \n200054                       2014 년 tvN 월화 드라마 《 라이어 게임 》       tvN   7  10   \n203340  《 막돼먹은 영애씨 》 는 tvN 에서 방송 되 고 있 는 다큐멘터리 텔레비전 프로...       tvN  15  18   \n197460  정재형 이효리의 유&아이 ( 2012 . 02 . 26 ~ 2012 . 10 . 1...    SBS TV  51  57   \n199427                     KBS 뉴스라인 ( KBS 제1TV , 밤 11 시 )  KBS 제1TV  12  20   \n...                                                   ...       ...  ..  ..   \n229050  이에 활동이 멈출 위기에 놓였으나 휴렛 팩커드의 창업자인 윌리엄 휴렛과 데이브 팩커...      폴 앨런  65  69   \n222113  1832년, 제임스 매터슨과 청나라 광저우(沙面島)에서 ‘자딘 매터슨’ 상회를 설립했다.   제임스 매터슨   8  15   \n229030  유한양행과 라초이를 설립한 기업가 유일한의 동생이자, 유유제약을 설립한 유특한의 형이다.       유특한  40  43   \n229005          현재 그는 T.I.가 설립한 레이블인 그랜드 허슬 레코드에 소속되어 있다.      T.I.   6  10   \n221256  1945년 12월 1일 민병도, 조풍연, 윤석중과 함께 출판사를 창립하였으며, 19...       민병도  14  17   \n\n                    5   6   7       8  token_len  \n228557       마마 (드라마)  18  26   단체:제작         20  \n200054         라이어 게임  20  26   단체:제작         16  \n203340       막돼먹은 영애씨   2  10   단체:제작         42  \n197460  정재형 이효리의 유&아이   1  14   단체:제작         35  \n199427       KBS 뉴스라인   1   9   단체:제작         16  \n...               ...  ..  ..     ...        ...  \n229050        마이크로소프트  49  56  단체:창립자         81  \n222113         자딘 매터슨  33  39  단체:창립자         36  \n229030           유유제약  30  34  단체:창립자         36  \n229005     그랜드 허슬 레코드  21  31  단체:창립자         25  \n221256          을유문화사  71  76  단체:창립자         57  \n\n[1206 rows x 10 columns]"
     },
     "execution_count": 169,
     "metadata": {},
     "output_type": "execute_result"
    }
   ],
   "source": [
    "# 최종 정제된 규진님의 외부 데이터\n",
    "process_external_data"
   ]
  },
  {
   "cell_type": "code",
   "execution_count": 170,
   "metadata": {},
   "outputs": [],
   "source": [
    "process_external_data.index = range(process_external_data.shape[0])"
   ]
  },
  {
   "cell_type": "markdown",
   "metadata": {},
   "source": [
    "# Pororo 이용 ner Tag 붙이기\n",
    "- new_train\n",
    "- process_external_data"
   ]
  },
  {
   "cell_type": "code",
   "execution_count": 110,
   "metadata": {},
   "outputs": [],
   "source": [
    "from pororo import Pororo\n",
    "ner = Pororo(task=\"ner\", lang=\"ko\")"
   ]
  },
  {
   "cell_type": "code",
   "execution_count": 111,
   "metadata": {},
   "outputs": [
    {
     "data": {
      "text/plain": "[('이순신', 'PERSON'),\n ('은', 'O'),\n (' ', 'O'),\n ('조선 중기', 'DATE'),\n ('의', 'O'),\n (' ', 'O'),\n ('무신', 'CIVILIZATION'),\n ('이다', 'O')]"
     },
     "execution_count": 111,
     "metadata": {},
     "output_type": "execute_result"
    }
   ],
   "source": [
    "ner(\"이순신은 조선 중기의 무신이다\")"
   ]
  },
  {
   "cell_type": "code",
   "execution_count": 112,
   "metadata": {},
   "outputs": [
    {
     "data": {
      "text/plain": "[('유리', 'MATERIAL'), ('가가린', 'O')]"
     },
     "execution_count": 112,
     "metadata": {},
     "output_type": "execute_result"
    }
   ],
   "source": [
    "ner('유리가가린')"
   ]
  },
  {
   "cell_type": "code",
   "execution_count": 113,
   "metadata": {},
   "outputs": [
    {
     "data": {
      "text/html": "<div>\n<style scoped>\n    .dataframe tbody tr th:only-of-type {\n        vertical-align: middle;\n    }\n\n    .dataframe tbody tr th {\n        vertical-align: top;\n    }\n\n    .dataframe thead th {\n        text-align: right;\n    }\n</style>\n<table border=\"1\" class=\"dataframe\">\n  <thead>\n    <tr style=\"text-align: right;\">\n      <th></th>\n      <th>0</th>\n      <th>1</th>\n      <th>2</th>\n      <th>3</th>\n      <th>4</th>\n      <th>5</th>\n      <th>6</th>\n      <th>7</th>\n      <th>8</th>\n      <th>token_len</th>\n    </tr>\n  </thead>\n  <tbody>\n    <tr>\n      <th>0</th>\n      <td>wikipedia-24896-25-30-33-19-21</td>\n      <td>영국에서 사용되는 스포츠 유틸리티 자동차의 브랜드로는 랜드로버(Land Rover)...</td>\n      <td>랜드로버</td>\n      <td>30</td>\n      <td>33</td>\n      <td>자동차</td>\n      <td>19</td>\n      <td>21</td>\n      <td>단체:제작</td>\n      <td>50</td>\n    </tr>\n    <tr>\n      <th>1</th>\n      <td>wikipedia-12728-224-5-7-42-44</td>\n      <td>선거에서 민주당은 해산 전 의석인 230석에 한참 못 미치는 57석(지역구 27석,...</td>\n      <td>민주당</td>\n      <td>5</td>\n      <td>7</td>\n      <td>27석</td>\n      <td>42</td>\n      <td>44</td>\n      <td>관계_없음</td>\n      <td>41</td>\n    </tr>\n    <tr>\n      <th>2</th>\n      <td>wikipedia-28460-3-0-7-9-12</td>\n      <td>유럽 축구 연맹(UEFA) 집행위원회는 2014년 1월 24일에 열린 회의를 통해 ...</td>\n      <td>유럽 축구 연맹</td>\n      <td>0</td>\n      <td>7</td>\n      <td>UEFA</td>\n      <td>9</td>\n      <td>12</td>\n      <td>단체:별칭</td>\n      <td>52</td>\n    </tr>\n    <tr>\n      <th>3</th>\n      <td>wikipedia-11479-37-24-26-3-5</td>\n      <td>용병 공격수 챠디의 부진과 시즌 초 활약한 강수일의 침체, 시즌 중반에 영입한 세르...</td>\n      <td>강수일</td>\n      <td>24</td>\n      <td>26</td>\n      <td>공격수</td>\n      <td>3</td>\n      <td>5</td>\n      <td>인물:직업/직함</td>\n      <td>101</td>\n    </tr>\n    <tr>\n      <th>4</th>\n      <td>wikipedia-15581-6-0-2-32-40</td>\n      <td>람캄행 왕은 1237년에서 1247년 사이 수코타이의 왕 퍼쿤 씨 인트라팃과 쓰엉 ...</td>\n      <td>람캄행</td>\n      <td>0</td>\n      <td>2</td>\n      <td>퍼쿤 씨 인트라팃</td>\n      <td>32</td>\n      <td>40</td>\n      <td>인물:부모님</td>\n      <td>44</td>\n    </tr>\n    <tr>\n      <th>...</th>\n      <td>...</td>\n      <td>...</td>\n      <td>...</td>\n      <td>...</td>\n      <td>...</td>\n      <td>...</td>\n      <td>...</td>\n      <td>...</td>\n      <td>...</td>\n      <td>...</td>\n    </tr>\n    <tr>\n      <th>9111</th>\n      <td>wikitree-55169-1-15-17-23-27</td>\n      <td>10일 매체는 방송인 서장훈이 모교 연세대학교에 광고 모델료 1억5000만원을 전액...</td>\n      <td>서장훈</td>\n      <td>15</td>\n      <td>17</td>\n      <td>연세대학교</td>\n      <td>23</td>\n      <td>27</td>\n      <td>인물:학교</td>\n      <td>33</td>\n    </tr>\n    <tr>\n      <th>9112</th>\n      <td>wikipedia-29295-6-74-76-60-64</td>\n      <td>이때 리천희는 주포 양희승이 아킬레스건 상처를 입었을 때, 주전 선수들이 고려대학교...</td>\n      <td>이규섭</td>\n      <td>74</td>\n      <td>76</td>\n      <td>고려대학교</td>\n      <td>60</td>\n      <td>64</td>\n      <td>인물:학교</td>\n      <td>103</td>\n    </tr>\n    <tr>\n      <th>9113</th>\n      <td>wikipedia-9102-0-0-5-49-53</td>\n      <td>다쓰노 긴고(1854년 10월 13일~1919년 3월 25일)은 일본의 건축가이다....</td>\n      <td>다쓰노 긴고</td>\n      <td>0</td>\n      <td>5</td>\n      <td>고부대학교</td>\n      <td>49</td>\n      <td>53</td>\n      <td>인물:학교</td>\n      <td>59</td>\n    </tr>\n    <tr>\n      <th>9114</th>\n      <td>wikipedia-14613-6-76-81-22-27</td>\n      <td>1949년~1950년에는 교환학생으로 파리 대학교에 머물렀고, 여기서 장 룰레 안리...</td>\n      <td>자크 디미에</td>\n      <td>76</td>\n      <td>81</td>\n      <td>파리 대학교</td>\n      <td>22</td>\n      <td>27</td>\n      <td>인물:학교</td>\n      <td>54</td>\n    </tr>\n    <tr>\n      <th>9115</th>\n      <td>wikipedia-23776-12-70-72-35-42</td>\n      <td>게다가 1960년 남하라 금지중학교를 졸업하고 그 해에 마산상업고등학교에 입학한 지...</td>\n      <td>김주열</td>\n      <td>70</td>\n      <td>72</td>\n      <td>마산상업고등학교</td>\n      <td>35</td>\n      <td>42</td>\n      <td>인물:학교</td>\n      <td>103</td>\n    </tr>\n  </tbody>\n</table>\n<p>9108 rows × 10 columns</p>\n</div>",
      "text/plain": "                                   0  \\\n0     wikipedia-24896-25-30-33-19-21   \n1      wikipedia-12728-224-5-7-42-44   \n2         wikipedia-28460-3-0-7-9-12   \n3       wikipedia-11479-37-24-26-3-5   \n4        wikipedia-15581-6-0-2-32-40   \n...                              ...   \n9111    wikitree-55169-1-15-17-23-27   \n9112   wikipedia-29295-6-74-76-60-64   \n9113      wikipedia-9102-0-0-5-49-53   \n9114   wikipedia-14613-6-76-81-22-27   \n9115  wikipedia-23776-12-70-72-35-42   \n\n                                                      1         2   3   4  \\\n0     영국에서 사용되는 스포츠 유틸리티 자동차의 브랜드로는 랜드로버(Land Rover)...      랜드로버  30  33   \n1     선거에서 민주당은 해산 전 의석인 230석에 한참 못 미치는 57석(지역구 27석,...       민주당   5   7   \n2     유럽 축구 연맹(UEFA) 집행위원회는 2014년 1월 24일에 열린 회의를 통해 ...  유럽 축구 연맹   0   7   \n3     용병 공격수 챠디의 부진과 시즌 초 활약한 강수일의 침체, 시즌 중반에 영입한 세르...       강수일  24  26   \n4     람캄행 왕은 1237년에서 1247년 사이 수코타이의 왕 퍼쿤 씨 인트라팃과 쓰엉 ...       람캄행   0   2   \n...                                                 ...       ...  ..  ..   \n9111  10일 매체는 방송인 서장훈이 모교 연세대학교에 광고 모델료 1억5000만원을 전액...       서장훈  15  17   \n9112  이때 리천희는 주포 양희승이 아킬레스건 상처를 입었을 때, 주전 선수들이 고려대학교...       이규섭  74  76   \n9113  다쓰노 긴고(1854년 10월 13일~1919년 3월 25일)은 일본의 건축가이다....    다쓰노 긴고   0   5   \n9114  1949년~1950년에는 교환학생으로 파리 대학교에 머물렀고, 여기서 장 룰레 안리...    자크 디미에  76  81   \n9115  게다가 1960년 남하라 금지중학교를 졸업하고 그 해에 마산상업고등학교에 입학한 지...       김주열  70  72   \n\n              5   6   7         8  token_len  \n0           자동차  19  21     단체:제작         50  \n1           27석  42  44     관계_없음         41  \n2          UEFA   9  12     단체:별칭         52  \n3           공격수   3   5  인물:직업/직함        101  \n4     퍼쿤 씨 인트라팃  32  40    인물:부모님         44  \n...         ...  ..  ..       ...        ...  \n9111      연세대학교  23  27     인물:학교         33  \n9112      고려대학교  60  64     인물:학교        103  \n9113      고부대학교  49  53     인물:학교         59  \n9114     파리 대학교  22  27     인물:학교         54  \n9115   마산상업고등학교  35  42     인물:학교        103  \n\n[9108 rows x 10 columns]"
     },
     "execution_count": 113,
     "metadata": {},
     "output_type": "execute_result"
    }
   ],
   "source": [
    "new_train_drop"
   ]
  },
  {
   "cell_type": "code",
   "execution_count": 114,
   "metadata": {},
   "outputs": [],
   "source": [
    "new_train_drop['ner_e1'] = new_train_drop.iloc[:,2].apply(lambda x: ner(x))\n",
    "new_train_drop['ner_e2'] = new_train_drop.iloc[:,5].apply(lambda x: ner(x))"
   ]
  },
  {
   "cell_type": "code",
   "execution_count": 158,
   "metadata": {},
   "outputs": [],
   "source": [
    "new_train_drop.index = range(new_train_drop.shape[0])"
   ]
  },
  {
   "cell_type": "code",
   "execution_count": 175,
   "metadata": {},
   "outputs": [],
   "source": [
    "ner_train = new_train_drop.copy()\n",
    "ner_train.to_csv('../input/data/train/ner_train.tsv',sep='\\t',index=False)"
   ]
  },
  {
   "cell_type": "code",
   "execution_count": 176,
   "metadata": {},
   "outputs": [],
   "source": [
    "process_external_data['ner_e1'] = process_external_data.iloc[:,2].apply(lambda x: ner(x))\n",
    "process_external_data['ner_e2'] = process_external_data.iloc[:,5].apply(lambda x: ner(x))"
   ]
  },
  {
   "cell_type": "code",
   "execution_count": 187,
   "metadata": {},
   "outputs": [],
   "source": [
    "process_external_data.to_csv('../input/data/external_data/ner_external_data.tsv',sep='\\t',index=False)"
   ]
  },
  {
   "cell_type": "code",
   "execution_count": 177,
   "metadata": {},
   "outputs": [],
   "source": [
    "new_test = test.copy()\n",
    "new_test['ner_e1'] = new_test.iloc[:,2].apply(lambda x: ner(x))\n",
    "new_test['ner_e2'] = new_test.iloc[:,5].apply(lambda x: ner(x))"
   ]
  },
  {
   "cell_type": "code",
   "execution_count": 188,
   "metadata": {},
   "outputs": [],
   "source": [
    "new_test.to_csv('../input/data/test/ner_test.tsv',sep='\\t',index=False)"
   ]
  },
  {
   "cell_type": "code",
   "execution_count": 178,
   "metadata": {},
   "outputs": [],
   "source": [
    "# new_train은 원래 train의 형식으로 맞춰서 저장하자.\n",
    "\n",
    "# new_train_drop.to_csv('../input/data/train/new_train.tsv',sep='\\t',index=False)"
   ]
  },
  {
   "cell_type": "code",
   "execution_count": 179,
   "metadata": {},
   "outputs": [],
   "source": [
    "# 서장훈 index가 잘못적혀있음.\n",
    "new_train_drop.iloc[9103,[3,4]] = [12,14]"
   ]
  },
  {
   "cell_type": "code",
   "execution_count": 180,
   "metadata": {},
   "outputs": [],
   "source": [
    "# input_series = new_train_drop.iloc[4]\n",
    "def add_ner_token(myseries):\n",
    "  original_sentence = myseries.iloc[1]\n",
    "  ent1, ent1_start, ent1_end = myseries.iloc[2], int(myseries.iloc[3]), int(myseries.iloc[4])\n",
    "  ent2, ent2_start, ent2_end = myseries.iloc[5], int(myseries.iloc[6]), int(myseries.iloc[7])\n",
    "\n",
    "  ner_tag1 = ' '.join([x[1] for x in myseries.loc['ner_e1'] if x[1]!='O'])\n",
    "  ner_tag2 = ' '.join([x[1] for x in myseries.loc['ner_e2'] if x[1]!='O'])\n",
    "\n",
    "\n",
    "  # result_ner_tag1 = ' @' + ' * ' + ner_tag1.lower() + ' * ' +  + ' @'\n",
    "  # result_ner_tag2 = ' #' + ' ^ ' + ner_tag2.lower() + ' ^ ' + input_series.iloc[5] + ' #'\n",
    "\n",
    "  add_ner_sentence = original_sentence[:ent1_start] + ' @' + ' * ' + ner_tag1.lower() + ' * ' + original_sentence[ent1_start:ent1_end+1] + ' @' + \\\n",
    "                    original_sentence[ent1_end+1:ent2_start] + ' #' + ' ^ ' + ner_tag2.lower() + ' ^ ' + original_sentence[ent2_start:ent2_end+1] + ' #' + original_sentence[ent2_end+1:]\n",
    "\n",
    "  return add_ner_sentence\n",
    "# print(add_ner_sentence)\n",
    "# print(result_ner_tag2)\n"
   ]
  },
  {
   "cell_type": "code",
   "execution_count": 183,
   "metadata": {},
   "outputs": [
    {
     "data": {
      "text/html": "<div>\n<style scoped>\n    .dataframe tbody tr th:only-of-type {\n        vertical-align: middle;\n    }\n\n    .dataframe tbody tr th {\n        vertical-align: top;\n    }\n\n    .dataframe thead th {\n        text-align: right;\n    }\n</style>\n<table border=\"1\" class=\"dataframe\">\n  <thead>\n    <tr style=\"text-align: right;\">\n      <th></th>\n      <th>0</th>\n      <th>1</th>\n      <th>2</th>\n      <th>3</th>\n      <th>4</th>\n      <th>5</th>\n      <th>6</th>\n      <th>7</th>\n      <th>8</th>\n    </tr>\n  </thead>\n  <tbody>\n    <tr>\n      <th>0</th>\n      <td>wikipedia-24896-25-30-33-19-21</td>\n      <td>영국에서 사용되는 스포츠 유틸리티 자동차의 브랜드로는  @ * organizatio...</td>\n      <td>랜드로버</td>\n      <td>30</td>\n      <td>33</td>\n      <td>자동차</td>\n      <td>19</td>\n      <td>21</td>\n      <td>단체:제작</td>\n    </tr>\n    <tr>\n      <th>1</th>\n      <td>wikipedia-12728-224-5-7-42-44</td>\n      <td>선거에서  @ * organization * 민주당 @은 해산 전 의석인 230석에...</td>\n      <td>민주당</td>\n      <td>5</td>\n      <td>7</td>\n      <td>27석</td>\n      <td>42</td>\n      <td>44</td>\n      <td>관계_없음</td>\n    </tr>\n    <tr>\n      <th>2</th>\n      <td>wikipedia-28460-3-0-7-9-12</td>\n      <td>@ * organization * 유럽 축구 연맹 @( # ^ organizati...</td>\n      <td>유럽 축구 연맹</td>\n      <td>0</td>\n      <td>7</td>\n      <td>UEFA</td>\n      <td>9</td>\n      <td>12</td>\n      <td>단체:별칭</td>\n    </tr>\n    <tr>\n      <th>3</th>\n      <td>wikipedia-11479-37-24-26-3-5</td>\n      <td>용병 공격수 챠디의 부진과 시즌 초 활약한  @ * person * 강수일 @ # ...</td>\n      <td>강수일</td>\n      <td>24</td>\n      <td>26</td>\n      <td>공격수</td>\n      <td>3</td>\n      <td>5</td>\n      <td>인물:직업/직함</td>\n    </tr>\n    <tr>\n      <th>4</th>\n      <td>wikipedia-15581-6-0-2-32-40</td>\n      <td>@ * location * 람캄행 @ 왕은 1237년에서 1247년 사이 수코타이...</td>\n      <td>람캄행</td>\n      <td>0</td>\n      <td>2</td>\n      <td>퍼쿤 씨 인트라팃</td>\n      <td>32</td>\n      <td>40</td>\n      <td>인물:부모님</td>\n    </tr>\n    <tr>\n      <th>...</th>\n      <td>...</td>\n      <td>...</td>\n      <td>...</td>\n      <td>...</td>\n      <td>...</td>\n      <td>...</td>\n      <td>...</td>\n      <td>...</td>\n      <td>...</td>\n    </tr>\n    <tr>\n      <th>9103</th>\n      <td>wikitree-55169-1-15-17-23-27</td>\n      <td>10일 매체는 방송인  @ * person * 서장훈 @이 모교 연세대 # ^ or...</td>\n      <td>서장훈</td>\n      <td>12</td>\n      <td>14</td>\n      <td>연세대학교</td>\n      <td>23</td>\n      <td>27</td>\n      <td>인물:학교</td>\n    </tr>\n    <tr>\n      <th>9104</th>\n      <td>wikipedia-29295-6-74-76-60-64</td>\n      <td>이때 리천희는 주포 양희승이 아킬레스건 상처를 입었을 때, 주전 선수들이 고려대학교...</td>\n      <td>이규섭</td>\n      <td>74</td>\n      <td>76</td>\n      <td>고려대학교</td>\n      <td>60</td>\n      <td>64</td>\n      <td>인물:학교</td>\n    </tr>\n    <tr>\n      <th>9105</th>\n      <td>wikipedia-9102-0-0-5-49-53</td>\n      <td>@ * person * 다쓰노 긴고 @(1854년 10월 13일~1919년 3월 ...</td>\n      <td>다쓰노 긴고</td>\n      <td>0</td>\n      <td>5</td>\n      <td>고부대학교</td>\n      <td>49</td>\n      <td>53</td>\n      <td>인물:학교</td>\n    </tr>\n    <tr>\n      <th>9106</th>\n      <td>wikipedia-14613-6-76-81-22-27</td>\n      <td>1949년~1950년에는 교환학생으로 파리 대학교에 머물렀고, 여기서 장 룰레 안리...</td>\n      <td>자크 디미에</td>\n      <td>76</td>\n      <td>81</td>\n      <td>파리 대학교</td>\n      <td>22</td>\n      <td>27</td>\n      <td>인물:학교</td>\n    </tr>\n    <tr>\n      <th>9107</th>\n      <td>wikipedia-23776-12-70-72-35-42</td>\n      <td>게다가 1960년 남하라 금지중학교를 졸업하고 그 해에 마산상업고등학교에 입학한 지...</td>\n      <td>김주열</td>\n      <td>70</td>\n      <td>72</td>\n      <td>마산상업고등학교</td>\n      <td>35</td>\n      <td>42</td>\n      <td>인물:학교</td>\n    </tr>\n  </tbody>\n</table>\n<p>9108 rows × 9 columns</p>\n</div>",
      "text/plain": "                                   0  \\\n0     wikipedia-24896-25-30-33-19-21   \n1      wikipedia-12728-224-5-7-42-44   \n2         wikipedia-28460-3-0-7-9-12   \n3       wikipedia-11479-37-24-26-3-5   \n4        wikipedia-15581-6-0-2-32-40   \n...                              ...   \n9103    wikitree-55169-1-15-17-23-27   \n9104   wikipedia-29295-6-74-76-60-64   \n9105      wikipedia-9102-0-0-5-49-53   \n9106   wikipedia-14613-6-76-81-22-27   \n9107  wikipedia-23776-12-70-72-35-42   \n\n                                                      1         2   3   4  \\\n0     영국에서 사용되는 스포츠 유틸리티 자동차의 브랜드로는  @ * organizatio...      랜드로버  30  33   \n1     선거에서  @ * organization * 민주당 @은 해산 전 의석인 230석에...       민주당   5   7   \n2      @ * organization * 유럽 축구 연맹 @( # ^ organizati...  유럽 축구 연맹   0   7   \n3     용병 공격수 챠디의 부진과 시즌 초 활약한  @ * person * 강수일 @ # ...       강수일  24  26   \n4      @ * location * 람캄행 @ 왕은 1237년에서 1247년 사이 수코타이...       람캄행   0   2   \n...                                                 ...       ...  ..  ..   \n9103  10일 매체는 방송인  @ * person * 서장훈 @이 모교 연세대 # ^ or...       서장훈  12  14   \n9104  이때 리천희는 주포 양희승이 아킬레스건 상처를 입었을 때, 주전 선수들이 고려대학교...       이규섭  74  76   \n9105   @ * person * 다쓰노 긴고 @(1854년 10월 13일~1919년 3월 ...    다쓰노 긴고   0   5   \n9106  1949년~1950년에는 교환학생으로 파리 대학교에 머물렀고, 여기서 장 룰레 안리...    자크 디미에  76  81   \n9107  게다가 1960년 남하라 금지중학교를 졸업하고 그 해에 마산상업고등학교에 입학한 지...       김주열  70  72   \n\n              5   6   7         8  \n0           자동차  19  21     단체:제작  \n1           27석  42  44     관계_없음  \n2          UEFA   9  12     단체:별칭  \n3           공격수   3   5  인물:직업/직함  \n4     퍼쿤 씨 인트라팃  32  40    인물:부모님  \n...         ...  ..  ..       ...  \n9103      연세대학교  23  27     인물:학교  \n9104      고려대학교  60  64     인물:학교  \n9105      고부대학교  49  53     인물:학교  \n9106     파리 대학교  22  27     인물:학교  \n9107   마산상업고등학교  35  42     인물:학교  \n\n[9108 rows x 9 columns]"
     },
     "execution_count": 183,
     "metadata": {},
     "output_type": "execute_result"
    }
   ],
   "source": [
    "final_train_ner = new_train_drop.copy()\n",
    "final_train_ner.iloc[:,1] = final_train_ner.apply(lambda x: add_ner_token(x), axis=1)\n",
    "final_train_ner = final_train_ner.drop(['token_len','ner_e1','ner_e2'],axis=1)\n",
    "final_train_ner"
   ]
  },
  {
   "cell_type": "code",
   "execution_count": 184,
   "metadata": {},
   "outputs": [
    {
     "data": {
      "text/html": "<div>\n<style scoped>\n    .dataframe tbody tr th:only-of-type {\n        vertical-align: middle;\n    }\n\n    .dataframe tbody tr th {\n        vertical-align: top;\n    }\n\n    .dataframe thead th {\n        text-align: right;\n    }\n</style>\n<table border=\"1\" class=\"dataframe\">\n  <thead>\n    <tr style=\"text-align: right;\">\n      <th></th>\n      <th>0</th>\n      <th>1</th>\n      <th>2</th>\n      <th>3</th>\n      <th>4</th>\n      <th>5</th>\n      <th>6</th>\n      <th>7</th>\n      <th>8</th>\n    </tr>\n  </thead>\n  <tbody>\n    <tr>\n      <th>0</th>\n      <td>from dev_csv 5135</td>\n      <td>2014년  @ * organization * MBC  @주말특별기획 《 # ^ a...</td>\n      <td>MBC</td>\n      <td>6</td>\n      <td>9</td>\n      <td>마마 (드라마)</td>\n      <td>18</td>\n      <td>26</td>\n      <td>단체:제작</td>\n    </tr>\n    <tr>\n      <th>1</th>\n      <td>from train_csv 283731</td>\n      <td>2014 년  @ * organization * tvN  @월화 드라마 《  # ^...</td>\n      <td>tvN</td>\n      <td>7</td>\n      <td>10</td>\n      <td>라이어 게임</td>\n      <td>20</td>\n      <td>26</td>\n      <td>단체:제작</td>\n    </tr>\n    <tr>\n      <th>2</th>\n      <td>from train_csv 350859</td>\n      <td>《 막돼먹은 영애씨 》 는  @ * organization * tvN  @ # ^ ...</td>\n      <td>tvN</td>\n      <td>15</td>\n      <td>18</td>\n      <td>막돼먹은 영애씨</td>\n      <td>2</td>\n      <td>10</td>\n      <td>단체:제작</td>\n    </tr>\n    <tr>\n      <th>3</th>\n      <td>from train_csv 242038</td>\n      <td>정재형 이효리의 유&amp;아이 ( 2012 . 02 . 26 ~ 2012 . 10 . 1...</td>\n      <td>SBS TV</td>\n      <td>51</td>\n      <td>57</td>\n      <td>정재형 이효리의 유&amp;아이</td>\n      <td>1</td>\n      <td>14</td>\n      <td>단체:제작</td>\n    </tr>\n    <tr>\n      <th>4</th>\n      <td>from train_csv 268241</td>\n      <td>KBS 뉴스라인 ( K @ * organization artifact * BS 제1...</td>\n      <td>KBS 제1TV</td>\n      <td>12</td>\n      <td>20</td>\n      <td>KBS 뉴스라인</td>\n      <td>1</td>\n      <td>9</td>\n      <td>단체:제작</td>\n    </tr>\n    <tr>\n      <th>...</th>\n      <td>...</td>\n      <td>...</td>\n      <td>...</td>\n      <td>...</td>\n      <td>...</td>\n      <td>...</td>\n      <td>...</td>\n      <td>...</td>\n      <td>...</td>\n    </tr>\n    <tr>\n      <th>1201</th>\n      <td>from dev_csv 8366</td>\n      <td>이에 활동이 멈출 위기에 놓였으나 휴렛 팩커드의 창업자인 윌리엄 휴렛과 데이브 팩커...</td>\n      <td>폴 앨런</td>\n      <td>65</td>\n      <td>69</td>\n      <td>마이크로소프트</td>\n      <td>49</td>\n      <td>56</td>\n      <td>단체:창립자</td>\n    </tr>\n    <tr>\n      <th>1202</th>\n      <td>from train_csv 975423</td>\n      <td>1832년, 제 @ * person * 임스 매터슨과  @청나라 광저우(沙面島)에서...</td>\n      <td>제임스 매터슨</td>\n      <td>8</td>\n      <td>15</td>\n      <td>자딘 매터슨</td>\n      <td>33</td>\n      <td>39</td>\n      <td>단체:창립자</td>\n    </tr>\n    <tr>\n      <th>1203</th>\n      <td>from dev_csv 8346</td>\n      <td>유한양행과 라초이를 설립한 기업가 유일한의 동생이자, 유유제약을 설립한  @ *  ...</td>\n      <td>유특한</td>\n      <td>40</td>\n      <td>43</td>\n      <td>유유제약</td>\n      <td>30</td>\n      <td>34</td>\n      <td>단체:창립자</td>\n    </tr>\n    <tr>\n      <th>1204</th>\n      <td>from dev_csv 8321</td>\n      <td>현재 그는  @ * person * T.I.가 @ 설립한 레이블인  # ^  ^ 그...</td>\n      <td>T.I.</td>\n      <td>6</td>\n      <td>10</td>\n      <td>그랜드 허슬 레코드</td>\n      <td>21</td>\n      <td>31</td>\n      <td>단체:창립자</td>\n    </tr>\n    <tr>\n      <th>1205</th>\n      <td>from train_csv 935157</td>\n      <td>1945년 12월 1일 민 @ * person * 병도,  @조풍연, 윤석중과 함께...</td>\n      <td>민병도</td>\n      <td>14</td>\n      <td>17</td>\n      <td>을유문화사</td>\n      <td>71</td>\n      <td>76</td>\n      <td>단체:창립자</td>\n    </tr>\n  </tbody>\n</table>\n<p>1206 rows × 9 columns</p>\n</div>",
      "text/plain": "                          0  \\\n0         from dev_csv 5135   \n1     from train_csv 283731   \n2     from train_csv 350859   \n3     from train_csv 242038   \n4     from train_csv 268241   \n...                     ...   \n1201      from dev_csv 8366   \n1202  from train_csv 975423   \n1203      from dev_csv 8346   \n1204      from dev_csv 8321   \n1205  from train_csv 935157   \n\n                                                      1         2   3   4  \\\n0     2014년  @ * organization * MBC  @주말특별기획 《 # ^ a...       MBC   6   9   \n1     2014 년  @ * organization * tvN  @월화 드라마 《  # ^...       tvN   7  10   \n2     《 막돼먹은 영애씨 》 는  @ * organization * tvN  @ # ^ ...       tvN  15  18   \n3     정재형 이효리의 유&아이 ( 2012 . 02 . 26 ~ 2012 . 10 . 1...    SBS TV  51  57   \n4     KBS 뉴스라인 ( K @ * organization artifact * BS 제1...  KBS 제1TV  12  20   \n...                                                 ...       ...  ..  ..   \n1201  이에 활동이 멈출 위기에 놓였으나 휴렛 팩커드의 창업자인 윌리엄 휴렛과 데이브 팩커...      폴 앨런  65  69   \n1202  1832년, 제 @ * person * 임스 매터슨과  @청나라 광저우(沙面島)에서...   제임스 매터슨   8  15   \n1203  유한양행과 라초이를 설립한 기업가 유일한의 동생이자, 유유제약을 설립한  @ *  ...       유특한  40  43   \n1204  현재 그는  @ * person * T.I.가 @ 설립한 레이블인  # ^  ^ 그...      T.I.   6  10   \n1205  1945년 12월 1일 민 @ * person * 병도,  @조풍연, 윤석중과 함께...       민병도  14  17   \n\n                  5   6   7       8  \n0          마마 (드라마)  18  26   단체:제작  \n1            라이어 게임  20  26   단체:제작  \n2          막돼먹은 영애씨   2  10   단체:제작  \n3     정재형 이효리의 유&아이   1  14   단체:제작  \n4          KBS 뉴스라인   1   9   단체:제작  \n...             ...  ..  ..     ...  \n1201        마이크로소프트  49  56  단체:창립자  \n1202         자딘 매터슨  33  39  단체:창립자  \n1203           유유제약  30  34  단체:창립자  \n1204     그랜드 허슬 레코드  21  31  단체:창립자  \n1205          을유문화사  71  76  단체:창립자  \n\n[1206 rows x 9 columns]"
     },
     "execution_count": 184,
     "metadata": {},
     "output_type": "execute_result"
    }
   ],
   "source": [
    "final_external_ner = process_external_data.copy()\n",
    "final_external_ner.iloc[:,1] = final_external_ner.apply(lambda x: add_ner_token(x), axis=1)\n",
    "final_external_ner = final_external_ner.drop(['token_len','ner_e1','ner_e2'],axis=1)\n",
    "final_external_ner"
   ]
  },
  {
   "cell_type": "code",
   "execution_count": 185,
   "metadata": {},
   "outputs": [
    {
     "data": {
      "text/html": "<div>\n<style scoped>\n    .dataframe tbody tr th:only-of-type {\n        vertical-align: middle;\n    }\n\n    .dataframe tbody tr th {\n        vertical-align: top;\n    }\n\n    .dataframe thead th {\n        text-align: right;\n    }\n</style>\n<table border=\"1\" class=\"dataframe\">\n  <thead>\n    <tr style=\"text-align: right;\">\n      <th></th>\n      <th>0</th>\n      <th>1</th>\n      <th>2</th>\n      <th>3</th>\n      <th>4</th>\n      <th>5</th>\n      <th>6</th>\n      <th>7</th>\n      <th>8</th>\n    </tr>\n  </thead>\n  <tbody>\n    <tr>\n      <th>0</th>\n      <td>wikipedia-15133-19-0-2-45-46</td>\n      <td>@ * person * 이은주 @의 첫 영화로, 그녀가 강수연(정화 역)의 동생 ...</td>\n      <td>이은주</td>\n      <td>0</td>\n      <td>2</td>\n      <td>감독</td>\n      <td>45</td>\n      <td>46</td>\n      <td>blind</td>\n    </tr>\n    <tr>\n      <th>1</th>\n      <td>wikitree-10241-0-0-4-9-11</td>\n      <td>@ * organization * 경성대학교 @(총장  # ^  ^ 송수건 #) ...</td>\n      <td>경성대학교</td>\n      <td>0</td>\n      <td>4</td>\n      <td>송수건</td>\n      <td>9</td>\n      <td>11</td>\n      <td>blind</td>\n    </tr>\n    <tr>\n      <th>2</th>\n      <td>wikipedia-24909-38-83-89-45-48</td>\n      <td>하더라도 만일 그녀의 아들에게 계승시킬 수 있다면 영국 왕 에드워드 2세의 왕비 이...</td>\n      <td>에드워드 3세</td>\n      <td>83</td>\n      <td>89</td>\n      <td>이사벨라</td>\n      <td>45</td>\n      <td>48</td>\n      <td>blind</td>\n    </tr>\n    <tr>\n      <th>3</th>\n      <td>wikitree-29775-2-38-43-17-18</td>\n      <td>정성으로 담근 700포기의 김장김치는 발굴된 저소득 가정 55세대에  @ * org...</td>\n      <td>새마을부녀회</td>\n      <td>38</td>\n      <td>43</td>\n      <td>김치</td>\n      <td>17</td>\n      <td>18</td>\n      <td>blind</td>\n    </tr>\n    <tr>\n      <th>4</th>\n      <td>wikipedia-20874-21-8-9-30-32</td>\n      <td>노트북은 이들  @ * organization * 정부 @에 판매될 것이며 \"하나의...</td>\n      <td>정부</td>\n      <td>8</td>\n      <td>9</td>\n      <td>한 명</td>\n      <td>30</td>\n      <td>32</td>\n      <td>blind</td>\n    </tr>\n    <tr>\n      <th>...</th>\n      <td>...</td>\n      <td>...</td>\n      <td>...</td>\n      <td>...</td>\n      <td>...</td>\n      <td>...</td>\n      <td>...</td>\n      <td>...</td>\n      <td>...</td>\n    </tr>\n    <tr>\n      <th>995</th>\n      <td>wikipedia-5911-11-14-18-21-23</td>\n      <td>1940년 7월 10일,  @ * organization country * 나치 독...</td>\n      <td>나치 독일</td>\n      <td>14</td>\n      <td>18</td>\n      <td>프랑스</td>\n      <td>21</td>\n      <td>23</td>\n      <td>blind</td>\n    </tr>\n    <tr>\n      <th>996</th>\n      <td>wikipedia-17379-20-200-205-179-181</td>\n      <td>(하지만 Vasco는 '스핏파이어(spit fire)(spit fire)'란 프로젝...</td>\n      <td>DJ DOC</td>\n      <td>200</td>\n      <td>205</td>\n      <td>박정환</td>\n      <td>179</td>\n      <td>181</td>\n      <td>blind</td>\n    </tr>\n    <tr>\n      <th>997</th>\n      <td>wikitree-59796-5-32-35-37-39</td>\n      <td>또한 (사)한국여성농업인 광양시 연합회(도미화 회장)는 ㈜ @ * organizat...</td>\n      <td>광양교통</td>\n      <td>32</td>\n      <td>35</td>\n      <td>이순심</td>\n      <td>37</td>\n      <td>39</td>\n      <td>blind</td>\n    </tr>\n    <tr>\n      <th>998</th>\n      <td>wikipedia-1829-41-9-10-0-1</td>\n      <td>마코가 항의하자  @ * animal * 벵어 @ # ^ person ^ 마코 #가...</td>\n      <td>벵어</td>\n      <td>9</td>\n      <td>10</td>\n      <td>마코</td>\n      <td>0</td>\n      <td>1</td>\n      <td>blind</td>\n    </tr>\n    <tr>\n      <th>999</th>\n      <td>wikipedia-15245-1-91-99-43-47</td>\n      <td>도쿄도 출신으로 세이조 대학을 졸업, 1969년 12월 중의원 의원 총선거에 자유민...</td>\n      <td>나카소네 야스히로</td>\n      <td>91</td>\n      <td>99</td>\n      <td>자유민주당</td>\n      <td>43</td>\n      <td>47</td>\n      <td>blind</td>\n    </tr>\n  </tbody>\n</table>\n<p>1000 rows × 9 columns</p>\n</div>",
      "text/plain": "                                      0  \\\n0          wikipedia-15133-19-0-2-45-46   \n1             wikitree-10241-0-0-4-9-11   \n2        wikipedia-24909-38-83-89-45-48   \n3          wikitree-29775-2-38-43-17-18   \n4          wikipedia-20874-21-8-9-30-32   \n..                                  ...   \n995       wikipedia-5911-11-14-18-21-23   \n996  wikipedia-17379-20-200-205-179-181   \n997        wikitree-59796-5-32-35-37-39   \n998          wikipedia-1829-41-9-10-0-1   \n999       wikipedia-15245-1-91-99-43-47   \n\n                                                     1          2    3    4  \\\n0     @ * person * 이은주 @의 첫 영화로, 그녀가 강수연(정화 역)의 동생 ...        이은주    0    2   \n1     @ * organization * 경성대학교 @(총장  # ^  ^ 송수건 #) ...      경성대학교    0    4   \n2    하더라도 만일 그녀의 아들에게 계승시킬 수 있다면 영국 왕 에드워드 2세의 왕비 이...    에드워드 3세   83   89   \n3    정성으로 담근 700포기의 김장김치는 발굴된 저소득 가정 55세대에  @ * org...     새마을부녀회   38   43   \n4    노트북은 이들  @ * organization * 정부 @에 판매될 것이며 \"하나의...         정부    8    9   \n..                                                 ...        ...  ...  ...   \n995  1940년 7월 10일,  @ * organization country * 나치 독...      나치 독일   14   18   \n996  (하지만 Vasco는 '스핏파이어(spit fire)(spit fire)'란 프로젝...     DJ DOC  200  205   \n997  또한 (사)한국여성농업인 광양시 연합회(도미화 회장)는 ㈜ @ * organizat...       광양교통   32   35   \n998  마코가 항의하자  @ * animal * 벵어 @ # ^ person ^ 마코 #가...         벵어    9   10   \n999  도쿄도 출신으로 세이조 대학을 졸업, 1969년 12월 중의원 의원 총선거에 자유민...  나카소네 야스히로   91   99   \n\n         5    6    7      8  \n0       감독   45   46  blind  \n1      송수건    9   11  blind  \n2     이사벨라   45   48  blind  \n3       김치   17   18  blind  \n4      한 명   30   32  blind  \n..     ...  ...  ...    ...  \n995    프랑스   21   23  blind  \n996    박정환  179  181  blind  \n997    이순심   37   39  blind  \n998     마코    0    1  blind  \n999  자유민주당   43   47  blind  \n\n[1000 rows x 9 columns]"
     },
     "execution_count": 185,
     "metadata": {},
     "output_type": "execute_result"
    }
   ],
   "source": [
    "final_test_ner = new_test.copy()\n",
    "final_test_ner.iloc[:,1] = final_test_ner.apply(lambda x: add_ner_token(x), axis=1)\n",
    "final_test_ner = final_test_ner.drop(['token_len','ner_e1','ner_e2'],axis=1)\n",
    "final_test_ner"
   ]
  },
  {
   "cell_type": "code",
   "execution_count": 18,
   "metadata": {},
   "outputs": [
    {
     "data": {
      "text/html": "<div>\n<style scoped>\n    .dataframe tbody tr th:only-of-type {\n        vertical-align: middle;\n    }\n\n    .dataframe tbody tr th {\n        vertical-align: top;\n    }\n\n    .dataframe thead th {\n        text-align: right;\n    }\n</style>\n<table border=\"1\" class=\"dataframe\">\n  <thead>\n    <tr style=\"text-align: right;\">\n      <th></th>\n      <th>0</th>\n      <th>1</th>\n      <th>2</th>\n      <th>3</th>\n      <th>4</th>\n      <th>5</th>\n      <th>6</th>\n      <th>7</th>\n      <th>8</th>\n    </tr>\n  </thead>\n  <tbody>\n    <tr>\n      <th>0</th>\n      <td>wikipedia-24896-25-30-33-19-21</td>\n      <td>영국에서 사용되는 스포츠 유틸리티 자동차의 브랜드로는  @ * organizatio...</td>\n      <td>랜드로버</td>\n      <td>30</td>\n      <td>33</td>\n      <td>자동차</td>\n      <td>19</td>\n      <td>21</td>\n      <td>단체:제작</td>\n    </tr>\n    <tr>\n      <th>1</th>\n      <td>wikipedia-12728-224-5-7-42-44</td>\n      <td>선거에서  @ * organization * 민주당 @은 해산 전 의석인 230석에...</td>\n      <td>민주당</td>\n      <td>5</td>\n      <td>7</td>\n      <td>27석</td>\n      <td>42</td>\n      <td>44</td>\n      <td>관계_없음</td>\n    </tr>\n    <tr>\n      <th>2</th>\n      <td>wikipedia-28460-3-0-7-9-12</td>\n      <td>@ * organization * 유럽 축구 연맹 @( # ^ organizati...</td>\n      <td>유럽 축구 연맹</td>\n      <td>0</td>\n      <td>7</td>\n      <td>UEFA</td>\n      <td>9</td>\n      <td>12</td>\n      <td>단체:별칭</td>\n    </tr>\n    <tr>\n      <th>3</th>\n      <td>wikipedia-11479-37-24-26-3-5</td>\n      <td>용병 공격수 챠디의 부진과 시즌 초 활약한  @ * person * 강수일 @ # ...</td>\n      <td>강수일</td>\n      <td>24</td>\n      <td>26</td>\n      <td>공격수</td>\n      <td>3</td>\n      <td>5</td>\n      <td>인물:직업/직함</td>\n    </tr>\n    <tr>\n      <th>4</th>\n      <td>wikipedia-15581-6-0-2-32-40</td>\n      <td>@ * location * 람캄행 @ 왕은 1237년에서 1247년 사이 수코타이...</td>\n      <td>람캄행</td>\n      <td>0</td>\n      <td>2</td>\n      <td>퍼쿤 씨 인트라팃</td>\n      <td>32</td>\n      <td>40</td>\n      <td>인물:부모님</td>\n    </tr>\n    <tr>\n      <th>...</th>\n      <td>...</td>\n      <td>...</td>\n      <td>...</td>\n      <td>...</td>\n      <td>...</td>\n      <td>...</td>\n      <td>...</td>\n      <td>...</td>\n      <td>...</td>\n    </tr>\n    <tr>\n      <th>9103</th>\n      <td>wikitree-55169-1-15-17-23-27</td>\n      <td>10일 매체는 방송인  @ * person * 서장훈 @이 모교 연세대 # ^ or...</td>\n      <td>서장훈</td>\n      <td>12</td>\n      <td>14</td>\n      <td>연세대학교</td>\n      <td>23</td>\n      <td>27</td>\n      <td>인물:학교</td>\n    </tr>\n    <tr>\n      <th>9104</th>\n      <td>wikipedia-29295-6-74-76-60-64</td>\n      <td>이때 리천희는 주포 양희승이 아킬레스건 상처를 입었을 때, 주전 선수들이 고려대학교...</td>\n      <td>이규섭</td>\n      <td>74</td>\n      <td>76</td>\n      <td>고려대학교</td>\n      <td>60</td>\n      <td>64</td>\n      <td>인물:학교</td>\n    </tr>\n    <tr>\n      <th>9105</th>\n      <td>wikipedia-9102-0-0-5-49-53</td>\n      <td>@ * person * 다쓰노 긴고 @(1854년 10월 13일~1919년 3월 ...</td>\n      <td>다쓰노 긴고</td>\n      <td>0</td>\n      <td>5</td>\n      <td>고부대학교</td>\n      <td>49</td>\n      <td>53</td>\n      <td>인물:학교</td>\n    </tr>\n    <tr>\n      <th>9106</th>\n      <td>wikipedia-14613-6-76-81-22-27</td>\n      <td>1949년~1950년에는 교환학생으로 파리 대학교에 머물렀고, 여기서 장 룰레 안리...</td>\n      <td>자크 디미에</td>\n      <td>76</td>\n      <td>81</td>\n      <td>파리 대학교</td>\n      <td>22</td>\n      <td>27</td>\n      <td>인물:학교</td>\n    </tr>\n    <tr>\n      <th>9107</th>\n      <td>wikipedia-23776-12-70-72-35-42</td>\n      <td>게다가 1960년 남하라 금지중학교를 졸업하고 그 해에 마산상업고등학교에 입학한 지...</td>\n      <td>김주열</td>\n      <td>70</td>\n      <td>72</td>\n      <td>마산상업고등학교</td>\n      <td>35</td>\n      <td>42</td>\n      <td>인물:학교</td>\n    </tr>\n  </tbody>\n</table>\n<p>9108 rows × 9 columns</p>\n</div>",
      "text/plain": "                                   0  \\\n0     wikipedia-24896-25-30-33-19-21   \n1      wikipedia-12728-224-5-7-42-44   \n2         wikipedia-28460-3-0-7-9-12   \n3       wikipedia-11479-37-24-26-3-5   \n4        wikipedia-15581-6-0-2-32-40   \n...                              ...   \n9103    wikitree-55169-1-15-17-23-27   \n9104   wikipedia-29295-6-74-76-60-64   \n9105      wikipedia-9102-0-0-5-49-53   \n9106   wikipedia-14613-6-76-81-22-27   \n9107  wikipedia-23776-12-70-72-35-42   \n\n                                                      1         2   3   4  \\\n0     영국에서 사용되는 스포츠 유틸리티 자동차의 브랜드로는  @ * organizatio...      랜드로버  30  33   \n1     선거에서  @ * organization * 민주당 @은 해산 전 의석인 230석에...       민주당   5   7   \n2      @ * organization * 유럽 축구 연맹 @( # ^ organizati...  유럽 축구 연맹   0   7   \n3     용병 공격수 챠디의 부진과 시즌 초 활약한  @ * person * 강수일 @ # ...       강수일  24  26   \n4      @ * location * 람캄행 @ 왕은 1237년에서 1247년 사이 수코타이...       람캄행   0   2   \n...                                                 ...       ...  ..  ..   \n9103  10일 매체는 방송인  @ * person * 서장훈 @이 모교 연세대 # ^ or...       서장훈  12  14   \n9104  이때 리천희는 주포 양희승이 아킬레스건 상처를 입었을 때, 주전 선수들이 고려대학교...       이규섭  74  76   \n9105   @ * person * 다쓰노 긴고 @(1854년 10월 13일~1919년 3월 ...    다쓰노 긴고   0   5   \n9106  1949년~1950년에는 교환학생으로 파리 대학교에 머물렀고, 여기서 장 룰레 안리...    자크 디미에  76  81   \n9107  게다가 1960년 남하라 금지중학교를 졸업하고 그 해에 마산상업고등학교에 입학한 지...       김주열  70  72   \n\n              5   6   7         8  \n0           자동차  19  21     단체:제작  \n1           27석  42  44     관계_없음  \n2          UEFA   9  12     단체:별칭  \n3           공격수   3   5  인물:직업/직함  \n4     퍼쿤 씨 인트라팃  32  40    인물:부모님  \n...         ...  ..  ..       ...  \n9103      연세대학교  23  27     인물:학교  \n9104      고려대학교  60  64     인물:학교  \n9105      고부대학교  49  53     인물:학교  \n9106     파리 대학교  22  27     인물:학교  \n9107   마산상업고등학교  35  42     인물:학교  \n\n[9108 rows x 9 columns]"
     },
     "execution_count": 18,
     "metadata": {},
     "output_type": "execute_result"
    }
   ],
   "source": [
    "import pandas as pd\n",
    "final_train_ner = pd.read_csv(\"../input/data/train/final_train_ner.tsv\",sep='\\t')\n",
    "final_external_ner = pd.read_csv(\"../input/data/external_data/final_external_ner.tsv\",sep='\\t')\n",
    "final_test_ner = pd.read_csv(\"../input/data/test/final_test_ner.tsv\",sep='\\t')\n",
    "final_train_ner"
   ]
  },
  {
   "cell_type": "code",
   "execution_count": 10,
   "metadata": {},
   "outputs": [
    {
     "data": {
      "text/html": "<div>\n<style scoped>\n    .dataframe tbody tr th:only-of-type {\n        vertical-align: middle;\n    }\n\n    .dataframe tbody tr th {\n        vertical-align: top;\n    }\n\n    .dataframe thead th {\n        text-align: right;\n    }\n</style>\n<table border=\"1\" class=\"dataframe\">\n  <thead>\n    <tr style=\"text-align: right;\">\n      <th></th>\n      <th>0</th>\n      <th>1</th>\n      <th>2</th>\n      <th>3</th>\n      <th>4</th>\n      <th>5</th>\n      <th>6</th>\n      <th>7</th>\n      <th>8</th>\n    </tr>\n  </thead>\n  <tbody>\n    <tr>\n      <th>0</th>\n      <td>wikipedia-24896-25-30-33-19-21</td>\n      <td>영국에서 사용되는 스포츠 유틸리티 자동차의 브랜드로는  @ * organizatio...</td>\n      <td>랜드로버</td>\n      <td>30</td>\n      <td>33</td>\n      <td>자동차</td>\n      <td>19</td>\n      <td>21</td>\n      <td>단체:제작</td>\n    </tr>\n    <tr>\n      <th>1</th>\n      <td>wikipedia-12728-224-5-7-42-44</td>\n      <td>선거에서  @ * organization * 민주당 @은 해산 전 의석인 230석에...</td>\n      <td>민주당</td>\n      <td>5</td>\n      <td>7</td>\n      <td>27석</td>\n      <td>42</td>\n      <td>44</td>\n      <td>관계_없음</td>\n    </tr>\n    <tr>\n      <th>2</th>\n      <td>wikipedia-28460-3-0-7-9-12</td>\n      <td>@ * organization * 유럽 축구 연맹 @( # ^ organizati...</td>\n      <td>유럽 축구 연맹</td>\n      <td>0</td>\n      <td>7</td>\n      <td>UEFA</td>\n      <td>9</td>\n      <td>12</td>\n      <td>단체:별칭</td>\n    </tr>\n    <tr>\n      <th>3</th>\n      <td>wikipedia-11479-37-24-26-3-5</td>\n      <td>용병 공격수 챠디의 부진과 시즌 초 활약한  @ * person * 강수일 @ # ...</td>\n      <td>강수일</td>\n      <td>24</td>\n      <td>26</td>\n      <td>공격수</td>\n      <td>3</td>\n      <td>5</td>\n      <td>인물:직업/직함</td>\n    </tr>\n    <tr>\n      <th>4</th>\n      <td>wikipedia-15581-6-0-2-32-40</td>\n      <td>@ * location * 람캄행 @ 왕은 1237년에서 1247년 사이 수코타이...</td>\n      <td>람캄행</td>\n      <td>0</td>\n      <td>2</td>\n      <td>퍼쿤 씨 인트라팃</td>\n      <td>32</td>\n      <td>40</td>\n      <td>인물:부모님</td>\n    </tr>\n    <tr>\n      <th>...</th>\n      <td>...</td>\n      <td>...</td>\n      <td>...</td>\n      <td>...</td>\n      <td>...</td>\n      <td>...</td>\n      <td>...</td>\n      <td>...</td>\n      <td>...</td>\n    </tr>\n    <tr>\n      <th>9103</th>\n      <td>wikitree-55169-1-15-17-23-27</td>\n      <td>10일 매체는 방송인  @ * person * 서장훈 @이 모교 연세대 # ^ or...</td>\n      <td>서장훈</td>\n      <td>12</td>\n      <td>14</td>\n      <td>연세대학교</td>\n      <td>23</td>\n      <td>27</td>\n      <td>인물:학교</td>\n    </tr>\n    <tr>\n      <th>9104</th>\n      <td>wikipedia-29295-6-74-76-60-64</td>\n      <td>이때 리천희는 주포 양희승이 아킬레스건 상처를 입었을 때, 주전 선수들이 고려대학교...</td>\n      <td>이규섭</td>\n      <td>74</td>\n      <td>76</td>\n      <td>고려대학교</td>\n      <td>60</td>\n      <td>64</td>\n      <td>인물:학교</td>\n    </tr>\n    <tr>\n      <th>9105</th>\n      <td>wikipedia-9102-0-0-5-49-53</td>\n      <td>@ * person * 다쓰노 긴고 @(1854년 10월 13일~1919년 3월 ...</td>\n      <td>다쓰노 긴고</td>\n      <td>0</td>\n      <td>5</td>\n      <td>고부대학교</td>\n      <td>49</td>\n      <td>53</td>\n      <td>인물:학교</td>\n    </tr>\n    <tr>\n      <th>9106</th>\n      <td>wikipedia-14613-6-76-81-22-27</td>\n      <td>1949년~1950년에는 교환학생으로 파리 대학교에 머물렀고, 여기서 장 룰레 안리...</td>\n      <td>자크 디미에</td>\n      <td>76</td>\n      <td>81</td>\n      <td>파리 대학교</td>\n      <td>22</td>\n      <td>27</td>\n      <td>인물:학교</td>\n    </tr>\n    <tr>\n      <th>9107</th>\n      <td>wikipedia-23776-12-70-72-35-42</td>\n      <td>게다가 1960년 남하라 금지중학교를 졸업하고 그 해에 마산상업고등학교에 입학한 지...</td>\n      <td>김주열</td>\n      <td>70</td>\n      <td>72</td>\n      <td>마산상업고등학교</td>\n      <td>35</td>\n      <td>42</td>\n      <td>인물:학교</td>\n    </tr>\n  </tbody>\n</table>\n<p>9108 rows × 9 columns</p>\n</div>",
      "text/plain": "                                   0  \\\n0     wikipedia-24896-25-30-33-19-21   \n1      wikipedia-12728-224-5-7-42-44   \n2         wikipedia-28460-3-0-7-9-12   \n3       wikipedia-11479-37-24-26-3-5   \n4        wikipedia-15581-6-0-2-32-40   \n...                              ...   \n9103    wikitree-55169-1-15-17-23-27   \n9104   wikipedia-29295-6-74-76-60-64   \n9105      wikipedia-9102-0-0-5-49-53   \n9106   wikipedia-14613-6-76-81-22-27   \n9107  wikipedia-23776-12-70-72-35-42   \n\n                                                      1         2   3   4  \\\n0     영국에서 사용되는 스포츠 유틸리티 자동차의 브랜드로는  @ * organizatio...      랜드로버  30  33   \n1     선거에서  @ * organization * 민주당 @은 해산 전 의석인 230석에...       민주당   5   7   \n2      @ * organization * 유럽 축구 연맹 @( # ^ organizati...  유럽 축구 연맹   0   7   \n3     용병 공격수 챠디의 부진과 시즌 초 활약한  @ * person * 강수일 @ # ...       강수일  24  26   \n4      @ * location * 람캄행 @ 왕은 1237년에서 1247년 사이 수코타이...       람캄행   0   2   \n...                                                 ...       ...  ..  ..   \n9103  10일 매체는 방송인  @ * person * 서장훈 @이 모교 연세대 # ^ or...       서장훈  12  14   \n9104  이때 리천희는 주포 양희승이 아킬레스건 상처를 입었을 때, 주전 선수들이 고려대학교...       이규섭  74  76   \n9105   @ * person * 다쓰노 긴고 @(1854년 10월 13일~1919년 3월 ...    다쓰노 긴고   0   5   \n9106  1949년~1950년에는 교환학생으로 파리 대학교에 머물렀고, 여기서 장 룰레 안리...    자크 디미에  76  81   \n9107  게다가 1960년 남하라 금지중학교를 졸업하고 그 해에 마산상업고등학교에 입학한 지...       김주열  70  72   \n\n              5   6   7         8  \n0           자동차  19  21     단체:제작  \n1           27석  42  44     관계_없음  \n2          UEFA   9  12     단체:별칭  \n3           공격수   3   5  인물:직업/직함  \n4     퍼쿤 씨 인트라팃  32  40    인물:부모님  \n...         ...  ..  ..       ...  \n9103      연세대학교  23  27     인물:학교  \n9104      고려대학교  60  64     인물:학교  \n9105      고부대학교  49  53     인물:학교  \n9106     파리 대학교  22  27     인물:학교  \n9107   마산상업고등학교  35  42     인물:학교  \n\n[9108 rows x 9 columns]"
     },
     "execution_count": 10,
     "metadata": {},
     "output_type": "execute_result"
    }
   ],
   "source": [
    "final_train_ner"
   ]
  },
  {
   "cell_type": "code",
   "execution_count": 7,
   "metadata": {},
   "outputs": [
    {
     "data": {
      "text/plain": "0"
     },
     "execution_count": 7,
     "metadata": {},
     "output_type": "execute_result"
    }
   ],
   "source": [
    "sum(final_external_ner.iloc[:,8].apply(lambda x: '8' in x))\n"
   ]
  },
  {
   "cell_type": "code",
   "execution_count": 186,
   "metadata": {},
   "outputs": [],
   "source": [
    "final_train_ner.to_csv('../input/data/train/final_train_ner.tsv',sep='\\t',index=False)\n",
    "final_external_ner.to_csv('../input/data/external_data/final_external_ner.tsv',sep='\\t',index=False)\n",
    "final_test_ner.to_csv('../input/data/test/final_test_ner.tsv',sep='\\t',index=False)\n"
   ]
  },
  {
   "cell_type": "code",
   "execution_count": 522,
   "metadata": {},
   "outputs": [
    {
     "data": {
      "text/plain": "'∧'"
     },
     "execution_count": 522,
     "metadata": {},
     "output_type": "execute_result"
    }
   ],
   "source": [
    "'∧'"
   ]
  }
 ],
 "metadata": {
  "kernelspec": {
   "display_name": "Python 3.7.7 64-bit ('conda': virtualenv)",
   "language": "python",
   "name": "python377jvsc74a57bd098b0a9b7b4eaaa670588a142fd0a9b87eaafe866f1db4228be72b4211d12040f"
  },
  "language_info": {
   "codemirror_mode": {
    "name": "ipython",
    "version": 3
   },
   "file_extension": ".py",
   "mimetype": "text/x-python",
   "name": "python",
   "nbconvert_exporter": "python",
   "pygments_lexer": "ipython3",
   "version": "3.7.7"
  },
  "orig_nbformat": 2
 },
 "nbformat": 4,
 "nbformat_minor": 2
}