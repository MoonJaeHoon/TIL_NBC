{
 "cells": [
  {
   "cell_type": "markdown",
   "id": "unsigned-amazon",
   "metadata": {},
   "source": [
    "# Pythonic Code\n",
    "- 파이썬 특유의 문법을 활용하여 효율적으로 코드를 표현함\n",
    "- 고급 코드를 작성하기 위해선 필수적임"
   ]
  },
  {
   "cell_type": "markdown",
   "id": "prostate-productivity",
   "metadata": {},
   "source": [
    "- 왜 Pythonic Code를 쓰는가?\n",
    "\n",
    "    - 코드에 대한 이해도\n",
    "        * 많은 개발자들이 python 스타일로 코딩함.\n",
    "    - 효율\n",
    "        * 단순 for loop append보다 list-comprehension이 조금 더 빠르다\n",
    "        * 코드도 짧아진다."
   ]
  },
  {
   "cell_type": "markdown",
   "id": "exciting-thinking",
   "metadata": {},
   "source": [
    "> 바로 예시를 하나 보겠습니다\n",
    "\n"
   ]
  },
  {
   "cell_type": "code",
   "execution_count": 4,
   "id": "minimal-supplement",
   "metadata": {},
   "outputs": [
    {
     "data": {
      "text/plain": [
       "'redbluegreenblack'"
      ]
     },
     "execution_count": 4,
     "metadata": {},
     "output_type": "execute_result"
    }
   ],
   "source": [
    "# ex) 여러 단어들을 하나로 붙일 때\n",
    "\n",
    "colors = ['red','blue','green','black']\n",
    "result = ''\n",
    "for s in colors:\n",
    "    result+=s\n",
    "result"
   ]
  },
  {
   "cell_type": "code",
   "execution_count": 6,
   "id": "african-explosion",
   "metadata": {},
   "outputs": [
    {
     "data": {
      "text/plain": [
       "'redbluegreenblack'"
      ]
     },
     "execution_count": 6,
     "metadata": {},
     "output_type": "execute_result"
    }
   ],
   "source": [
    "# 아래의 코드가 for loop도 쓰지 않았고, 보기에도 깔끔하다\n",
    "colors = ['red','blue','green','black']\n",
    "result = ''.join(colors)\n",
    "result"
   ]
  },
  {
   "cell_type": "markdown",
   "id": "grave-authorization",
   "metadata": {},
   "source": [
    "- pythonic 코드 활용 예시들\n",
    "\n",
    "    1) split&join\\\n",
    "    2) list comprehension\\\n",
    "    3) enumerate & zip\\\n",
    "    4) lambda & map & reduce\\\n",
    "    5) generator\\\n",
    "    6) asterisk"
   ]
  },
  {
   "cell_type": "markdown",
   "id": "electoral-coffee",
   "metadata": {},
   "source": [
    "> 코딩테스트를 준비하며 다뤄본 함수들이 많다. 깊게 공부해보지 않았던 함수 몇가지만 정리하도록 하겠다\n",
    "\n",
    "        - reduce, generator, asterisk"
   ]
  },
  {
   "cell_type": "code",
   "execution_count": 36,
   "id": "quantitative-spiritual",
   "metadata": {},
   "outputs": [],
   "source": [
    "# reduce vs map"
   ]
  },
  {
   "cell_type": "code",
   "execution_count": 37,
   "id": "statistical-platinum",
   "metadata": {},
   "outputs": [],
   "source": [
    "input_list = [1,2,3,4,5]\n",
    "f = lambda x, y : x + y"
   ]
  },
  {
   "cell_type": "code",
   "execution_count": 38,
   "id": "representative-luxembourg",
   "metadata": {},
   "outputs": [
    {
     "data": {
      "text/plain": [
       "[2, 4, 6, 8, 10]"
      ]
     },
     "execution_count": 38,
     "metadata": {},
     "output_type": "execute_result"
    }
   ],
   "source": [
    "# map\n",
    "map_output = list(map(f , input_list, input_list)) # lambda x,y를 적용하니 마치 zip 같은\n",
    "map_output"
   ]
  },
  {
   "cell_type": "code",
   "execution_count": 39,
   "id": "improving-witness",
   "metadata": {},
   "outputs": [
    {
     "data": {
      "text/plain": [
       "15"
      ]
     },
     "execution_count": 39,
     "metadata": {},
     "output_type": "execute_result"
    }
   ],
   "source": [
    "# reduce\n",
    "from functools import reduce\n",
    "reduce_output = reduce(f , input_list)\n",
    "reduce_output"
   ]
  },
  {
   "cell_type": "code",
   "execution_count": 40,
   "id": "perfect-guide",
   "metadata": {},
   "outputs": [
    {
     "data": {
      "text/plain": [
       "<map at 0x26d5ba52910>"
      ]
     },
     "execution_count": 40,
     "metadata": {},
     "output_type": "execute_result"
    }
   ],
   "source": [
    "# map\n",
    "map_output = map(sum , input_list)\n",
    "map_output"
   ]
  },
  {
   "cell_type": "code",
   "execution_count": 41,
   "id": "united-healthcare",
   "metadata": {},
   "outputs": [
    {
     "data": {
      "text/plain": [
       "15"
      ]
     },
     "execution_count": 41,
     "metadata": {},
     "output_type": "execute_result"
    }
   ],
   "source": [
    "f_r = lambda x,y : x+y\n",
    "\n",
    "from functools import reduce\n",
    "reduce_output = reduce(f_r , input_list)\n",
    "reduce_output"
   ]
  },
  {
   "cell_type": "code",
   "execution_count": 60,
   "id": "occupational-scenario",
   "metadata": {},
   "outputs": [
    {
     "data": {
      "text/plain": [
       "65"
      ]
     },
     "execution_count": 60,
     "metadata": {},
     "output_type": "execute_result"
    }
   ],
   "source": [
    "## reduce는 default 인자가 있다\n",
    "from functools import reduce\n",
    "reduce_output = reduce(f_r , input_list, 50 ) # 50 + 15\n",
    "reduce_output\n"
   ]
  },
  {
   "cell_type": "code",
   "execution_count": 43,
   "id": "scheduled-mexican",
   "metadata": {},
   "outputs": [],
   "source": [
    "# generator vs iterator"
   ]
  },
  {
   "cell_type": "code",
   "execution_count": 69,
   "id": "extensive-amsterdam",
   "metadata": {},
   "outputs": [],
   "source": [
    "def general_list(value):\n",
    "    result = []\n",
    "    for i in range(value):\n",
    "        result.append(i)\n",
    "    return result\n",
    "result = general_list(100000)\n",
    "#print(result)"
   ]
  },
  {
   "cell_type": "code",
   "execution_count": 70,
   "id": "asian-membrane",
   "metadata": {},
   "outputs": [
    {
     "data": {
      "text/plain": [
       "824456"
      ]
     },
     "execution_count": 70,
     "metadata": {},
     "output_type": "execute_result"
    }
   ],
   "source": [
    "import sys\n",
    "sys.getsizeof(result)"
   ]
  },
  {
   "cell_type": "code",
   "execution_count": 71,
   "id": "dominant-guidance",
   "metadata": {},
   "outputs": [
    {
     "data": {
      "text/plain": [
       "<generator object generator_list at 0x0000026D5D662740>"
      ]
     },
     "execution_count": 71,
     "metadata": {},
     "output_type": "execute_result"
    }
   ],
   "source": [
    "def generator_list(value):\n",
    "    for i in range(value):\n",
    "        yield i\n",
    "        \n",
    "generator_list(100000)"
   ]
  },
  {
   "cell_type": "code",
   "execution_count": 72,
   "id": "ethical-attitude",
   "metadata": {},
   "outputs": [],
   "source": [
    "result_generator = [i for i in generator_list(100000)]\n",
    "#print(result_generator)"
   ]
  },
  {
   "cell_type": "code",
   "execution_count": 73,
   "id": "necessary-summary",
   "metadata": {},
   "outputs": [
    {
     "name": "stdout",
     "output_type": "stream",
     "text": [
      "112\n",
      "824456\n"
     ]
    }
   ],
   "source": [
    "print(sys.getsizeof(generator_list(50)))\n",
    "print(sys.getsizeof(result_generator))"
   ]
  },
  {
   "cell_type": "code",
   "execution_count": 58,
   "id": "governing-flour",
   "metadata": {},
   "outputs": [
    {
     "data": {
      "text/plain": [
       "<generator object <genexpr> at 0x0000026D5D635CF0>"
      ]
     },
     "execution_count": 58,
     "metadata": {},
     "output_type": "execute_result"
    }
   ],
   "source": [
    "(n*n for n in range(500))"
   ]
  },
  {
   "cell_type": "markdown",
   "id": "affecting-colleague",
   "metadata": {},
   "source": [
    "> generator를 어디에 활용할 수 있을까?\n",
    "\n",
    "        - list comprehension vs generator"
   ]
  },
  {
   "cell_type": "code",
   "execution_count": 84,
   "id": "funky-tracy",
   "metadata": {},
   "outputs": [],
   "source": [
    "two_dim_list = [[i,i*3] for i in range(10000000)] # input list"
   ]
  },
  {
   "cell_type": "code",
   "execution_count": 85,
   "id": "precious-mortgage",
   "metadata": {},
   "outputs": [],
   "source": [
    "# 이차원리스트 내의 모든 원소의 합"
   ]
  },
  {
   "cell_type": "code",
   "execution_count": 87,
   "id": "surprised-evans",
   "metadata": {},
   "outputs": [
    {
     "name": "stdout",
     "output_type": "stream",
     "text": [
      "1.43 s ± 14.2 ms per loop (mean ± std. dev. of 2 runs, 5 loops each)\n"
     ]
    }
   ],
   "source": [
    "%timeit -n 5 -r 2  sum([i+j for i,j in two_dim_list])"
   ]
  },
  {
   "cell_type": "code",
   "execution_count": 88,
   "id": "guilty-imaging",
   "metadata": {},
   "outputs": [
    {
     "name": "stdout",
     "output_type": "stream",
     "text": [
      "1.21 s ± 10.8 ms per loop (mean ± std. dev. of 2 runs, 5 loops each)\n"
     ]
    }
   ],
   "source": [
    "%timeit -n 5 -r 2  sum(i+j for i,j in two_dim_list)"
   ]
  },
  {
   "cell_type": "code",
   "execution_count": 89,
   "id": "supposed-cleaners",
   "metadata": {},
   "outputs": [],
   "source": [
    "# 아주 약간의 차이지만 근소하게 generator가 효율이 좋다고 할 수 있다.\n",
    "# 사실 시간복잡도는 어차피 같을 것이기 때문에 메모리 사용량의 차이로 인해 발생한 차이일 것이다.\n",
    "# 어쨌든, 위와 같이 sum, max 등 iterable 객체 혹은 generator를 모두 인자로 받을 수 있는 함수의 경우에는 generator를 입력값으로 선택하는 것이 좋겠다.\n",
    "# 두 가지 모두 효율성이 좋은 코드임에는 틀림없다."
   ]
  },
  {
   "cell_type": "markdown",
   "id": "changing-indianapolis",
   "metadata": {},
   "source": [
    "- generator vs iterator\n",
    ">    1) generator와 iterator 간의 차이는 iterator는 next() 함수를 통해 순차적 호출이 가능한 object\n",
    ">    \n",
    ">    2) generator는 iterator 만들어지기 전, 내부 함수에서 yeild 문을 통해 iterator를 생성하는 함수\n",
    ">    \n",
    ">    3) 그렇기에 일반함수와 generator의 가장 큰 차이점은 yield의 존재유무\n",
    ">    \n",
    ">    4) 일반함수의 경우 함수 내부의 모든 구문을 실행하고 마지막에 return 값 하나를 반환함으로써 함수가 종료됨. (즉, 한번 함수를 호출 할때마다 모든값을 포함하여 return값을 반환받는 구조)\n",
    ">    \n",
    ">    5) 하지만 generator의 경우 next()로 호출할 때마다 yield를 통해 iterator를 반환하고 그 시점에서 일시정지 상태로 다음 next호출을 기다림. (즉, 필요할 때만 메모리를 반환받아서 사용하게 됨)\n",
    ">    \n",
    ">    6) 그렇기에 작은 메모리를 사용함으로써 효율적으로 대용량의 반복 가능한 구조를 순회할 수 있는 것이 메모리 관리에 있어서 큰 장점이 됨"
   ]
  },
  {
   "cell_type": "markdown",
   "id": "intellectual-stretch",
   "metadata": {},
   "source": [
    "- generator 실제 활용될만한 부분\n",
    "> - 설명 드렸듯이, generator의 특성은 함수를 종료시키지 않고 필요할때 호출에 의해 yield를 통해 iterator를 반환하는 형태이므로 loop가 중간에 잠깐 중단될 때 사용 가능하다는 것이다.\n",
    "> - generator를 ouput으로 사용하는 함수에는 대표적인 예시로 기본적인 내장함수들 : `map`, `filter`, `reduce` 와 `itertools` 모듈의 `combinations`, `permutations`, `product` 함수들이 있다"
   ]
  },
  {
   "cell_type": "code",
   "execution_count": 97,
   "id": "starting-handling",
   "metadata": {},
   "outputs": [
    {
     "name": "stdout",
     "output_type": "stream",
     "text": [
      "0\n",
      "1\n",
      "2\n",
      "3\n",
      "4\n",
      "5\n",
      "6\n",
      "7\n",
      "8\n",
      "9\n",
      "10\n",
      "11\n",
      "12\n",
      "13\n",
      "14\n",
      "15\n",
      "16\n",
      "17\n",
      "18\n",
      "19\n",
      "20\n",
      "21\n",
      "22\n",
      "23\n",
      "24\n",
      "25\n"
     ]
    }
   ],
   "source": [
    "def generator_list(value):\n",
    "    for i in range(value):\n",
    "        yield i\n",
    "\n",
    "result = generator_list(50)\n",
    "for i in result:\n",
    "    print(i)\n",
    "    if i == 25:\n",
    "        break"
   ]
  },
  {
   "cell_type": "code",
   "execution_count": 98,
   "id": "miniature-strike",
   "metadata": {
    "scrolled": true
   },
   "outputs": [
    {
     "name": "stdout",
     "output_type": "stream",
     "text": [
      "26\n",
      "27\n",
      "28\n",
      "29\n",
      "30\n",
      "31\n",
      "32\n",
      "33\n",
      "34\n",
      "35\n",
      "36\n",
      "37\n",
      "38\n",
      "39\n",
      "40\n",
      "41\n",
      "42\n",
      "43\n",
      "44\n",
      "45\n",
      "46\n",
      "47\n",
      "48\n",
      "49\n"
     ]
    }
   ],
   "source": [
    "for i in result:\n",
    "    print(i)"
   ]
  },
  {
   "cell_type": "code",
   "execution_count": null,
   "id": "quiet-mexican",
   "metadata": {},
   "outputs": [],
   "source": [
    "# yield문은 중간에 끊기면 해당지점을 기억하고 있음, 이것이 계속해서 메모리를 차지하고 있다는 뜻이 아니라\n",
    "# 실행될때, 필요할 때만 메모리를 받아서 사용하는 녀석이다.\n",
    "# 따라서 메모리 관리 측면에서 좋음"
   ]
  },
  {
   "cell_type": "code",
   "execution_count": null,
   "id": "ongoing-present",
   "metadata": {},
   "outputs": [],
   "source": []
  },
  {
   "cell_type": "code",
   "execution_count": null,
   "id": "trying-equipment",
   "metadata": {},
   "outputs": [],
   "source": []
  },
  {
   "cell_type": "code",
   "execution_count": null,
   "id": "legitimate-scratch",
   "metadata": {},
   "outputs": [],
   "source": [
    "## asterisk"
   ]
  },
  {
   "cell_type": "code",
   "execution_count": 1,
   "id": "breathing-imagination",
   "metadata": {},
   "outputs": [
    {
     "name": "stdout",
     "output_type": "stream",
     "text": [
      "1 (2, 3, 4, 5, 6)\n",
      "<class 'tuple'>\n"
     ]
    }
   ],
   "source": [
    "def asterisk_test(a, *args):\n",
    "    print(a, args)\n",
    "    print(type(args))\n",
    "\n",
    "asterisk_test(1,2,3,4,5,6)"
   ]
  },
  {
   "cell_type": "code",
   "execution_count": 2,
   "id": "indonesian-walnut",
   "metadata": {},
   "outputs": [
    {
     "name": "stdout",
     "output_type": "stream",
     "text": [
      "1 {'b': 2, 'c': 3, 'd': 4, 'e': 5, 'f': 6}\n",
      "<class 'dict'>\n"
     ]
    }
   ],
   "source": [
    "def asterisk_test(a, **kargs):\n",
    "    print(a, kargs)\n",
    "    print(type(kargs))\n",
    "\n",
    "asterisk_test(1, b=2, c=3, d=4, e=5, f=6)"
   ]
  },
  {
   "cell_type": "code",
   "execution_count": 3,
   "id": "filled-quarter",
   "metadata": {},
   "outputs": [
    {
     "name": "stdout",
     "output_type": "stream",
     "text": [
      "1 (2, 3, 4, 5, 6)\n",
      "<class 'tuple'>\n"
     ]
    }
   ],
   "source": [
    "def asterisk_test(a, *args):\n",
    "    print(a, args[0])\n",
    "    print(type(args))\n",
    "\n",
    "\n",
    "asterisk_test(1, (2, 3, 4, 5, 6))"
   ]
  },
  {
   "cell_type": "code",
   "execution_count": 99,
   "id": "innocent-argentina",
   "metadata": {},
   "outputs": [
    {
     "name": "stdout",
     "output_type": "stream",
     "text": [
      "[1, 2] [3, 4] [5, 6]\n"
     ]
    }
   ],
   "source": [
    "data = ([1, 2], [3, 4], [5, 6])\n",
    "print(*data)"
   ]
  },
  {
   "cell_type": "code",
   "execution_count": 7,
   "id": "amateur-context",
   "metadata": {},
   "outputs": [
    {
     "name": "stdout",
     "output_type": "stream",
     "text": [
      "9\n",
      "12\n"
     ]
    }
   ],
   "source": [
    "for data in zip(*([1, 2], [3, 4], [5, 6])):\n",
    "    print(sum(data))"
   ]
  },
  {
   "cell_type": "code",
   "execution_count": 10,
   "id": "promising-avatar",
   "metadata": {},
   "outputs": [
    {
     "ename": "TypeError",
     "evalue": "asterisk_test() got an unexpected keyword argument 'f'",
     "output_type": "error",
     "traceback": [
      "\u001b[1;31m---------------------------------------------------------------------------\u001b[0m",
      "\u001b[1;31mTypeError\u001b[0m                                 Traceback (most recent call last)",
      "\u001b[1;32m<ipython-input-10-342a74d6047e>\u001b[0m in \u001b[0;36m<module>\u001b[1;34m\u001b[0m\n\u001b[0;32m      4\u001b[0m \u001b[1;33m\u001b[0m\u001b[0m\n\u001b[0;32m      5\u001b[0m \u001b[0mdata\u001b[0m \u001b[1;33m=\u001b[0m \u001b[1;33m{\u001b[0m\u001b[1;34m\"d\"\u001b[0m\u001b[1;33m:\u001b[0m\u001b[1;36m1\u001b[0m \u001b[1;33m,\u001b[0m \u001b[1;34m\"c\"\u001b[0m\u001b[1;33m:\u001b[0m\u001b[1;36m2\u001b[0m\u001b[1;33m,\u001b[0m \u001b[1;34m\"b\"\u001b[0m\u001b[1;33m:\u001b[0m\u001b[1;36m3\u001b[0m\u001b[1;33m,\u001b[0m \u001b[1;34m\"f\"\u001b[0m\u001b[1;33m:\u001b[0m\u001b[1;36m56\u001b[0m\u001b[1;33m}\u001b[0m\u001b[1;33m\u001b[0m\u001b[1;33m\u001b[0m\u001b[0m\n\u001b[1;32m----> 6\u001b[1;33m \u001b[0masterisk_test\u001b[0m\u001b[1;33m(\u001b[0m\u001b[1;36m10\u001b[0m\u001b[1;33m,\u001b[0m \u001b[1;33m**\u001b[0m\u001b[0mdata\u001b[0m\u001b[1;33m)\u001b[0m\u001b[1;33m\u001b[0m\u001b[1;33m\u001b[0m\u001b[0m\n\u001b[0m",
      "\u001b[1;31mTypeError\u001b[0m: asterisk_test() got an unexpected keyword argument 'f'"
     ]
    }
   ],
   "source": [
    "def asterisk_test(a, b, c, d, e=0):\n",
    "    print(a, b, c, d, e)\n",
    "\n",
    "\n",
    "data = {\"d\":1 , \"c\":2, \"b\":3, \"f\":56}\n",
    "asterisk_test(10, **data)"
   ]
  },
  {
   "cell_type": "code",
   "execution_count": null,
   "id": "complex-detail",
   "metadata": {},
   "outputs": [],
   "source": []
  }
 ],
 "metadata": {
  "kernelspec": {
   "display_name": "Python 3",
   "language": "python",
   "name": "python3"
  },
  "language_info": {
   "codemirror_mode": {
    "name": "ipython",
    "version": 3
   },
   "file_extension": ".py",
   "mimetype": "text/x-python",
   "name": "python",
   "nbconvert_exporter": "python",
   "pygments_lexer": "ipython3",
   "version": "3.8.7"
  },
  "toc": {
   "base_numbering": 1,
   "nav_menu": {},
   "number_sections": true,
   "sideBar": true,
   "skip_h1_title": false,
   "title_cell": "Table of Contents",
   "title_sidebar": "Contents",
   "toc_cell": false,
   "toc_position": {
    "height": "calc(100% - 180px)",
    "left": "10px",
    "top": "150px",
    "width": "165px"
   },
   "toc_section_display": true,
   "toc_window_display": false
  }
 },
 "nbformat": 4,
 "nbformat_minor": 5
}
